{
 "cells": [
  {
   "cell_type": "code",
   "id": "initial_id",
   "metadata": {
    "collapsed": true,
    "jupyter": {
     "outputs_hidden": true
    },
    "ExecuteTime": {
     "end_time": "2024-10-23T12:48:07.541080Z",
     "start_time": "2024-10-23T12:48:02.271276Z"
    }
   },
   "source": [
    "import pandas as pd\n",
    "import numpy as np\n",
    "\n",
    "import matplotlib.pyplot as plt"
   ],
   "outputs": [],
   "execution_count": 2
  },
  {
   "cell_type": "markdown",
   "id": "3ca04fc2059924c6",
   "metadata": {},
   "source": [
    "# 3.2 - Data Preparation"
   ]
  },
  {
   "cell_type": "code",
   "execution_count": 3,
   "id": "4b19f5893a6793f3",
   "metadata": {
    "ExecuteTime": {
     "end_time": "2024-10-21T16:39:40.271978Z",
     "start_time": "2024-10-21T16:39:39.841835Z"
    }
   },
   "outputs": [
    {
     "data": {
      "text/plain": [
       "('data/data.csv', <http.client.HTTPMessage at 0x2808c33d370>)"
      ]
     },
     "execution_count": 3,
     "metadata": {},
     "output_type": "execute_result"
    }
   ],
   "source": [
    "import urllib.request\n",
    "url = 'https://raw.githubusercontent.com/alexeygrigorev/mlbookcamp-code/refs/heads/master/chapter-03-churn-prediction/WA_Fn-UseC_-Telco-Customer-Churn.csv'\n",
    "filename = 'data/data.csv'\n",
    "urllib.request.urlretrieve(url, filename)"
   ]
  },
  {
   "cell_type": "code",
   "id": "5e4ec4497eac1015",
   "metadata": {
    "ExecuteTime": {
     "end_time": "2024-10-23T12:48:19.452603Z",
     "start_time": "2024-10-23T12:48:19.330970Z"
    }
   },
   "source": [
    "filename = 'data/data.csv'\n",
    "df = pd.read_csv(filename)\n",
    "df.head()"
   ],
   "outputs": [
    {
     "data": {
      "text/plain": [
       "   customerID  gender  SeniorCitizen Partner Dependents  tenure PhoneService  \\\n",
       "0  7590-VHVEG  Female              0     Yes         No       1           No   \n",
       "1  5575-GNVDE    Male              0      No         No      34          Yes   \n",
       "2  3668-QPYBK    Male              0      No         No       2          Yes   \n",
       "3  7795-CFOCW    Male              0      No         No      45           No   \n",
       "4  9237-HQITU  Female              0      No         No       2          Yes   \n",
       "\n",
       "      MultipleLines InternetService OnlineSecurity  ... DeviceProtection  \\\n",
       "0  No phone service             DSL             No  ...               No   \n",
       "1                No             DSL            Yes  ...              Yes   \n",
       "2                No             DSL            Yes  ...               No   \n",
       "3  No phone service             DSL            Yes  ...              Yes   \n",
       "4                No     Fiber optic             No  ...               No   \n",
       "\n",
       "  TechSupport StreamingTV StreamingMovies        Contract PaperlessBilling  \\\n",
       "0          No          No              No  Month-to-month              Yes   \n",
       "1          No          No              No        One year               No   \n",
       "2          No          No              No  Month-to-month              Yes   \n",
       "3         Yes          No              No        One year               No   \n",
       "4          No          No              No  Month-to-month              Yes   \n",
       "\n",
       "               PaymentMethod MonthlyCharges  TotalCharges Churn  \n",
       "0           Electronic check          29.85         29.85    No  \n",
       "1               Mailed check          56.95        1889.5    No  \n",
       "2               Mailed check          53.85        108.15   Yes  \n",
       "3  Bank transfer (automatic)          42.30       1840.75    No  \n",
       "4           Electronic check          70.70        151.65   Yes  \n",
       "\n",
       "[5 rows x 21 columns]"
      ],
      "text/html": [
       "<div>\n",
       "<style scoped>\n",
       "    .dataframe tbody tr th:only-of-type {\n",
       "        vertical-align: middle;\n",
       "    }\n",
       "\n",
       "    .dataframe tbody tr th {\n",
       "        vertical-align: top;\n",
       "    }\n",
       "\n",
       "    .dataframe thead th {\n",
       "        text-align: right;\n",
       "    }\n",
       "</style>\n",
       "<table border=\"1\" class=\"dataframe\">\n",
       "  <thead>\n",
       "    <tr style=\"text-align: right;\">\n",
       "      <th></th>\n",
       "      <th>customerID</th>\n",
       "      <th>gender</th>\n",
       "      <th>SeniorCitizen</th>\n",
       "      <th>Partner</th>\n",
       "      <th>Dependents</th>\n",
       "      <th>tenure</th>\n",
       "      <th>PhoneService</th>\n",
       "      <th>MultipleLines</th>\n",
       "      <th>InternetService</th>\n",
       "      <th>OnlineSecurity</th>\n",
       "      <th>...</th>\n",
       "      <th>DeviceProtection</th>\n",
       "      <th>TechSupport</th>\n",
       "      <th>StreamingTV</th>\n",
       "      <th>StreamingMovies</th>\n",
       "      <th>Contract</th>\n",
       "      <th>PaperlessBilling</th>\n",
       "      <th>PaymentMethod</th>\n",
       "      <th>MonthlyCharges</th>\n",
       "      <th>TotalCharges</th>\n",
       "      <th>Churn</th>\n",
       "    </tr>\n",
       "  </thead>\n",
       "  <tbody>\n",
       "    <tr>\n",
       "      <th>0</th>\n",
       "      <td>7590-VHVEG</td>\n",
       "      <td>Female</td>\n",
       "      <td>0</td>\n",
       "      <td>Yes</td>\n",
       "      <td>No</td>\n",
       "      <td>1</td>\n",
       "      <td>No</td>\n",
       "      <td>No phone service</td>\n",
       "      <td>DSL</td>\n",
       "      <td>No</td>\n",
       "      <td>...</td>\n",
       "      <td>No</td>\n",
       "      <td>No</td>\n",
       "      <td>No</td>\n",
       "      <td>No</td>\n",
       "      <td>Month-to-month</td>\n",
       "      <td>Yes</td>\n",
       "      <td>Electronic check</td>\n",
       "      <td>29.85</td>\n",
       "      <td>29.85</td>\n",
       "      <td>No</td>\n",
       "    </tr>\n",
       "    <tr>\n",
       "      <th>1</th>\n",
       "      <td>5575-GNVDE</td>\n",
       "      <td>Male</td>\n",
       "      <td>0</td>\n",
       "      <td>No</td>\n",
       "      <td>No</td>\n",
       "      <td>34</td>\n",
       "      <td>Yes</td>\n",
       "      <td>No</td>\n",
       "      <td>DSL</td>\n",
       "      <td>Yes</td>\n",
       "      <td>...</td>\n",
       "      <td>Yes</td>\n",
       "      <td>No</td>\n",
       "      <td>No</td>\n",
       "      <td>No</td>\n",
       "      <td>One year</td>\n",
       "      <td>No</td>\n",
       "      <td>Mailed check</td>\n",
       "      <td>56.95</td>\n",
       "      <td>1889.5</td>\n",
       "      <td>No</td>\n",
       "    </tr>\n",
       "    <tr>\n",
       "      <th>2</th>\n",
       "      <td>3668-QPYBK</td>\n",
       "      <td>Male</td>\n",
       "      <td>0</td>\n",
       "      <td>No</td>\n",
       "      <td>No</td>\n",
       "      <td>2</td>\n",
       "      <td>Yes</td>\n",
       "      <td>No</td>\n",
       "      <td>DSL</td>\n",
       "      <td>Yes</td>\n",
       "      <td>...</td>\n",
       "      <td>No</td>\n",
       "      <td>No</td>\n",
       "      <td>No</td>\n",
       "      <td>No</td>\n",
       "      <td>Month-to-month</td>\n",
       "      <td>Yes</td>\n",
       "      <td>Mailed check</td>\n",
       "      <td>53.85</td>\n",
       "      <td>108.15</td>\n",
       "      <td>Yes</td>\n",
       "    </tr>\n",
       "    <tr>\n",
       "      <th>3</th>\n",
       "      <td>7795-CFOCW</td>\n",
       "      <td>Male</td>\n",
       "      <td>0</td>\n",
       "      <td>No</td>\n",
       "      <td>No</td>\n",
       "      <td>45</td>\n",
       "      <td>No</td>\n",
       "      <td>No phone service</td>\n",
       "      <td>DSL</td>\n",
       "      <td>Yes</td>\n",
       "      <td>...</td>\n",
       "      <td>Yes</td>\n",
       "      <td>Yes</td>\n",
       "      <td>No</td>\n",
       "      <td>No</td>\n",
       "      <td>One year</td>\n",
       "      <td>No</td>\n",
       "      <td>Bank transfer (automatic)</td>\n",
       "      <td>42.30</td>\n",
       "      <td>1840.75</td>\n",
       "      <td>No</td>\n",
       "    </tr>\n",
       "    <tr>\n",
       "      <th>4</th>\n",
       "      <td>9237-HQITU</td>\n",
       "      <td>Female</td>\n",
       "      <td>0</td>\n",
       "      <td>No</td>\n",
       "      <td>No</td>\n",
       "      <td>2</td>\n",
       "      <td>Yes</td>\n",
       "      <td>No</td>\n",
       "      <td>Fiber optic</td>\n",
       "      <td>No</td>\n",
       "      <td>...</td>\n",
       "      <td>No</td>\n",
       "      <td>No</td>\n",
       "      <td>No</td>\n",
       "      <td>No</td>\n",
       "      <td>Month-to-month</td>\n",
       "      <td>Yes</td>\n",
       "      <td>Electronic check</td>\n",
       "      <td>70.70</td>\n",
       "      <td>151.65</td>\n",
       "      <td>Yes</td>\n",
       "    </tr>\n",
       "  </tbody>\n",
       "</table>\n",
       "<p>5 rows × 21 columns</p>\n",
       "</div>"
      ]
     },
     "execution_count": 3,
     "metadata": {},
     "output_type": "execute_result"
    }
   ],
   "execution_count": 3
  },
  {
   "cell_type": "code",
   "id": "447b4aee1d6f8e91",
   "metadata": {
    "ExecuteTime": {
     "end_time": "2024-10-23T12:48:22.008376Z",
     "start_time": "2024-10-23T12:48:21.871886Z"
    }
   },
   "source": [
    "df.columns = df.columns.str.lower().str.replace(' ', '_')\n",
    "categorical_columns = list(df.dtypes[df.dtypes == 'object'].index)\n",
    "\n",
    "for col in categorical_columns:\n",
    "    df[col] = df[col].str.lower().str.replace(' ', '_')"
   ],
   "outputs": [],
   "execution_count": 4
  },
  {
   "cell_type": "code",
   "id": "29d69f8ea061f8e6",
   "metadata": {
    "ExecuteTime": {
     "end_time": "2024-10-23T12:48:23.298523Z",
     "start_time": "2024-10-23T12:48:23.276265Z"
    }
   },
   "source": [
    "df.totalcharges = pd.to_numeric(df.totalcharges, errors='coerce')"
   ],
   "outputs": [],
   "execution_count": 5
  },
  {
   "cell_type": "code",
   "id": "b58d57f5000e02bf",
   "metadata": {
    "ExecuteTime": {
     "end_time": "2024-10-23T12:48:24.006689Z",
     "start_time": "2024-10-23T12:48:23.995504Z"
    }
   },
   "source": [
    "df.totalcharges = df.totalcharges.fillna(0)"
   ],
   "outputs": [],
   "execution_count": 6
  },
  {
   "cell_type": "code",
   "id": "f065be3a14664a90",
   "metadata": {
    "ExecuteTime": {
     "end_time": "2024-10-23T12:48:25.138384Z",
     "start_time": "2024-10-23T12:48:25.128962Z"
    }
   },
   "source": [
    "df.churn = (df.churn == 'yes').astype(int)"
   ],
   "outputs": [],
   "execution_count": 7
  },
  {
   "cell_type": "markdown",
   "id": "1137287b68b0bdb3",
   "metadata": {},
   "source": [
    "# 3.3 Setting up the validation framework"
   ]
  },
  {
   "cell_type": "code",
   "id": "38f69cb91a5ec0d5",
   "metadata": {
    "ExecuteTime": {
     "end_time": "2024-10-23T12:48:36.854624Z",
     "start_time": "2024-10-23T12:48:29.997448Z"
    }
   },
   "source": [
    "from sklearn.model_selection import train_test_split"
   ],
   "outputs": [],
   "execution_count": 8
  },
  {
   "cell_type": "code",
   "id": "dd2d1704a085abcf",
   "metadata": {
    "ExecuteTime": {
     "end_time": "2024-10-23T12:48:36.885854Z",
     "start_time": "2024-10-23T12:48:36.861630Z"
    }
   },
   "source": [
    "df_full_train, df_test = train_test_split(df, test_size=0.2, random_state=1)"
   ],
   "outputs": [],
   "execution_count": 9
  },
  {
   "cell_type": "code",
   "id": "66ec92324a75a54d",
   "metadata": {
    "ExecuteTime": {
     "end_time": "2024-10-23T12:48:36.994293Z",
     "start_time": "2024-10-23T12:48:36.983233Z"
    }
   },
   "source": [
    "len(df_full_train), len(df_test)"
   ],
   "outputs": [
    {
     "data": {
      "text/plain": [
       "(5634, 1409)"
      ]
     },
     "execution_count": 10,
     "metadata": {},
     "output_type": "execute_result"
    }
   ],
   "execution_count": 10
  },
  {
   "cell_type": "code",
   "id": "b9e6572b9fd069da",
   "metadata": {
    "ExecuteTime": {
     "end_time": "2024-10-23T12:48:37.225477Z",
     "start_time": "2024-10-23T12:48:37.207305Z"
    }
   },
   "source": [
    "df_train, df_val = train_test_split(df_full_train, test_size=0.25, random_state=1)"
   ],
   "outputs": [],
   "execution_count": 11
  },
  {
   "cell_type": "code",
   "id": "5aefd59c308011c2",
   "metadata": {
    "ExecuteTime": {
     "end_time": "2024-10-23T12:48:39.374058Z",
     "start_time": "2024-10-23T12:48:39.356683Z"
    }
   },
   "source": [
    "len(df_train), len(df_val), len(df_test)"
   ],
   "outputs": [
    {
     "data": {
      "text/plain": [
       "(4225, 1409, 1409)"
      ]
     },
     "execution_count": 12,
     "metadata": {},
     "output_type": "execute_result"
    }
   ],
   "execution_count": 12
  },
  {
   "cell_type": "code",
   "id": "be7c882e779fe1ee",
   "metadata": {
    "ExecuteTime": {
     "end_time": "2024-10-23T12:48:44.245619Z",
     "start_time": "2024-10-23T12:48:44.216614Z"
    }
   },
   "source": [
    "df_train = df_train.reset_index(drop=True)\n",
    "df_val = df_val.reset_index(drop=True)\n",
    "df_test = df_test.reset_index(drop=True)"
   ],
   "outputs": [],
   "execution_count": 13
  },
  {
   "cell_type": "code",
   "id": "947c6fbf82394098",
   "metadata": {
    "ExecuteTime": {
     "end_time": "2024-10-23T12:48:45.136518Z",
     "start_time": "2024-10-23T12:48:45.124409Z"
    }
   },
   "source": [
    "y_train = df_train['churn'].values\n",
    "y_val = df_val['churn'].values\n",
    "y_test = df_test['churn'].values"
   ],
   "outputs": [],
   "execution_count": 14
  },
  {
   "cell_type": "code",
   "id": "698b1a1aec30c61a",
   "metadata": {
    "ExecuteTime": {
     "end_time": "2024-10-23T12:48:47.296965Z",
     "start_time": "2024-10-23T12:48:47.282199Z"
    }
   },
   "source": [
    "del df_train[\"churn\"]\n",
    "del df_val[\"churn\"]\n",
    "del df_test[\"churn\"]"
   ],
   "outputs": [],
   "execution_count": 15
  },
  {
   "cell_type": "markdown",
   "id": "125f2191e3a656d9",
   "metadata": {},
   "source": [
    "# 3.4 EDA"
   ]
  },
  {
   "cell_type": "code",
   "id": "b7ca1c982e40c4b8",
   "metadata": {
    "ExecuteTime": {
     "end_time": "2024-10-23T12:48:50.541934Z",
     "start_time": "2024-10-23T12:48:50.513627Z"
    }
   },
   "source": [
    "df_full_train = df_full_train.reset_index(drop=True)"
   ],
   "outputs": [],
   "execution_count": 16
  },
  {
   "cell_type": "code",
   "id": "fa04fc1353919257",
   "metadata": {
    "ExecuteTime": {
     "end_time": "2024-10-23T12:48:52.827864Z",
     "start_time": "2024-10-23T12:48:52.801264Z"
    }
   },
   "source": [
    "df_full_train.churn.value_counts(normalize=True)"
   ],
   "outputs": [
    {
     "data": {
      "text/plain": [
       "churn\n",
       "0    0.730032\n",
       "1    0.269968\n",
       "Name: proportion, dtype: float64"
      ]
     },
     "execution_count": 17,
     "metadata": {},
     "output_type": "execute_result"
    }
   ],
   "execution_count": 17
  },
  {
   "cell_type": "code",
   "id": "ef7b206ad72f8137",
   "metadata": {
    "ExecuteTime": {
     "end_time": "2024-10-23T12:49:01.861201Z",
     "start_time": "2024-10-23T12:49:01.850247Z"
    }
   },
   "source": [
    "global_churn_rate = df_full_train.churn.mean()\n",
    "round(global_churn_rate, 2)"
   ],
   "outputs": [
    {
     "data": {
      "text/plain": [
       "0.27"
      ]
     },
     "execution_count": 18,
     "metadata": {},
     "output_type": "execute_result"
    }
   ],
   "execution_count": 18
  },
  {
   "cell_type": "code",
   "id": "76eebe2fd4d71f86",
   "metadata": {
    "ExecuteTime": {
     "end_time": "2024-10-23T12:49:14.124188Z",
     "start_time": "2024-10-23T12:49:14.111053Z"
    }
   },
   "source": [
    "numerical = ['tenure', 'monthlycharges', 'totalcharges']\n",
    "categorical = [col for col in df_full_train.columns if col not in numerical and col not in ['churn', 'customerid']]\n",
    "categorical"
   ],
   "outputs": [
    {
     "data": {
      "text/plain": [
       "['gender',\n",
       " 'seniorcitizen',\n",
       " 'partner',\n",
       " 'dependents',\n",
       " 'phoneservice',\n",
       " 'multiplelines',\n",
       " 'internetservice',\n",
       " 'onlinesecurity',\n",
       " 'onlinebackup',\n",
       " 'deviceprotection',\n",
       " 'techsupport',\n",
       " 'streamingtv',\n",
       " 'streamingmovies',\n",
       " 'contract',\n",
       " 'paperlessbilling',\n",
       " 'paymentmethod']"
      ]
     },
     "execution_count": 19,
     "metadata": {},
     "output_type": "execute_result"
    }
   ],
   "execution_count": 19
  },
  {
   "cell_type": "code",
   "id": "b0230f72c2e36b06",
   "metadata": {
    "ExecuteTime": {
     "end_time": "2024-10-23T12:49:17.687139Z",
     "start_time": "2024-10-23T12:49:17.660242Z"
    }
   },
   "source": [
    "{col: df_full_train[col].unique() for col in categorical}"
   ],
   "outputs": [
    {
     "data": {
      "text/plain": [
       "{'gender': array(['male', 'female'], dtype=object),\n",
       " 'seniorcitizen': array([0, 1], dtype=int64),\n",
       " 'partner': array(['yes', 'no'], dtype=object),\n",
       " 'dependents': array(['yes', 'no'], dtype=object),\n",
       " 'phoneservice': array(['yes', 'no'], dtype=object),\n",
       " 'multiplelines': array(['no', 'yes', 'no_phone_service'], dtype=object),\n",
       " 'internetservice': array(['no', 'dsl', 'fiber_optic'], dtype=object),\n",
       " 'onlinesecurity': array(['no_internet_service', 'yes', 'no'], dtype=object),\n",
       " 'onlinebackup': array(['no_internet_service', 'yes', 'no'], dtype=object),\n",
       " 'deviceprotection': array(['no_internet_service', 'yes', 'no'], dtype=object),\n",
       " 'techsupport': array(['no_internet_service', 'yes', 'no'], dtype=object),\n",
       " 'streamingtv': array(['no_internet_service', 'no', 'yes'], dtype=object),\n",
       " 'streamingmovies': array(['no_internet_service', 'yes', 'no'], dtype=object),\n",
       " 'contract': array(['two_year', 'one_year', 'month-to-month'], dtype=object),\n",
       " 'paperlessbilling': array(['no', 'yes'], dtype=object),\n",
       " 'paymentmethod': array(['mailed_check', 'credit_card_(automatic)',\n",
       "        'bank_transfer_(automatic)', 'electronic_check'], dtype=object)}"
      ]
     },
     "execution_count": 20,
     "metadata": {},
     "output_type": "execute_result"
    }
   ],
   "execution_count": 20
  },
  {
   "cell_type": "code",
   "id": "cdf1f64f914b116e",
   "metadata": {
    "ExecuteTime": {
     "end_time": "2024-10-23T12:49:19.390Z",
     "start_time": "2024-10-23T12:49:19.357035Z"
    }
   },
   "source": [
    "df_full_train[categorical].nunique()"
   ],
   "outputs": [
    {
     "data": {
      "text/plain": [
       "gender              2\n",
       "seniorcitizen       2\n",
       "partner             2\n",
       "dependents          2\n",
       "phoneservice        2\n",
       "multiplelines       3\n",
       "internetservice     3\n",
       "onlinesecurity      3\n",
       "onlinebackup        3\n",
       "deviceprotection    3\n",
       "techsupport         3\n",
       "streamingtv         3\n",
       "streamingmovies     3\n",
       "contract            3\n",
       "paperlessbilling    2\n",
       "paymentmethod       4\n",
       "dtype: int64"
      ]
     },
     "execution_count": 21,
     "metadata": {},
     "output_type": "execute_result"
    }
   ],
   "execution_count": 21
  },
  {
   "cell_type": "markdown",
   "id": "dbb6dba21fa6e65d",
   "metadata": {},
   "source": [
    "# 3.5 Feature importance"
   ]
  },
  {
   "cell_type": "code",
   "id": "51cb655b80f96711",
   "metadata": {
    "ExecuteTime": {
     "end_time": "2024-10-23T12:49:28.388383Z",
     "start_time": "2024-10-23T12:49:28.366426Z"
    }
   },
   "source": [
    "churn_female = df_full_train[df_full_train['gender'] == 'female'].churn.mean()\n",
    "churn_female"
   ],
   "outputs": [
    {
     "data": {
      "text/plain": [
       "0.27682403433476394"
      ]
     },
     "execution_count": 22,
     "metadata": {},
     "output_type": "execute_result"
    }
   ],
   "execution_count": 22
  },
  {
   "cell_type": "code",
   "id": "93b094e4f430082a",
   "metadata": {
    "ExecuteTime": {
     "end_time": "2024-10-23T12:49:29.373148Z",
     "start_time": "2024-10-23T12:49:29.345585Z"
    }
   },
   "source": [
    "churn_male = df_full_train[df_full_train['gender'] == 'male'].churn.mean()\n",
    "churn_male"
   ],
   "outputs": [
    {
     "data": {
      "text/plain": [
       "0.2632135306553911"
      ]
     },
     "execution_count": 23,
     "metadata": {},
     "output_type": "execute_result"
    }
   ],
   "execution_count": 23
  },
  {
   "cell_type": "code",
   "id": "91af476276f992e2",
   "metadata": {
    "ExecuteTime": {
     "end_time": "2024-10-23T12:49:30.595960Z",
     "start_time": "2024-10-23T12:49:30.573263Z"
    }
   },
   "source": [
    "global_churn_rate - churn_male"
   ],
   "outputs": [
    {
     "data": {
      "text/plain": [
       "0.006754520462819769"
      ]
     },
     "execution_count": 24,
     "metadata": {},
     "output_type": "execute_result"
    }
   ],
   "execution_count": 24
  },
  {
   "cell_type": "code",
   "id": "35ab41e53f9fcfab",
   "metadata": {
    "ExecuteTime": {
     "end_time": "2024-10-23T12:49:31.313001Z",
     "start_time": "2024-10-23T12:49:31.300010Z"
    }
   },
   "source": [
    "global_churn_rate - churn_female"
   ],
   "outputs": [
    {
     "data": {
      "text/plain": [
       "-0.006855983216553063"
      ]
     },
     "execution_count": 25,
     "metadata": {},
     "output_type": "execute_result"
    }
   ],
   "execution_count": 25
  },
  {
   "cell_type": "code",
   "id": "34bb2cecd726f9f3",
   "metadata": {
    "ExecuteTime": {
     "end_time": "2024-10-23T12:49:31.973698Z",
     "start_time": "2024-10-23T12:49:31.950366Z"
    }
   },
   "source": [
    "global_churn_rate"
   ],
   "outputs": [
    {
     "data": {
      "text/plain": [
       "0.26996805111821087"
      ]
     },
     "execution_count": 26,
     "metadata": {},
     "output_type": "execute_result"
    }
   ],
   "execution_count": 26
  },
  {
   "cell_type": "code",
   "id": "631bd6ea9d381a88",
   "metadata": {
    "ExecuteTime": {
     "end_time": "2024-10-23T12:49:32.626488Z",
     "start_time": "2024-10-23T12:49:32.604210Z"
    }
   },
   "source": [
    "df_full_train.partner.value_counts()"
   ],
   "outputs": [
    {
     "data": {
      "text/plain": [
       "partner\n",
       "no     2932\n",
       "yes    2702\n",
       "Name: count, dtype: int64"
      ]
     },
     "execution_count": 27,
     "metadata": {},
     "output_type": "execute_result"
    }
   ],
   "execution_count": 27
  },
  {
   "cell_type": "code",
   "id": "d1de04e1040b92b2",
   "metadata": {
    "ExecuteTime": {
     "end_time": "2024-10-23T12:49:35.327097Z",
     "start_time": "2024-10-23T12:49:35.311879Z"
    }
   },
   "source": [
    "churn_partner = df_full_train[df_full_train['partner'] == 'yes'].churn.mean()\n",
    "churn_partner"
   ],
   "outputs": [
    {
     "data": {
      "text/plain": [
       "0.20503330866025166"
      ]
     },
     "execution_count": 28,
     "metadata": {},
     "output_type": "execute_result"
    }
   ],
   "execution_count": 28
  },
  {
   "cell_type": "code",
   "id": "612aefbb1905ae4e",
   "metadata": {
    "ExecuteTime": {
     "end_time": "2024-10-23T12:49:37.627066Z",
     "start_time": "2024-10-23T12:49:37.612094Z"
    }
   },
   "source": [
    "churn_partner_no = df_full_train[df_full_train['partner'] == 'no'].churn.mean()\n",
    "churn_partner_no"
   ],
   "outputs": [
    {
     "data": {
      "text/plain": [
       "0.3298090040927694"
      ]
     },
     "execution_count": 29,
     "metadata": {},
     "output_type": "execute_result"
    }
   ],
   "execution_count": 29
  },
  {
   "cell_type": "code",
   "id": "2cc5e48cd9e7ea7b",
   "metadata": {
    "ExecuteTime": {
     "end_time": "2024-10-23T12:49:38.747946Z",
     "start_time": "2024-10-23T12:49:38.731882Z"
    }
   },
   "source": [
    "global_churn_rate - churn_partner"
   ],
   "outputs": [
    {
     "data": {
      "text/plain": [
       "0.06493474245795922"
      ]
     },
     "execution_count": 30,
     "metadata": {},
     "output_type": "execute_result"
    }
   ],
   "execution_count": 30
  },
  {
   "cell_type": "code",
   "id": "3aa0b86254ce0886",
   "metadata": {
    "ExecuteTime": {
     "end_time": "2024-10-23T12:49:39.512928Z",
     "start_time": "2024-10-23T12:49:39.495599Z"
    }
   },
   "source": [
    "global_churn_rate - churn_partner_no"
   ],
   "outputs": [
    {
     "data": {
      "text/plain": [
       "-0.05984095297455855"
      ]
     },
     "execution_count": 31,
     "metadata": {},
     "output_type": "execute_result"
    }
   ],
   "execution_count": 31
  },
  {
   "cell_type": "code",
   "id": "25c5bf454999967e",
   "metadata": {
    "ExecuteTime": {
     "end_time": "2024-10-23T12:49:40.406464Z",
     "start_time": "2024-10-23T12:49:40.393792Z"
    }
   },
   "source": [
    "churn_partner/global_churn_rate"
   ],
   "outputs": [
    {
     "data": {
      "text/plain": [
       "0.7594724924338315"
      ]
     },
     "execution_count": 32,
     "metadata": {},
     "output_type": "execute_result"
    }
   ],
   "execution_count": 32
  },
  {
   "cell_type": "code",
   "id": "4f7df3dd04965861",
   "metadata": {
    "ExecuteTime": {
     "end_time": "2024-10-23T12:49:41.222556Z",
     "start_time": "2024-10-23T12:49:41.212325Z"
    }
   },
   "source": [
    "churn_partner_no/global_churn_rate"
   ],
   "outputs": [
    {
     "data": {
      "text/plain": [
       "1.2216593879412643"
      ]
     },
     "execution_count": 33,
     "metadata": {},
     "output_type": "execute_result"
    }
   ],
   "execution_count": 33
  },
  {
   "cell_type": "code",
   "execution_count": 35,
   "id": "9a433adc869b4c33",
   "metadata": {
    "ExecuteTime": {
     "end_time": "2024-10-21T16:41:52.715418Z",
     "start_time": "2024-10-21T16:41:52.708423Z"
    }
   },
   "outputs": [
    {
     "data": {
      "text/plain": [
       "0.9749802969838747"
      ]
     },
     "execution_count": 35,
     "metadata": {},
     "output_type": "execute_result"
    }
   ],
   "source": [
    "churn_male/global_churn_rate"
   ]
  },
  {
   "cell_type": "code",
   "execution_count": 36,
   "id": "b600bf5f53f0e772",
   "metadata": {
    "ExecuteTime": {
     "end_time": "2024-10-21T16:41:54.421526Z",
     "start_time": "2024-10-21T16:41:54.413385Z"
    }
   },
   "outputs": [
    {
     "data": {
      "text/plain": [
       "1.0253955354648652"
      ]
     },
     "execution_count": 36,
     "metadata": {},
     "output_type": "execute_result"
    }
   ],
   "source": [
    "churn_female/global_churn_rate"
   ]
  },
  {
   "cell_type": "markdown",
   "id": "b896f6c932efd8f7",
   "metadata": {},
   "source": [
    "```\n",
    "SELECT\n",
    "    gender,\n",
    "    AVG(churn),\n",
    "    AVG(churn) - global_churn AS diff,\n",
    "    AVG(churn) / global_churn AS risk\n",
    "FROM\n",
    "    data\n",
    "GROUP BY\n",
    "    gender;\n",
    "```"
   ]
  },
  {
   "cell_type": "code",
   "id": "391d52b570920803",
   "metadata": {
    "ExecuteTime": {
     "end_time": "2024-10-23T12:49:47.387738Z",
     "start_time": "2024-10-23T12:49:47.292337Z"
    }
   },
   "source": [
    "for c in categorical:\n",
    "    print(c)\n",
    "    df_group = df_full_train.groupby(c).churn.agg(['mean','count'])\n",
    "    df_group['diff'] = df_group['mean'] - global_churn_rate\n",
    "    df_group['risk'] = df_group['mean'] / global_churn_rate\n",
    "    print(df_group)\n",
    "    print()\n",
    "    print()"
   ],
   "outputs": [
    {
     "name": "stdout",
     "output_type": "stream",
     "text": [
      "gender\n",
      "            mean  count      diff      risk\n",
      "gender                                     \n",
      "female  0.276824   2796  0.006856  1.025396\n",
      "male    0.263214   2838 -0.006755  0.974980\n",
      "\n",
      "\n",
      "seniorcitizen\n",
      "                   mean  count      diff      risk\n",
      "seniorcitizen                                     \n",
      "0              0.242270   4722 -0.027698  0.897403\n",
      "1              0.413377    912  0.143409  1.531208\n",
      "\n",
      "\n",
      "partner\n",
      "             mean  count      diff      risk\n",
      "partner                                     \n",
      "no       0.329809   2932  0.059841  1.221659\n",
      "yes      0.205033   2702 -0.064935  0.759472\n",
      "\n",
      "\n",
      "dependents\n",
      "                mean  count      diff      risk\n",
      "dependents                                     \n",
      "no          0.313760   3968  0.043792  1.162212\n",
      "yes         0.165666   1666 -0.104302  0.613651\n",
      "\n",
      "\n",
      "phoneservice\n",
      "                  mean  count      diff      risk\n",
      "phoneservice                                     \n",
      "no            0.241316    547 -0.028652  0.893870\n",
      "yes           0.273049   5087  0.003081  1.011412\n",
      "\n",
      "\n",
      "multiplelines\n",
      "                      mean  count      diff      risk\n",
      "multiplelines                                        \n",
      "no                0.257407   2700 -0.012561  0.953474\n",
      "no_phone_service  0.241316    547 -0.028652  0.893870\n",
      "yes               0.290742   2387  0.020773  1.076948\n",
      "\n",
      "\n",
      "internetservice\n",
      "                     mean  count      diff      risk\n",
      "internetservice                                     \n",
      "dsl              0.192347   1934 -0.077621  0.712482\n",
      "fiber_optic      0.425171   2479  0.155203  1.574895\n",
      "no               0.077805   1221 -0.192163  0.288201\n",
      "\n",
      "\n",
      "onlinesecurity\n",
      "                         mean  count      diff      risk\n",
      "onlinesecurity                                          \n",
      "no                   0.420921   2801  0.150953  1.559152\n",
      "no_internet_service  0.077805   1221 -0.192163  0.288201\n",
      "yes                  0.153226   1612 -0.116742  0.567570\n",
      "\n",
      "\n",
      "onlinebackup\n",
      "                         mean  count      diff      risk\n",
      "onlinebackup                                            \n",
      "no                   0.404323   2498  0.134355  1.497672\n",
      "no_internet_service  0.077805   1221 -0.192163  0.288201\n",
      "yes                  0.217232   1915 -0.052736  0.804660\n",
      "\n",
      "\n",
      "deviceprotection\n",
      "                         mean  count      diff      risk\n",
      "deviceprotection                                        \n",
      "no                   0.395875   2473  0.125907  1.466379\n",
      "no_internet_service  0.077805   1221 -0.192163  0.288201\n",
      "yes                  0.230412   1940 -0.039556  0.853480\n",
      "\n",
      "\n",
      "techsupport\n",
      "                         mean  count      diff      risk\n",
      "techsupport                                             \n",
      "no                   0.418914   2781  0.148946  1.551717\n",
      "no_internet_service  0.077805   1221 -0.192163  0.288201\n",
      "yes                  0.159926   1632 -0.110042  0.592390\n",
      "\n",
      "\n",
      "streamingtv\n",
      "                         mean  count      diff      risk\n",
      "streamingtv                                             \n",
      "no                   0.342832   2246  0.072864  1.269897\n",
      "no_internet_service  0.077805   1221 -0.192163  0.288201\n",
      "yes                  0.302723   2167  0.032755  1.121328\n",
      "\n",
      "\n",
      "streamingmovies\n",
      "                         mean  count      diff      risk\n",
      "streamingmovies                                         \n",
      "no                   0.338906   2213  0.068938  1.255358\n",
      "no_internet_service  0.077805   1221 -0.192163  0.288201\n",
      "yes                  0.307273   2200  0.037305  1.138182\n",
      "\n",
      "\n",
      "contract\n",
      "                    mean  count      diff      risk\n",
      "contract                                           \n",
      "month-to-month  0.431701   3104  0.161733  1.599082\n",
      "one_year        0.120573   1186 -0.149395  0.446621\n",
      "two_year        0.028274   1344 -0.241694  0.104730\n",
      "\n",
      "\n",
      "paperlessbilling\n",
      "                      mean  count      diff      risk\n",
      "paperlessbilling                                     \n",
      "no                0.172071   2313 -0.097897  0.637375\n",
      "yes               0.338151   3321  0.068183  1.252560\n",
      "\n",
      "\n",
      "paymentmethod\n",
      "                               mean  count      diff      risk\n",
      "paymentmethod                                                 \n",
      "bank_transfer_(automatic)  0.168171   1219 -0.101797  0.622928\n",
      "credit_card_(automatic)    0.164339   1217 -0.105630  0.608733\n",
      "electronic_check           0.455890   1893  0.185922  1.688682\n",
      "mailed_check               0.193870   1305 -0.076098  0.718121\n",
      "\n",
      "\n"
     ]
    }
   ],
   "execution_count": 34
  },
  {
   "cell_type": "markdown",
   "id": "35079ec001ed92e2",
   "metadata": {},
   "source": [
    "# 3.6 Mutual info (importance of categorical vars)"
   ]
  },
  {
   "cell_type": "code",
   "id": "5c1308949d3d9a53",
   "metadata": {
    "ExecuteTime": {
     "end_time": "2024-10-23T12:50:06.422041Z",
     "start_time": "2024-10-23T12:50:06.409912Z"
    }
   },
   "source": [
    "from sklearn.metrics import mutual_info_score, confusion_matrix"
   ],
   "outputs": [],
   "execution_count": 35
  },
  {
   "cell_type": "code",
   "execution_count": 39,
   "id": "afc99847957a2663",
   "metadata": {
    "ExecuteTime": {
     "end_time": "2024-10-21T16:46:57.135825Z",
     "start_time": "2024-10-21T16:46:57.101591Z"
    }
   },
   "outputs": [
    {
     "data": {
      "text/plain": [
       "0.0983203874041556"
      ]
     },
     "execution_count": 39,
     "metadata": {},
     "output_type": "execute_result"
    }
   ],
   "source": [
    "mutual_info_score(df_full_train.contract, df_full_train.churn)"
   ]
  },
  {
   "cell_type": "code",
   "execution_count": 40,
   "id": "2d681cb33646631c",
   "metadata": {
    "ExecuteTime": {
     "end_time": "2024-10-21T16:46:58.374254Z",
     "start_time": "2024-10-21T16:46:58.354717Z"
    }
   },
   "outputs": [
    {
     "data": {
      "text/plain": [
       "0.0001174846211139946"
      ]
     },
     "execution_count": 40,
     "metadata": {},
     "output_type": "execute_result"
    }
   ],
   "source": [
    "mutual_info_score(df_full_train.gender, df_full_train.churn)"
   ]
  },
  {
   "cell_type": "code",
   "execution_count": 41,
   "id": "c14d42307614fcdd",
   "metadata": {
    "ExecuteTime": {
     "end_time": "2024-10-21T16:47:01.565413Z",
     "start_time": "2024-10-21T16:47:01.542396Z"
    }
   },
   "outputs": [
    {
     "data": {
      "text/plain": [
       "0.009967689095399745"
      ]
     },
     "execution_count": 41,
     "metadata": {},
     "output_type": "execute_result"
    }
   ],
   "source": [
    "mutual_info_score(df_full_train.partner, df_full_train.churn)"
   ]
  },
  {
   "cell_type": "code",
   "id": "81d3205ebbadb82",
   "metadata": {
    "ExecuteTime": {
     "end_time": "2024-10-23T12:50:09.734829Z",
     "start_time": "2024-10-23T12:50:09.722802Z"
    }
   },
   "source": [
    "def mutual_info_churn_score(series):\n",
    "    return mutual_info_score(series, df_full_train.churn)"
   ],
   "outputs": [],
   "execution_count": 36
  },
  {
   "cell_type": "code",
   "id": "c2921256ca48dfcb",
   "metadata": {
    "ExecuteTime": {
     "end_time": "2024-10-23T12:50:11.060689Z",
     "start_time": "2024-10-23T12:50:10.879779Z"
    }
   },
   "source": [
    "mi = df_full_train[categorical].apply(mutual_info_churn_score)\n",
    "mi.sort_values(ascending=False)"
   ],
   "outputs": [
    {
     "data": {
      "text/plain": [
       "contract            0.098320\n",
       "onlinesecurity      0.063085\n",
       "techsupport         0.061032\n",
       "internetservice     0.055868\n",
       "onlinebackup        0.046923\n",
       "deviceprotection    0.043453\n",
       "paymentmethod       0.043210\n",
       "streamingtv         0.031853\n",
       "streamingmovies     0.031581\n",
       "paperlessbilling    0.017589\n",
       "dependents          0.012346\n",
       "partner             0.009968\n",
       "seniorcitizen       0.009410\n",
       "multiplelines       0.000857\n",
       "phoneservice        0.000229\n",
       "gender              0.000117\n",
       "dtype: float64"
      ]
     },
     "execution_count": 37,
     "metadata": {},
     "output_type": "execute_result"
    }
   ],
   "execution_count": 37
  },
  {
   "cell_type": "markdown",
   "id": "a6b4f926ca648c43",
   "metadata": {},
   "source": [
    "# 3.7 Correlation (importance of numerical vars)"
   ]
  },
  {
   "cell_type": "code",
   "id": "cda180946c0c7d23",
   "metadata": {
    "ExecuteTime": {
     "end_time": "2024-10-23T12:50:18.721172Z",
     "start_time": "2024-10-23T12:50:18.697663Z"
    }
   },
   "source": [
    "df_full_train[numerical].corrwith(df_full_train.churn)"
   ],
   "outputs": [
    {
     "data": {
      "text/plain": [
       "tenure           -0.351885\n",
       "monthlycharges    0.196805\n",
       "totalcharges     -0.196353\n",
       "dtype: float64"
      ]
     },
     "execution_count": 38,
     "metadata": {},
     "output_type": "execute_result"
    }
   ],
   "execution_count": 38
  },
  {
   "cell_type": "code",
   "id": "cee1ac6907ac5e85",
   "metadata": {
    "ExecuteTime": {
     "end_time": "2024-10-23T12:50:19.574032Z",
     "start_time": "2024-10-23T12:50:19.549668Z"
    }
   },
   "source": [
    "df_full_train[df_full_train.tenure <= 2].churn.mean()"
   ],
   "outputs": [
    {
     "data": {
      "text/plain": [
       "0.5953420669577875"
      ]
     },
     "execution_count": 39,
     "metadata": {},
     "output_type": "execute_result"
    }
   ],
   "execution_count": 39
  },
  {
   "cell_type": "code",
   "execution_count": 46,
   "id": "57df0de484e59e3d",
   "metadata": {
    "ExecuteTime": {
     "end_time": "2024-10-21T16:48:18.878797Z",
     "start_time": "2024-10-21T16:48:18.867972Z"
    }
   },
   "outputs": [
    {
     "data": {
      "text/plain": [
       "0.3994413407821229"
      ]
     },
     "execution_count": 46,
     "metadata": {},
     "output_type": "execute_result"
    }
   ],
   "source": [
    "df_full_train[(df_full_train.tenure > 2) & (df_full_train.tenure <= 12)].churn.mean()"
   ]
  },
  {
   "cell_type": "code",
   "execution_count": 47,
   "id": "85ed66eb95e530b5",
   "metadata": {
    "ExecuteTime": {
     "end_time": "2024-10-21T16:48:25.560041Z",
     "start_time": "2024-10-21T16:48:25.547810Z"
    }
   },
   "outputs": [
    {
     "data": {
      "text/plain": [
       "0.17634908339788277"
      ]
     },
     "execution_count": 47,
     "metadata": {},
     "output_type": "execute_result"
    }
   ],
   "source": [
    "df_full_train[df_full_train.tenure > 12].churn.mean()"
   ]
  },
  {
   "cell_type": "code",
   "execution_count": 48,
   "id": "e5474bc67284b7e1",
   "metadata": {
    "ExecuteTime": {
     "end_time": "2024-10-21T16:48:29.905439Z",
     "start_time": "2024-10-21T16:48:29.896430Z"
    }
   },
   "outputs": [
    {
     "data": {
      "text/plain": [
       "0.08795411089866156"
      ]
     },
     "execution_count": 48,
     "metadata": {},
     "output_type": "execute_result"
    }
   ],
   "source": [
    "df_full_train[df_full_train.monthlycharges <= 20].churn.mean()"
   ]
  },
  {
   "cell_type": "code",
   "execution_count": 49,
   "id": "5109da0c78f089d9",
   "metadata": {
    "ExecuteTime": {
     "end_time": "2024-10-21T16:48:36.505309Z",
     "start_time": "2024-10-21T16:48:36.494090Z"
    }
   },
   "outputs": [
    {
     "data": {
      "text/plain": [
       "0.18340943683409436"
      ]
     },
     "execution_count": 49,
     "metadata": {},
     "output_type": "execute_result"
    }
   ],
   "source": [
    "df_full_train[(df_full_train.monthlycharges > 20) & (df_full_train.monthlycharges <= 50)].churn.mean()"
   ]
  },
  {
   "cell_type": "code",
   "execution_count": 50,
   "id": "dd13b5728290e6d2",
   "metadata": {
    "ExecuteTime": {
     "end_time": "2024-10-21T16:48:38.570446Z",
     "start_time": "2024-10-21T16:48:38.559404Z"
    }
   },
   "outputs": [
    {
     "data": {
      "text/plain": [
       "0.32499341585462205"
      ]
     },
     "execution_count": 50,
     "metadata": {},
     "output_type": "execute_result"
    }
   ],
   "source": [
    "df_full_train[df_full_train.monthlycharges > 50].churn.mean()"
   ]
  },
  {
   "cell_type": "code",
   "execution_count": 51,
   "id": "a99733573c10c180",
   "metadata": {
    "ExecuteTime": {
     "end_time": "2024-10-21T16:48:42.721860Z",
     "start_time": "2024-10-21T16:48:42.708288Z"
    }
   },
   "outputs": [
    {
     "data": {
      "text/plain": [
       "tenure            0.351885\n",
       "monthlycharges    0.196805\n",
       "totalcharges      0.196353\n",
       "dtype: float64"
      ]
     },
     "execution_count": 51,
     "metadata": {},
     "output_type": "execute_result"
    }
   ],
   "source": [
    "df_full_train[numerical].corrwith(df_full_train.churn).abs()"
   ]
  },
  {
   "cell_type": "markdown",
   "id": "f3ff2dd0ea43914d",
   "metadata": {},
   "source": [
    "# 3.8 One-hot encoding"
   ]
  },
  {
   "cell_type": "code",
   "id": "499601c12f4f61ce",
   "metadata": {
    "ExecuteTime": {
     "end_time": "2024-10-23T12:50:31.572206Z",
     "start_time": "2024-10-23T12:50:31.518936Z"
    }
   },
   "source": [
    "from sklearn.feature_extraction import DictVectorizer"
   ],
   "outputs": [],
   "execution_count": 40
  },
  {
   "cell_type": "code",
   "id": "7a7462a5850596e0",
   "metadata": {
    "ExecuteTime": {
     "end_time": "2024-10-23T12:50:32.802135Z",
     "start_time": "2024-10-23T12:50:32.790Z"
    }
   },
   "source": [
    "df_train[['gender', 'contract']].iloc[:10]"
   ],
   "outputs": [
    {
     "data": {
      "text/plain": [
       "   gender        contract\n",
       "0  female        two_year\n",
       "1    male  month-to-month\n",
       "2  female  month-to-month\n",
       "3  female  month-to-month\n",
       "4  female        two_year\n",
       "5    male  month-to-month\n",
       "6    male  month-to-month\n",
       "7  female  month-to-month\n",
       "8  female        two_year\n",
       "9  female  month-to-month"
      ],
      "text/html": [
       "<div>\n",
       "<style scoped>\n",
       "    .dataframe tbody tr th:only-of-type {\n",
       "        vertical-align: middle;\n",
       "    }\n",
       "\n",
       "    .dataframe tbody tr th {\n",
       "        vertical-align: top;\n",
       "    }\n",
       "\n",
       "    .dataframe thead th {\n",
       "        text-align: right;\n",
       "    }\n",
       "</style>\n",
       "<table border=\"1\" class=\"dataframe\">\n",
       "  <thead>\n",
       "    <tr style=\"text-align: right;\">\n",
       "      <th></th>\n",
       "      <th>gender</th>\n",
       "      <th>contract</th>\n",
       "    </tr>\n",
       "  </thead>\n",
       "  <tbody>\n",
       "    <tr>\n",
       "      <th>0</th>\n",
       "      <td>female</td>\n",
       "      <td>two_year</td>\n",
       "    </tr>\n",
       "    <tr>\n",
       "      <th>1</th>\n",
       "      <td>male</td>\n",
       "      <td>month-to-month</td>\n",
       "    </tr>\n",
       "    <tr>\n",
       "      <th>2</th>\n",
       "      <td>female</td>\n",
       "      <td>month-to-month</td>\n",
       "    </tr>\n",
       "    <tr>\n",
       "      <th>3</th>\n",
       "      <td>female</td>\n",
       "      <td>month-to-month</td>\n",
       "    </tr>\n",
       "    <tr>\n",
       "      <th>4</th>\n",
       "      <td>female</td>\n",
       "      <td>two_year</td>\n",
       "    </tr>\n",
       "    <tr>\n",
       "      <th>5</th>\n",
       "      <td>male</td>\n",
       "      <td>month-to-month</td>\n",
       "    </tr>\n",
       "    <tr>\n",
       "      <th>6</th>\n",
       "      <td>male</td>\n",
       "      <td>month-to-month</td>\n",
       "    </tr>\n",
       "    <tr>\n",
       "      <th>7</th>\n",
       "      <td>female</td>\n",
       "      <td>month-to-month</td>\n",
       "    </tr>\n",
       "    <tr>\n",
       "      <th>8</th>\n",
       "      <td>female</td>\n",
       "      <td>two_year</td>\n",
       "    </tr>\n",
       "    <tr>\n",
       "      <th>9</th>\n",
       "      <td>female</td>\n",
       "      <td>month-to-month</td>\n",
       "    </tr>\n",
       "  </tbody>\n",
       "</table>\n",
       "</div>"
      ]
     },
     "execution_count": 41,
     "metadata": {},
     "output_type": "execute_result"
    }
   ],
   "execution_count": 41
  },
  {
   "cell_type": "code",
   "id": "47c644657108d0c9",
   "metadata": {
    "ExecuteTime": {
     "end_time": "2024-10-23T12:50:35.791608Z",
     "start_time": "2024-10-23T12:50:35.622894Z"
    }
   },
   "source": [
    "train_dicts = df_train[categorical + numerical].to_dict(orient='records')\n",
    "train_dicts[:10]"
   ],
   "outputs": [
    {
     "data": {
      "text/plain": [
       "[{'gender': 'female',\n",
       "  'seniorcitizen': 0,\n",
       "  'partner': 'yes',\n",
       "  'dependents': 'yes',\n",
       "  'phoneservice': 'yes',\n",
       "  'multiplelines': 'yes',\n",
       "  'internetservice': 'fiber_optic',\n",
       "  'onlinesecurity': 'yes',\n",
       "  'onlinebackup': 'yes',\n",
       "  'deviceprotection': 'yes',\n",
       "  'techsupport': 'yes',\n",
       "  'streamingtv': 'yes',\n",
       "  'streamingmovies': 'yes',\n",
       "  'contract': 'two_year',\n",
       "  'paperlessbilling': 'yes',\n",
       "  'paymentmethod': 'electronic_check',\n",
       "  'tenure': 72,\n",
       "  'monthlycharges': 115.5,\n",
       "  'totalcharges': 8425.15},\n",
       " {'gender': 'male',\n",
       "  'seniorcitizen': 0,\n",
       "  'partner': 'no',\n",
       "  'dependents': 'no',\n",
       "  'phoneservice': 'yes',\n",
       "  'multiplelines': 'yes',\n",
       "  'internetservice': 'fiber_optic',\n",
       "  'onlinesecurity': 'no',\n",
       "  'onlinebackup': 'yes',\n",
       "  'deviceprotection': 'yes',\n",
       "  'techsupport': 'no',\n",
       "  'streamingtv': 'no',\n",
       "  'streamingmovies': 'yes',\n",
       "  'contract': 'month-to-month',\n",
       "  'paperlessbilling': 'yes',\n",
       "  'paymentmethod': 'electronic_check',\n",
       "  'tenure': 10,\n",
       "  'monthlycharges': 95.25,\n",
       "  'totalcharges': 1021.55},\n",
       " {'gender': 'female',\n",
       "  'seniorcitizen': 0,\n",
       "  'partner': 'no',\n",
       "  'dependents': 'no',\n",
       "  'phoneservice': 'yes',\n",
       "  'multiplelines': 'yes',\n",
       "  'internetservice': 'fiber_optic',\n",
       "  'onlinesecurity': 'no',\n",
       "  'onlinebackup': 'no',\n",
       "  'deviceprotection': 'no',\n",
       "  'techsupport': 'no',\n",
       "  'streamingtv': 'no',\n",
       "  'streamingmovies': 'no',\n",
       "  'contract': 'month-to-month',\n",
       "  'paperlessbilling': 'no',\n",
       "  'paymentmethod': 'electronic_check',\n",
       "  'tenure': 5,\n",
       "  'monthlycharges': 75.55,\n",
       "  'totalcharges': 413.65},\n",
       " {'gender': 'female',\n",
       "  'seniorcitizen': 0,\n",
       "  'partner': 'yes',\n",
       "  'dependents': 'yes',\n",
       "  'phoneservice': 'yes',\n",
       "  'multiplelines': 'no',\n",
       "  'internetservice': 'fiber_optic',\n",
       "  'onlinesecurity': 'no',\n",
       "  'onlinebackup': 'no',\n",
       "  'deviceprotection': 'no',\n",
       "  'techsupport': 'no',\n",
       "  'streamingtv': 'yes',\n",
       "  'streamingmovies': 'no',\n",
       "  'contract': 'month-to-month',\n",
       "  'paperlessbilling': 'yes',\n",
       "  'paymentmethod': 'electronic_check',\n",
       "  'tenure': 5,\n",
       "  'monthlycharges': 80.85,\n",
       "  'totalcharges': 356.1},\n",
       " {'gender': 'female',\n",
       "  'seniorcitizen': 0,\n",
       "  'partner': 'yes',\n",
       "  'dependents': 'no',\n",
       "  'phoneservice': 'yes',\n",
       "  'multiplelines': 'no',\n",
       "  'internetservice': 'no',\n",
       "  'onlinesecurity': 'no_internet_service',\n",
       "  'onlinebackup': 'no_internet_service',\n",
       "  'deviceprotection': 'no_internet_service',\n",
       "  'techsupport': 'no_internet_service',\n",
       "  'streamingtv': 'no_internet_service',\n",
       "  'streamingmovies': 'no_internet_service',\n",
       "  'contract': 'two_year',\n",
       "  'paperlessbilling': 'no',\n",
       "  'paymentmethod': 'mailed_check',\n",
       "  'tenure': 18,\n",
       "  'monthlycharges': 20.1,\n",
       "  'totalcharges': 370.5},\n",
       " {'gender': 'male',\n",
       "  'seniorcitizen': 0,\n",
       "  'partner': 'no',\n",
       "  'dependents': 'no',\n",
       "  'phoneservice': 'no',\n",
       "  'multiplelines': 'no_phone_service',\n",
       "  'internetservice': 'dsl',\n",
       "  'onlinesecurity': 'no',\n",
       "  'onlinebackup': 'no',\n",
       "  'deviceprotection': 'no',\n",
       "  'techsupport': 'yes',\n",
       "  'streamingtv': 'no',\n",
       "  'streamingmovies': 'no',\n",
       "  'contract': 'month-to-month',\n",
       "  'paperlessbilling': 'no',\n",
       "  'paymentmethod': 'electronic_check',\n",
       "  'tenure': 4,\n",
       "  'monthlycharges': 30.5,\n",
       "  'totalcharges': 118.4},\n",
       " {'gender': 'male',\n",
       "  'seniorcitizen': 0,\n",
       "  'partner': 'no',\n",
       "  'dependents': 'no',\n",
       "  'phoneservice': 'yes',\n",
       "  'multiplelines': 'yes',\n",
       "  'internetservice': 'fiber_optic',\n",
       "  'onlinesecurity': 'no',\n",
       "  'onlinebackup': 'no',\n",
       "  'deviceprotection': 'no',\n",
       "  'techsupport': 'no',\n",
       "  'streamingtv': 'no',\n",
       "  'streamingmovies': 'no',\n",
       "  'contract': 'month-to-month',\n",
       "  'paperlessbilling': 'yes',\n",
       "  'paymentmethod': 'electronic_check',\n",
       "  'tenure': 1,\n",
       "  'monthlycharges': 75.1,\n",
       "  'totalcharges': 75.1},\n",
       " {'gender': 'female',\n",
       "  'seniorcitizen': 0,\n",
       "  'partner': 'no',\n",
       "  'dependents': 'no',\n",
       "  'phoneservice': 'yes',\n",
       "  'multiplelines': 'no',\n",
       "  'internetservice': 'fiber_optic',\n",
       "  'onlinesecurity': 'no',\n",
       "  'onlinebackup': 'no',\n",
       "  'deviceprotection': 'no',\n",
       "  'techsupport': 'no',\n",
       "  'streamingtv': 'no',\n",
       "  'streamingmovies': 'no',\n",
       "  'contract': 'month-to-month',\n",
       "  'paperlessbilling': 'yes',\n",
       "  'paymentmethod': 'electronic_check',\n",
       "  'tenure': 1,\n",
       "  'monthlycharges': 70.3,\n",
       "  'totalcharges': 70.3},\n",
       " {'gender': 'female',\n",
       "  'seniorcitizen': 0,\n",
       "  'partner': 'no',\n",
       "  'dependents': 'yes',\n",
       "  'phoneservice': 'yes',\n",
       "  'multiplelines': 'no',\n",
       "  'internetservice': 'no',\n",
       "  'onlinesecurity': 'no_internet_service',\n",
       "  'onlinebackup': 'no_internet_service',\n",
       "  'deviceprotection': 'no_internet_service',\n",
       "  'techsupport': 'no_internet_service',\n",
       "  'streamingtv': 'no_internet_service',\n",
       "  'streamingmovies': 'no_internet_service',\n",
       "  'contract': 'two_year',\n",
       "  'paperlessbilling': 'yes',\n",
       "  'paymentmethod': 'mailed_check',\n",
       "  'tenure': 72,\n",
       "  'monthlycharges': 19.75,\n",
       "  'totalcharges': 1567.0},\n",
       " {'gender': 'female',\n",
       "  'seniorcitizen': 0,\n",
       "  'partner': 'no',\n",
       "  'dependents': 'no',\n",
       "  'phoneservice': 'yes',\n",
       "  'multiplelines': 'yes',\n",
       "  'internetservice': 'fiber_optic',\n",
       "  'onlinesecurity': 'no',\n",
       "  'onlinebackup': 'yes',\n",
       "  'deviceprotection': 'yes',\n",
       "  'techsupport': 'yes',\n",
       "  'streamingtv': 'yes',\n",
       "  'streamingmovies': 'yes',\n",
       "  'contract': 'month-to-month',\n",
       "  'paperlessbilling': 'yes',\n",
       "  'paymentmethod': 'credit_card_(automatic)',\n",
       "  'tenure': 6,\n",
       "  'monthlycharges': 109.9,\n",
       "  'totalcharges': 669.45}]"
      ]
     },
     "execution_count": 42,
     "metadata": {},
     "output_type": "execute_result"
    }
   ],
   "execution_count": 42
  },
  {
   "cell_type": "code",
   "id": "ad8adc5be635b202",
   "metadata": {
    "ExecuteTime": {
     "end_time": "2024-10-23T12:50:37.312383Z",
     "start_time": "2024-10-23T12:50:37.292029Z"
    }
   },
   "source": [
    "train_dicts[0]"
   ],
   "outputs": [
    {
     "data": {
      "text/plain": [
       "{'gender': 'female',\n",
       " 'seniorcitizen': 0,\n",
       " 'partner': 'yes',\n",
       " 'dependents': 'yes',\n",
       " 'phoneservice': 'yes',\n",
       " 'multiplelines': 'yes',\n",
       " 'internetservice': 'fiber_optic',\n",
       " 'onlinesecurity': 'yes',\n",
       " 'onlinebackup': 'yes',\n",
       " 'deviceprotection': 'yes',\n",
       " 'techsupport': 'yes',\n",
       " 'streamingtv': 'yes',\n",
       " 'streamingmovies': 'yes',\n",
       " 'contract': 'two_year',\n",
       " 'paperlessbilling': 'yes',\n",
       " 'paymentmethod': 'electronic_check',\n",
       " 'tenure': 72,\n",
       " 'monthlycharges': 115.5,\n",
       " 'totalcharges': 8425.15}"
      ]
     },
     "execution_count": 43,
     "metadata": {},
     "output_type": "execute_result"
    }
   ],
   "execution_count": 43
  },
  {
   "cell_type": "code",
   "id": "4cbbabeebabfdc85",
   "metadata": {
    "ExecuteTime": {
     "end_time": "2024-10-23T12:50:39.131101Z",
     "start_time": "2024-10-23T12:50:39.118929Z"
    }
   },
   "source": [
    "dv = DictVectorizer(sparse=False)"
   ],
   "outputs": [],
   "execution_count": 44
  },
  {
   "cell_type": "code",
   "id": "6ba3393b0bf7aafc",
   "metadata": {
    "ExecuteTime": {
     "end_time": "2024-10-23T12:50:40.374906Z",
     "start_time": "2024-10-23T12:50:40.226339Z"
    }
   },
   "source": [
    "X_train = dv.fit_transform(train_dicts)\n",
    "X_train"
   ],
   "outputs": [
    {
     "data": {
      "text/plain": [
       "array([[0.00000e+00, 0.00000e+00, 1.00000e+00, ..., 1.00000e+00,\n",
       "        7.20000e+01, 8.42515e+03],\n",
       "       [1.00000e+00, 0.00000e+00, 0.00000e+00, ..., 0.00000e+00,\n",
       "        1.00000e+01, 1.02155e+03],\n",
       "       [1.00000e+00, 0.00000e+00, 0.00000e+00, ..., 0.00000e+00,\n",
       "        5.00000e+00, 4.13650e+02],\n",
       "       ...,\n",
       "       [1.00000e+00, 0.00000e+00, 0.00000e+00, ..., 1.00000e+00,\n",
       "        2.00000e+00, 1.90050e+02],\n",
       "       [0.00000e+00, 0.00000e+00, 1.00000e+00, ..., 0.00000e+00,\n",
       "        2.70000e+01, 7.61950e+02],\n",
       "       [1.00000e+00, 0.00000e+00, 0.00000e+00, ..., 0.00000e+00,\n",
       "        9.00000e+00, 7.51650e+02]])"
      ]
     },
     "execution_count": 45,
     "metadata": {},
     "output_type": "execute_result"
    }
   ],
   "execution_count": 45
  },
  {
   "cell_type": "code",
   "id": "94c6484712f115db",
   "metadata": {
    "ExecuteTime": {
     "end_time": "2024-10-23T12:50:43.057441Z",
     "start_time": "2024-10-23T12:50:42.968752Z"
    }
   },
   "source": [
    "val_dicts = df_val[categorical + numerical].to_dict(orient='records')\n",
    "X_val = dv.transform(val_dicts)"
   ],
   "outputs": [],
   "execution_count": 46
  },
  {
   "cell_type": "code",
   "id": "3f99a03f8845f23f",
   "metadata": {
    "ExecuteTime": {
     "end_time": "2024-10-23T12:50:44.433323Z",
     "start_time": "2024-10-23T12:50:44.410801Z"
    }
   },
   "source": [
    "X_train.shape"
   ],
   "outputs": [
    {
     "data": {
      "text/plain": [
       "(4225, 45)"
      ]
     },
     "execution_count": 47,
     "metadata": {},
     "output_type": "execute_result"
    }
   ],
   "execution_count": 47
  },
  {
   "cell_type": "markdown",
   "id": "c5bb7821b3e3043e",
   "metadata": {},
   "source": [
    "# 3.9 Logistic Regression"
   ]
  },
  {
   "cell_type": "code",
   "id": "1ada5d842f120a50",
   "metadata": {
    "ExecuteTime": {
     "end_time": "2024-10-23T12:50:47.996870Z",
     "start_time": "2024-10-23T12:50:47.983781Z"
    }
   },
   "source": [
    "def sigmoid(z):\n",
    "    return 1 / (1 + np.exp(-z))"
   ],
   "outputs": [],
   "execution_count": 48
  },
  {
   "cell_type": "code",
   "id": "34b7ce446f5f02d1",
   "metadata": {
    "ExecuteTime": {
     "end_time": "2024-10-23T12:50:49.170682Z",
     "start_time": "2024-10-23T12:50:49.158681Z"
    }
   },
   "source": [
    "z = np.linspace(-7, 7, 51)\n",
    "z"
   ],
   "outputs": [
    {
     "data": {
      "text/plain": [
       "array([-7.0000000e+00, -6.7200000e+00, -6.4400000e+00, -6.1600000e+00,\n",
       "       -5.8800000e+00, -5.6000000e+00, -5.3200000e+00, -5.0400000e+00,\n",
       "       -4.7600000e+00, -4.4800000e+00, -4.2000000e+00, -3.9200000e+00,\n",
       "       -3.6400000e+00, -3.3600000e+00, -3.0800000e+00, -2.8000000e+00,\n",
       "       -2.5200000e+00, -2.2400000e+00, -1.9600000e+00, -1.6800000e+00,\n",
       "       -1.4000000e+00, -1.1200000e+00, -8.4000000e-01, -5.6000000e-01,\n",
       "       -2.8000000e-01,  8.8817842e-16,  2.8000000e-01,  5.6000000e-01,\n",
       "        8.4000000e-01,  1.1200000e+00,  1.4000000e+00,  1.6800000e+00,\n",
       "        1.9600000e+00,  2.2400000e+00,  2.5200000e+00,  2.8000000e+00,\n",
       "        3.0800000e+00,  3.3600000e+00,  3.6400000e+00,  3.9200000e+00,\n",
       "        4.2000000e+00,  4.4800000e+00,  4.7600000e+00,  5.0400000e+00,\n",
       "        5.3200000e+00,  5.6000000e+00,  5.8800000e+00,  6.1600000e+00,\n",
       "        6.4400000e+00,  6.7200000e+00,  7.0000000e+00])"
      ]
     },
     "execution_count": 49,
     "metadata": {},
     "output_type": "execute_result"
    }
   ],
   "execution_count": 49
  },
  {
   "cell_type": "code",
   "id": "945f0b29484d980",
   "metadata": {
    "ExecuteTime": {
     "end_time": "2024-10-23T12:50:54.233297Z",
     "start_time": "2024-10-23T12:50:54.213827Z"
    }
   },
   "source": [
    "sigmoid(z)"
   ],
   "outputs": [
    {
     "data": {
      "text/plain": [
       "array([9.11051194e-04, 1.20508423e-03, 1.59386223e-03, 2.10780106e-03,\n",
       "       2.78699622e-03, 3.68423990e-03, 4.86893124e-03, 6.43210847e-03,\n",
       "       8.49286285e-03, 1.12064063e-02, 1.47740317e-02, 1.94550846e-02,\n",
       "       2.55807883e-02, 3.35692233e-02, 4.39398154e-02, 5.73241759e-02,\n",
       "       7.44679452e-02, 9.62155417e-02, 1.23467048e-01, 1.57095469e-01,\n",
       "       1.97816111e-01, 2.46011284e-01, 3.01534784e-01, 3.63547460e-01,\n",
       "       4.30453776e-01, 5.00000000e-01, 5.69546224e-01, 6.36452540e-01,\n",
       "       6.98465216e-01, 7.53988716e-01, 8.02183889e-01, 8.42904531e-01,\n",
       "       8.76532952e-01, 9.03784458e-01, 9.25532055e-01, 9.42675824e-01,\n",
       "       9.56060185e-01, 9.66430777e-01, 9.74419212e-01, 9.80544915e-01,\n",
       "       9.85225968e-01, 9.88793594e-01, 9.91507137e-01, 9.93567892e-01,\n",
       "       9.95131069e-01, 9.96315760e-01, 9.97213004e-01, 9.97892199e-01,\n",
       "       9.98406138e-01, 9.98794916e-01, 9.99088949e-01])"
      ]
     },
     "execution_count": 50,
     "metadata": {},
     "output_type": "execute_result"
    }
   ],
   "execution_count": 50
  },
  {
   "cell_type": "code",
   "id": "7ad1a29cc9578aee",
   "metadata": {
    "ExecuteTime": {
     "end_time": "2024-10-23T12:50:55.824925Z",
     "start_time": "2024-10-23T12:50:55.502070Z"
    }
   },
   "source": [
    "plt.plot(z, sigmoid(z))"
   ],
   "outputs": [
    {
     "data": {
      "text/plain": [
       "[<matplotlib.lines.Line2D at 0x2438b79d120>]"
      ]
     },
     "execution_count": 51,
     "metadata": {},
     "output_type": "execute_result"
    },
    {
     "data": {
      "text/plain": [
       "<Figure size 640x480 with 1 Axes>"
      ],
      "image/png": "[encoded data removed]"
     },
     "metadata": {},
     "output_type": "display_data"
    }
   ],
   "execution_count": 51
  },
  {
   "cell_type": "code",
   "id": "8c1e082c9a1289ed",
   "metadata": {
    "ExecuteTime": {
     "end_time": "2024-10-23T12:51:01.842225Z",
     "start_time": "2024-10-23T12:51:01.818473Z"
    }
   },
   "source": [
    "def linear_regression(xi):\n",
    "    result = w0\n",
    "    \n",
    "    for j in range(len(w)):\n",
    "        result += xi[j] * w[j]\n",
    "    return result\n",
    "\n",
    "def logistic_regression(xi):\n",
    "    score = w0\n",
    "    \n",
    "    for j in range(len(w)):\n",
    "        score += xi[j] * w[j]\n",
    "    \n",
    "    result = sigmoid(score)\n",
    "    return result"
   ],
   "outputs": [],
   "execution_count": 52
  },
  {
   "cell_type": "markdown",
   "id": "809eba59ddfded93",
   "metadata": {},
   "source": [
    "# 3.10 Training logistic regression with Scikit-learn"
   ]
  },
  {
   "cell_type": "code",
   "id": "470a006928471abe",
   "metadata": {
    "ExecuteTime": {
     "end_time": "2024-10-23T12:53:26.624785Z",
     "start_time": "2024-10-23T12:53:26.615566Z"
    }
   },
   "source": [
    "from sklearn.linear_model import LogisticRegression"
   ],
   "outputs": [],
   "execution_count": 74
  },
  {
   "cell_type": "code",
   "id": "4590f98ccdc7ba86",
   "metadata": {
    "ExecuteTime": {
     "end_time": "2024-10-23T12:53:28.036584Z",
     "start_time": "2024-10-23T12:53:27.934543Z"
    }
   },
   "source": [
    "model = LogisticRegression(max_iter=2000)\n",
    "model.fit(X_train, y_train)"
   ],
   "outputs": [
    {
     "data": {
      "text/plain": [
       "LogisticRegression(max_iter=2000)"
      ],
      "text/html": [
       "<style>#sk-container-id-3 {color: black;}#sk-container-id-3 pre{padding: 0;}#sk-container-id-3 div.sk-toggleable {background-color: white;}#sk-container-id-3 label.sk-toggleable__label {cursor: pointer;display: block;width: 100%;margin-bottom: 0;padding: 0.3em;box-sizing: border-box;text-align: center;}#sk-container-id-3 label.sk-toggleable__label-arrow:before {content: \"▸\";float: left;margin-right: 0.25em;color: #696969;}#sk-container-id-3 label.sk-toggleable__label-arrow:hover:before {color: black;}#sk-container-id-3 div.sk-estimator:hover label.sk-toggleable__label-arrow:before {color: black;}#sk-container-id-3 div.sk-toggleable__content {max-height: 0;max-width: 0;overflow: hidden;text-align: left;background-color: #f0f8ff;}#sk-container-id-3 div.sk-toggleable__content pre {margin: 0.2em;color: black;border-radius: 0.25em;background-color: #f0f8ff;}#sk-container-id-3 input.sk-toggleable__control:checked~div.sk-toggleable__content {max-height: 200px;max-width: 100%;overflow: auto;}#sk-container-id-3 input.sk-toggleable__control:checked~label.sk-toggleable__label-arrow:before {content: \"▾\";}#sk-container-id-3 div.sk-estimator input.sk-toggleable__control:checked~label.sk-toggleable__label {background-color: #d4ebff;}#sk-container-id-3 div.sk-label input.sk-toggleable__control:checked~label.sk-toggleable__label {background-color: #d4ebff;}#sk-container-id-3 input.sk-hidden--visually {border: 0;clip: rect(1px 1px 1px 1px);clip: rect(1px, 1px, 1px, 1px);height: 1px;margin: -1px;overflow: hidden;padding: 0;position: absolute;width: 1px;}#sk-container-id-3 div.sk-estimator {font-family: monospace;background-color: #f0f8ff;border: 1px dotted black;border-radius: 0.25em;box-sizing: border-box;margin-bottom: 0.5em;}#sk-container-id-3 div.sk-estimator:hover {background-color: #d4ebff;}#sk-container-id-3 div.sk-parallel-item::after {content: \"\";width: 100%;border-bottom: 1px solid gray;flex-grow: 1;}#sk-container-id-3 div.sk-label:hover label.sk-toggleable__label {background-color: #d4ebff;}#sk-container-id-3 div.sk-serial::before {content: \"\";position: absolute;border-left: 1px solid gray;box-sizing: border-box;top: 0;bottom: 0;left: 50%;z-index: 0;}#sk-container-id-3 div.sk-serial {display: flex;flex-direction: column;align-items: center;background-color: white;padding-right: 0.2em;padding-left: 0.2em;position: relative;}#sk-container-id-3 div.sk-item {position: relative;z-index: 1;}#sk-container-id-3 div.sk-parallel {display: flex;align-items: stretch;justify-content: center;background-color: white;position: relative;}#sk-container-id-3 div.sk-item::before, #sk-container-id-3 div.sk-parallel-item::before {content: \"\";position: absolute;border-left: 1px solid gray;box-sizing: border-box;top: 0;bottom: 0;left: 50%;z-index: -1;}#sk-container-id-3 div.sk-parallel-item {display: flex;flex-direction: column;z-index: 1;position: relative;background-color: white;}#sk-container-id-3 div.sk-parallel-item:first-child::after {align-self: flex-end;width: 50%;}#sk-container-id-3 div.sk-parallel-item:last-child::after {align-self: flex-start;width: 50%;}#sk-container-id-3 div.sk-parallel-item:only-child::after {width: 0;}#sk-container-id-3 div.sk-dashed-wrapped {border: 1px dashed gray;margin: 0 0.4em 0.5em 0.4em;box-sizing: border-box;padding-bottom: 0.4em;background-color: white;}#sk-container-id-3 div.sk-label label {font-family: monospace;font-weight: bold;display: inline-block;line-height: 1.2em;}#sk-container-id-3 div.sk-label-container {text-align: center;}#sk-container-id-3 div.sk-container {/* jupyter's `normalize.less` sets `[hidden] { display: none; }` but bootstrap.min.css set `[hidden] { display: none !important; }` so we also need the `!important` here to be able to override the default hidden behavior on the sphinx rendered scikit-learn.org. See: https://github.com/scikit-learn/scikit-learn/issues/21755 */display: inline-block !important;position: relative;}#sk-container-id-3 div.sk-text-repr-fallback {display: none;}</style><div id=\"sk-container-id-3\" class=\"sk-top-container\"><div class=\"sk-text-repr-fallback\"><pre>LogisticRegression(max_iter=2000)</pre><b>In a Jupyter environment, please rerun this cell to show the HTML representation or trust the notebook. <br />On GitHub, the HTML representation is unable to render, please try loading this page with nbviewer.org.</b></div><div class=\"sk-container\" hidden><div class=\"sk-item\"><div class=\"sk-estimator sk-toggleable\"><input class=\"sk-toggleable__control sk-hidden--visually\" id=\"sk-estimator-id-3\" type=\"checkbox\" checked><label for=\"sk-estimator-id-3\" class=\"sk-toggleable__label sk-toggleable__label-arrow\">LogisticRegression</label><div class=\"sk-toggleable__content\"><pre>LogisticRegression(max_iter=2000)</pre></div></div></div></div></div>"
      ]
     },
     "execution_count": 75,
     "metadata": {},
     "output_type": "execute_result"
    }
   ],
   "execution_count": 75
  },
  {
   "cell_type": "code",
   "id": "ca5e2d3d6fbaaf33",
   "metadata": {
    "ExecuteTime": {
     "end_time": "2024-10-23T12:53:29.585479Z",
     "start_time": "2024-10-23T12:53:29.565423Z"
    }
   },
   "source": [
    "model.coef_"
   ],
   "outputs": [
    {
     "data": {
      "text/plain": [
       "array([[ 4.74728624e-01, -1.74872862e-01, -4.07535184e-01,\n",
       "        -2.96786536e-02, -7.80007679e-02,  6.26849567e-02,\n",
       "        -8.89697132e-02, -8.13946650e-02, -3.43112283e-02,\n",
       "        -7.33681931e-02, -3.35213502e-01,  3.16503794e-01,\n",
       "        -8.89697132e-02,  3.67496503e-03, -2.58138174e-01,\n",
       "         1.41435338e-01,  9.02341416e-03,  6.25315284e-02,\n",
       "        -8.89697132e-02, -8.12412367e-02,  2.65588833e-01,\n",
       "        -8.89697132e-02, -2.84298541e-01, -2.31210530e-01,\n",
       "         1.23531108e-01, -1.66016537e-01,  5.83371158e-02,\n",
       "        -8.70093394e-02, -3.20596826e-02,  7.04944854e-02,\n",
       "        -5.91048849e-02,  1.41435338e-01, -2.49114760e-01,\n",
       "         2.15475176e-01, -1.20364883e-01, -8.89697132e-02,\n",
       "         1.01655175e-01, -7.08945655e-02, -8.89697132e-02,\n",
       "         5.21848572e-02,  2.13385956e-01, -8.89697132e-02,\n",
       "        -2.32095664e-01, -7.04074076e-02,  3.82387541e-04]])"
      ]
     },
     "execution_count": 76,
     "metadata": {},
     "output_type": "execute_result"
    }
   ],
   "execution_count": 76
  },
  {
   "cell_type": "code",
   "id": "42ddd4cf7ab92664",
   "metadata": {
    "ExecuteTime": {
     "end_time": "2024-10-23T12:53:32.657883Z",
     "start_time": "2024-10-23T12:53:32.644713Z"
    }
   },
   "source": [
    "y_pred = model.predict_proba(X_val)[:, 1]"
   ],
   "outputs": [],
   "execution_count": 77
  },
  {
   "cell_type": "code",
   "id": "2e493de63f7c18a6",
   "metadata": {
    "ExecuteTime": {
     "end_time": "2024-10-23T12:53:34.335789Z",
     "start_time": "2024-10-23T12:53:34.317246Z"
    }
   },
   "source": [
    "y_pred"
   ],
   "outputs": [
    {
     "data": {
      "text/plain": [
       "array([0.00899651, 0.20452244, 0.21222495, ..., 0.1363896 , 0.79978028,\n",
       "       0.83741617])"
      ]
     },
     "execution_count": 78,
     "metadata": {},
     "output_type": "execute_result"
    }
   ],
   "execution_count": 78
  },
  {
   "cell_type": "code",
   "id": "ee4578a9af821bc6",
   "metadata": {
    "ExecuteTime": {
     "end_time": "2024-10-23T12:53:35.922575Z",
     "start_time": "2024-10-23T12:53:35.912473Z"
    }
   },
   "source": [
    "churn_decision = y_pred>= 0.5"
   ],
   "outputs": [],
   "execution_count": 79
  },
  {
   "cell_type": "code",
   "id": "fc350aaa6c73bc08",
   "metadata": {
    "ExecuteTime": {
     "end_time": "2024-10-23T12:53:37.297042Z",
     "start_time": "2024-10-23T12:53:37.278728Z"
    }
   },
   "source": [
    "df_val[churn_decision].customerid"
   ],
   "outputs": [
    {
     "data": {
      "text/plain": [
       "3       8433-wxgna\n",
       "8       3440-jpscl\n",
       "11      2637-fkfsy\n",
       "12      7228-omtpn\n",
       "19      6711-fldfb\n",
       "           ...    \n",
       "1397    5976-jcjrh\n",
       "1398    2034-cgrhz\n",
       "1399    5276-kqwhg\n",
       "1407    6521-yytyi\n",
       "1408    3049-solay\n",
       "Name: customerid, Length: 311, dtype: object"
      ]
     },
     "execution_count": 80,
     "metadata": {},
     "output_type": "execute_result"
    }
   ],
   "execution_count": 80
  },
  {
   "cell_type": "code",
   "id": "c4b67625af983906",
   "metadata": {
    "ExecuteTime": {
     "end_time": "2024-10-23T12:53:39.199505Z",
     "start_time": "2024-10-23T12:53:39.185095Z"
    }
   },
   "source": [
    "score = (y_val == churn_decision).mean()"
   ],
   "outputs": [],
   "execution_count": 81
  },
  {
   "cell_type": "code",
   "id": "11fb4d020a40defa",
   "metadata": {
    "ExecuteTime": {
     "end_time": "2024-10-23T12:53:40.111841Z",
     "start_time": "2024-10-23T12:53:40.098688Z"
    }
   },
   "source": [
    "score"
   ],
   "outputs": [
    {
     "data": {
      "text/plain": [
       "0.8034066713981547"
      ]
     },
     "execution_count": 82,
     "metadata": {},
     "output_type": "execute_result"
    }
   ],
   "execution_count": 82
  },
  {
   "cell_type": "code",
   "id": "2bacfb9598f0b8a4",
   "metadata": {
    "ExecuteTime": {
     "end_time": "2024-10-23T12:53:42.902961Z",
     "start_time": "2024-10-23T12:53:42.879631Z"
    }
   },
   "source": [
    "t = model.predict(X_val)\n",
    "(y_val == t).mean()"
   ],
   "outputs": [
    {
     "data": {
      "text/plain": [
       "0.8034066713981547"
      ]
     },
     "execution_count": 83,
     "metadata": {},
     "output_type": "execute_result"
    }
   ],
   "execution_count": 83
  },
  {
   "cell_type": "markdown",
   "id": "75b928c0f00b4b7d",
   "metadata": {},
   "source": [
    "# 3.11 Model interpretation"
   ]
  },
  {
   "cell_type": "code",
   "execution_count": 75,
   "id": "30e07bb6a119a2d",
   "metadata": {
    "ExecuteTime": {
     "end_time": "2024-10-21T16:53:37.973595Z",
     "start_time": "2024-10-21T16:53:37.965782Z"
    }
   },
   "outputs": [
    {
     "data": {
      "text/plain": [
       "array([-0.04738258])"
      ]
     },
     "execution_count": 75,
     "metadata": {},
     "output_type": "execute_result"
    }
   ],
   "source": [
    "model.intercept_"
   ]
  },
  {
   "cell_type": "code",
   "execution_count": 76,
   "id": "968e82758180f25e",
   "metadata": {
    "ExecuteTime": {
     "end_time": "2024-10-21T16:53:43.104816Z",
     "start_time": "2024-10-21T16:53:43.096311Z"
    }
   },
   "outputs": [
    {
     "data": {
      "text/plain": [
       "array([ 6.82283264e-01,  3.30015611e-02, -6.77385900e-01,  5.37120149e-02,\n",
       "       -1.58130885e-02,  1.12236013e-01, -1.58524210e-01,  8.41871236e-02,\n",
       "        3.81278070e-02, -2.28880424e-04, -4.94448737e-01,  6.90871875e-01,\n",
       "       -1.58524210e-01, -1.75575534e-02, -1.89126456e-01,  6.83786900e-02,\n",
       "        1.58646692e-01,  1.15496068e-01, -1.58524210e-01,  8.09270684e-02,\n",
       "        2.84471150e-01, -1.58524210e-01, -8.80480129e-02, -1.62612888e-01,\n",
       "        2.00511814e-01, -4.45698930e-02,  8.24688193e-02, -5.32151150e-02,\n",
       "       -3.22274515e-03,  1.06571014e-01, -1.22342276e-02,  6.83786900e-02,\n",
       "       -3.04797635e-02,  1.93048231e-01, -9.44938826e-02, -1.58524210e-01,\n",
       "        2.90917019e-01, -5.44261578e-02, -1.58524210e-01,  2.50849294e-01,\n",
       "        2.34163257e-01, -1.58524210e-01, -3.77401203e-02, -6.85254972e-02,\n",
       "        3.95898761e-04])"
      ]
     },
     "execution_count": 76,
     "metadata": {},
     "output_type": "execute_result"
    }
   ],
   "source": [
    "model.coef_[0]"
   ]
  },
  {
   "cell_type": "code",
   "execution_count": 77,
   "id": "56a671d5d41beed2",
   "metadata": {
    "ExecuteTime": {
     "end_time": "2024-10-21T16:53:47.392731Z",
     "start_time": "2024-10-21T16:53:47.383398Z"
    }
   },
   "outputs": [
    {
     "data": {
      "text/plain": [
       "{'contract=month-to-month': 0.682,\n",
       " 'contract=one_year': 0.033,\n",
       " 'contract=two_year': -0.677,\n",
       " 'dependents=no': 0.054,\n",
       " 'dependents=yes': -0.016,\n",
       " 'deviceprotection=no': 0.112,\n",
       " 'deviceprotection=no_internet_service': -0.159,\n",
       " 'deviceprotection=yes': 0.084,\n",
       " 'gender=female': 0.038,\n",
       " 'gender=male': -0.0,\n",
       " 'internetservice=dsl': -0.494,\n",
       " 'internetservice=fiber_optic': 0.691,\n",
       " 'internetservice=no': -0.159,\n",
       " 'monthlycharges': -0.018,\n",
       " 'multiplelines=no': -0.189,\n",
       " 'multiplelines=no_phone_service': 0.068,\n",
       " 'multiplelines=yes': 0.159,\n",
       " 'onlinebackup=no': 0.115,\n",
       " 'onlinebackup=no_internet_service': -0.159,\n",
       " 'onlinebackup=yes': 0.081,\n",
       " 'onlinesecurity=no': 0.284,\n",
       " 'onlinesecurity=no_internet_service': -0.159,\n",
       " 'onlinesecurity=yes': -0.088,\n",
       " 'paperlessbilling=no': -0.163,\n",
       " 'paperlessbilling=yes': 0.201,\n",
       " 'partner=no': -0.045,\n",
       " 'partner=yes': 0.082,\n",
       " 'paymentmethod=bank_transfer_(automatic)': -0.053,\n",
       " 'paymentmethod=credit_card_(automatic)': -0.003,\n",
       " 'paymentmethod=electronic_check': 0.107,\n",
       " 'paymentmethod=mailed_check': -0.012,\n",
       " 'phoneservice=no': 0.068,\n",
       " 'phoneservice=yes': -0.03,\n",
       " 'seniorcitizen': 0.193,\n",
       " 'streamingmovies=no': -0.094,\n",
       " 'streamingmovies=no_internet_service': -0.159,\n",
       " 'streamingmovies=yes': 0.291,\n",
       " 'streamingtv=no': -0.054,\n",
       " 'streamingtv=no_internet_service': -0.159,\n",
       " 'streamingtv=yes': 0.251,\n",
       " 'techsupport=no': 0.234,\n",
       " 'techsupport=no_internet_service': -0.159,\n",
       " 'techsupport=yes': -0.038,\n",
       " 'tenure': -0.069,\n",
       " 'totalcharges': 0.0}"
      ]
     },
     "execution_count": 77,
     "metadata": {},
     "output_type": "execute_result"
    }
   ],
   "source": [
    "dict(zip(dv.get_feature_names_out(),model.coef_[0].round(3)))"
   ]
  },
  {
   "cell_type": "markdown",
   "id": "cb31724977e3de19",
   "metadata": {},
   "source": [
    "# 3.12 Using the model"
   ]
  },
  {
   "cell_type": "code",
   "id": "5d00186ff54cd447",
   "metadata": {
    "ExecuteTime": {
     "end_time": "2024-10-23T12:51:46.342637Z",
     "start_time": "2024-10-23T12:51:46.204917Z"
    }
   },
   "source": [
    "dicts_full_train = df_full_train[categorical + numerical].to_dict(orient='records')"
   ],
   "outputs": [],
   "execution_count": 62
  },
  {
   "cell_type": "code",
   "id": "ec8c2874af364bd9",
   "metadata": {
    "ExecuteTime": {
     "end_time": "2024-10-23T12:51:47.480185Z",
     "start_time": "2024-10-23T12:51:47.452859Z"
    }
   },
   "source": [
    "dicts_full_train[:10]"
   ],
   "outputs": [
    {
     "data": {
      "text/plain": [
       "[{'gender': 'male',\n",
       "  'seniorcitizen': 0,\n",
       "  'partner': 'yes',\n",
       "  'dependents': 'yes',\n",
       "  'phoneservice': 'yes',\n",
       "  'multiplelines': 'no',\n",
       "  'internetservice': 'no',\n",
       "  'onlinesecurity': 'no_internet_service',\n",
       "  'onlinebackup': 'no_internet_service',\n",
       "  'deviceprotection': 'no_internet_service',\n",
       "  'techsupport': 'no_internet_service',\n",
       "  'streamingtv': 'no_internet_service',\n",
       "  'streamingmovies': 'no_internet_service',\n",
       "  'contract': 'two_year',\n",
       "  'paperlessbilling': 'no',\n",
       "  'paymentmethod': 'mailed_check',\n",
       "  'tenure': 12,\n",
       "  'monthlycharges': 19.7,\n",
       "  'totalcharges': 258.35},\n",
       " {'gender': 'female',\n",
       "  'seniorcitizen': 0,\n",
       "  'partner': 'no',\n",
       "  'dependents': 'no',\n",
       "  'phoneservice': 'yes',\n",
       "  'multiplelines': 'no',\n",
       "  'internetservice': 'dsl',\n",
       "  'onlinesecurity': 'yes',\n",
       "  'onlinebackup': 'yes',\n",
       "  'deviceprotection': 'yes',\n",
       "  'techsupport': 'yes',\n",
       "  'streamingtv': 'no',\n",
       "  'streamingmovies': 'yes',\n",
       "  'contract': 'one_year',\n",
       "  'paperlessbilling': 'no',\n",
       "  'paymentmethod': 'credit_card_(automatic)',\n",
       "  'tenure': 42,\n",
       "  'monthlycharges': 73.9,\n",
       "  'totalcharges': 3160.55},\n",
       " {'gender': 'male',\n",
       "  'seniorcitizen': 0,\n",
       "  'partner': 'yes',\n",
       "  'dependents': 'no',\n",
       "  'phoneservice': 'yes',\n",
       "  'multiplelines': 'yes',\n",
       "  'internetservice': 'dsl',\n",
       "  'onlinesecurity': 'yes',\n",
       "  'onlinebackup': 'yes',\n",
       "  'deviceprotection': 'no',\n",
       "  'techsupport': 'yes',\n",
       "  'streamingtv': 'no',\n",
       "  'streamingmovies': 'no',\n",
       "  'contract': 'two_year',\n",
       "  'paperlessbilling': 'no',\n",
       "  'paymentmethod': 'bank_transfer_(automatic)',\n",
       "  'tenure': 71,\n",
       "  'monthlycharges': 65.15,\n",
       "  'totalcharges': 4681.75},\n",
       " {'gender': 'male',\n",
       "  'seniorcitizen': 0,\n",
       "  'partner': 'yes',\n",
       "  'dependents': 'yes',\n",
       "  'phoneservice': 'yes',\n",
       "  'multiplelines': 'yes',\n",
       "  'internetservice': 'dsl',\n",
       "  'onlinesecurity': 'yes',\n",
       "  'onlinebackup': 'no',\n",
       "  'deviceprotection': 'yes',\n",
       "  'techsupport': 'yes',\n",
       "  'streamingtv': 'yes',\n",
       "  'streamingmovies': 'yes',\n",
       "  'contract': 'one_year',\n",
       "  'paperlessbilling': 'no',\n",
       "  'paymentmethod': 'electronic_check',\n",
       "  'tenure': 71,\n",
       "  'monthlycharges': 85.45,\n",
       "  'totalcharges': 6300.85},\n",
       " {'gender': 'male',\n",
       "  'seniorcitizen': 0,\n",
       "  'partner': 'no',\n",
       "  'dependents': 'no',\n",
       "  'phoneservice': 'yes',\n",
       "  'multiplelines': 'no',\n",
       "  'internetservice': 'dsl',\n",
       "  'onlinesecurity': 'yes',\n",
       "  'onlinebackup': 'yes',\n",
       "  'deviceprotection': 'no',\n",
       "  'techsupport': 'yes',\n",
       "  'streamingtv': 'yes',\n",
       "  'streamingmovies': 'no',\n",
       "  'contract': 'one_year',\n",
       "  'paperlessbilling': 'no',\n",
       "  'paymentmethod': 'electronic_check',\n",
       "  'tenure': 30,\n",
       "  'monthlycharges': 70.4,\n",
       "  'totalcharges': 2044.75},\n",
       " {'gender': 'female',\n",
       "  'seniorcitizen': 0,\n",
       "  'partner': 'yes',\n",
       "  'dependents': 'yes',\n",
       "  'phoneservice': 'yes',\n",
       "  'multiplelines': 'no',\n",
       "  'internetservice': 'dsl',\n",
       "  'onlinesecurity': 'yes',\n",
       "  'onlinebackup': 'yes',\n",
       "  'deviceprotection': 'yes',\n",
       "  'techsupport': 'yes',\n",
       "  'streamingtv': 'no',\n",
       "  'streamingmovies': 'no',\n",
       "  'contract': 'month-to-month',\n",
       "  'paperlessbilling': 'no',\n",
       "  'paymentmethod': 'mailed_check',\n",
       "  'tenure': 9,\n",
       "  'monthlycharges': 65.0,\n",
       "  'totalcharges': 663.05},\n",
       " {'gender': 'male',\n",
       "  'seniorcitizen': 0,\n",
       "  'partner': 'yes',\n",
       "  'dependents': 'no',\n",
       "  'phoneservice': 'yes',\n",
       "  'multiplelines': 'yes',\n",
       "  'internetservice': 'fiber_optic',\n",
       "  'onlinesecurity': 'yes',\n",
       "  'onlinebackup': 'yes',\n",
       "  'deviceprotection': 'yes',\n",
       "  'techsupport': 'no',\n",
       "  'streamingtv': 'no',\n",
       "  'streamingmovies': 'yes',\n",
       "  'contract': 'two_year',\n",
       "  'paperlessbilling': 'yes',\n",
       "  'paymentmethod': 'electronic_check',\n",
       "  'tenure': 72,\n",
       "  'monthlycharges': 99.15,\n",
       "  'totalcharges': 7422.1},\n",
       " {'gender': 'male',\n",
       "  'seniorcitizen': 0,\n",
       "  'partner': 'no',\n",
       "  'dependents': 'no',\n",
       "  'phoneservice': 'yes',\n",
       "  'multiplelines': 'no',\n",
       "  'internetservice': 'fiber_optic',\n",
       "  'onlinesecurity': 'no',\n",
       "  'onlinebackup': 'no',\n",
       "  'deviceprotection': 'yes',\n",
       "  'techsupport': 'yes',\n",
       "  'streamingtv': 'no',\n",
       "  'streamingmovies': 'yes',\n",
       "  'contract': 'month-to-month',\n",
       "  'paperlessbilling': 'no',\n",
       "  'paymentmethod': 'electronic_check',\n",
       "  'tenure': 28,\n",
       "  'monthlycharges': 91.0,\n",
       "  'totalcharges': 2626.15},\n",
       " {'gender': 'male',\n",
       "  'seniorcitizen': 1,\n",
       "  'partner': 'yes',\n",
       "  'dependents': 'no',\n",
       "  'phoneservice': 'yes',\n",
       "  'multiplelines': 'yes',\n",
       "  'internetservice': 'fiber_optic',\n",
       "  'onlinesecurity': 'no',\n",
       "  'onlinebackup': 'no',\n",
       "  'deviceprotection': 'yes',\n",
       "  'techsupport': 'no',\n",
       "  'streamingtv': 'no',\n",
       "  'streamingmovies': 'no',\n",
       "  'contract': 'month-to-month',\n",
       "  'paperlessbilling': 'yes',\n",
       "  'paymentmethod': 'electronic_check',\n",
       "  'tenure': 6,\n",
       "  'monthlycharges': 80.8,\n",
       "  'totalcharges': 457.1},\n",
       " {'gender': 'female',\n",
       "  'seniorcitizen': 1,\n",
       "  'partner': 'yes',\n",
       "  'dependents': 'yes',\n",
       "  'phoneservice': 'yes',\n",
       "  'multiplelines': 'no',\n",
       "  'internetservice': 'fiber_optic',\n",
       "  'onlinesecurity': 'no',\n",
       "  'onlinebackup': 'no',\n",
       "  'deviceprotection': 'no',\n",
       "  'techsupport': 'no',\n",
       "  'streamingtv': 'no',\n",
       "  'streamingmovies': 'no',\n",
       "  'contract': 'month-to-month',\n",
       "  'paperlessbilling': 'no',\n",
       "  'paymentmethod': 'bank_transfer_(automatic)',\n",
       "  'tenure': 47,\n",
       "  'monthlycharges': 70.55,\n",
       "  'totalcharges': 3309.25}]"
      ]
     },
     "execution_count": 63,
     "metadata": {},
     "output_type": "execute_result"
    }
   ],
   "execution_count": 63
  },
  {
   "cell_type": "code",
   "id": "677488ff9ae4ae3d",
   "metadata": {
    "ExecuteTime": {
     "end_time": "2024-10-23T12:51:51.542058Z",
     "start_time": "2024-10-23T12:51:51.333159Z"
    }
   },
   "source": [
    "dv = DictVectorizer(sparse=False)\n",
    "X_full_train = dv.fit_transform(dicts_full_train)"
   ],
   "outputs": [],
   "execution_count": 64
  },
  {
   "cell_type": "code",
   "id": "10524ce123152422",
   "metadata": {
    "ExecuteTime": {
     "end_time": "2024-10-23T12:51:53.766659Z",
     "start_time": "2024-10-23T12:51:53.752512Z"
    }
   },
   "source": [
    "y_full_train = df_full_train['churn'].values"
   ],
   "outputs": [],
   "execution_count": 65
  },
  {
   "cell_type": "code",
   "id": "fcea47b79cf2d31e",
   "metadata": {
    "ExecuteTime": {
     "end_time": "2024-10-23T12:51:58.644151Z",
     "start_time": "2024-10-23T12:51:58.573244Z"
    }
   },
   "source": [
    "model = LogisticRegression(max_iter=2700)\n",
    "model.fit(X_full_train, y_full_train)"
   ],
   "outputs": [
    {
     "data": {
      "text/plain": [
       "LogisticRegression(max_iter=2700)"
      ],
      "text/html": [
       "<style>#sk-container-id-2 {color: black;}#sk-container-id-2 pre{padding: 0;}#sk-container-id-2 div.sk-toggleable {background-color: white;}#sk-container-id-2 label.sk-toggleable__label {cursor: pointer;display: block;width: 100%;margin-bottom: 0;padding: 0.3em;box-sizing: border-box;text-align: center;}#sk-container-id-2 label.sk-toggleable__label-arrow:before {content: \"▸\";float: left;margin-right: 0.25em;color: #696969;}#sk-container-id-2 label.sk-toggleable__label-arrow:hover:before {color: black;}#sk-container-id-2 div.sk-estimator:hover label.sk-toggleable__label-arrow:before {color: black;}#sk-container-id-2 div.sk-toggleable__content {max-height: 0;max-width: 0;overflow: hidden;text-align: left;background-color: #f0f8ff;}#sk-container-id-2 div.sk-toggleable__content pre {margin: 0.2em;color: black;border-radius: 0.25em;background-color: #f0f8ff;}#sk-container-id-2 input.sk-toggleable__control:checked~div.sk-toggleable__content {max-height: 200px;max-width: 100%;overflow: auto;}#sk-container-id-2 input.sk-toggleable__control:checked~label.sk-toggleable__label-arrow:before {content: \"▾\";}#sk-container-id-2 div.sk-estimator input.sk-toggleable__control:checked~label.sk-toggleable__label {background-color: #d4ebff;}#sk-container-id-2 div.sk-label input.sk-toggleable__control:checked~label.sk-toggleable__label {background-color: #d4ebff;}#sk-container-id-2 input.sk-hidden--visually {border: 0;clip: rect(1px 1px 1px 1px);clip: rect(1px, 1px, 1px, 1px);height: 1px;margin: -1px;overflow: hidden;padding: 0;position: absolute;width: 1px;}#sk-container-id-2 div.sk-estimator {font-family: monospace;background-color: #f0f8ff;border: 1px dotted black;border-radius: 0.25em;box-sizing: border-box;margin-bottom: 0.5em;}#sk-container-id-2 div.sk-estimator:hover {background-color: #d4ebff;}#sk-container-id-2 div.sk-parallel-item::after {content: \"\";width: 100%;border-bottom: 1px solid gray;flex-grow: 1;}#sk-container-id-2 div.sk-label:hover label.sk-toggleable__label {background-color: #d4ebff;}#sk-container-id-2 div.sk-serial::before {content: \"\";position: absolute;border-left: 1px solid gray;box-sizing: border-box;top: 0;bottom: 0;left: 50%;z-index: 0;}#sk-container-id-2 div.sk-serial {display: flex;flex-direction: column;align-items: center;background-color: white;padding-right: 0.2em;padding-left: 0.2em;position: relative;}#sk-container-id-2 div.sk-item {position: relative;z-index: 1;}#sk-container-id-2 div.sk-parallel {display: flex;align-items: stretch;justify-content: center;background-color: white;position: relative;}#sk-container-id-2 div.sk-item::before, #sk-container-id-2 div.sk-parallel-item::before {content: \"\";position: absolute;border-left: 1px solid gray;box-sizing: border-box;top: 0;bottom: 0;left: 50%;z-index: -1;}#sk-container-id-2 div.sk-parallel-item {display: flex;flex-direction: column;z-index: 1;position: relative;background-color: white;}#sk-container-id-2 div.sk-parallel-item:first-child::after {align-self: flex-end;width: 50%;}#sk-container-id-2 div.sk-parallel-item:last-child::after {align-self: flex-start;width: 50%;}#sk-container-id-2 div.sk-parallel-item:only-child::after {width: 0;}#sk-container-id-2 div.sk-dashed-wrapped {border: 1px dashed gray;margin: 0 0.4em 0.5em 0.4em;box-sizing: border-box;padding-bottom: 0.4em;background-color: white;}#sk-container-id-2 div.sk-label label {font-family: monospace;font-weight: bold;display: inline-block;line-height: 1.2em;}#sk-container-id-2 div.sk-label-container {text-align: center;}#sk-container-id-2 div.sk-container {/* jupyter's `normalize.less` sets `[hidden] { display: none; }` but bootstrap.min.css set `[hidden] { display: none !important; }` so we also need the `!important` here to be able to override the default hidden behavior on the sphinx rendered scikit-learn.org. See: https://github.com/scikit-learn/scikit-learn/issues/21755 */display: inline-block !important;position: relative;}#sk-container-id-2 div.sk-text-repr-fallback {display: none;}</style><div id=\"sk-container-id-2\" class=\"sk-top-container\"><div class=\"sk-text-repr-fallback\"><pre>LogisticRegression(max_iter=2700)</pre><b>In a Jupyter environment, please rerun this cell to show the HTML representation or trust the notebook. <br />On GitHub, the HTML representation is unable to render, please try loading this page with nbviewer.org.</b></div><div class=\"sk-container\" hidden><div class=\"sk-item\"><div class=\"sk-estimator sk-toggleable\"><input class=\"sk-toggleable__control sk-hidden--visually\" id=\"sk-estimator-id-2\" type=\"checkbox\" checked><label for=\"sk-estimator-id-2\" class=\"sk-toggleable__label sk-toggleable__label-arrow\">LogisticRegression</label><div class=\"sk-toggleable__content\"><pre>LogisticRegression(max_iter=2700)</pre></div></div></div></div></div>"
      ]
     },
     "execution_count": 66,
     "metadata": {},
     "output_type": "execute_result"
    }
   ],
   "execution_count": 66
  },
  {
   "cell_type": "code",
   "id": "2babf5d3f04a6a3a",
   "metadata": {
    "ExecuteTime": {
     "end_time": "2024-10-23T12:52:04.192287Z",
     "start_time": "2024-10-23T12:52:04.146311Z"
    }
   },
   "source": [
    "dicts_test = df_test[categorical + numerical].to_dict(orient='records')"
   ],
   "outputs": [],
   "execution_count": 67
  },
  {
   "cell_type": "code",
   "id": "ca8c32f1fa46db99",
   "metadata": {
    "ExecuteTime": {
     "end_time": "2024-10-23T12:52:04.904417Z",
     "start_time": "2024-10-23T12:52:04.841360Z"
    }
   },
   "source": [
    "X_test = dv.transform(dicts_test)"
   ],
   "outputs": [],
   "execution_count": 68
  },
  {
   "cell_type": "code",
   "id": "96afcf36d7b0346c",
   "metadata": {
    "ExecuteTime": {
     "end_time": "2024-10-23T12:52:05.430732Z",
     "start_time": "2024-10-23T12:52:05.418231Z"
    }
   },
   "source": [
    "y_pred = model.predict_proba(X_test)[:, 1]"
   ],
   "outputs": [],
   "execution_count": 69
  },
  {
   "cell_type": "code",
   "id": "9bc94babafa6e058",
   "metadata": {
    "ExecuteTime": {
     "end_time": "2024-10-23T12:52:07.136522Z",
     "start_time": "2024-10-23T12:52:07.127454Z"
    }
   },
   "source": [
    "churn_decision = y_pred>= 0.5"
   ],
   "outputs": [],
   "execution_count": 70
  },
  {
   "cell_type": "code",
   "id": "6b3c10dbc3079aae",
   "metadata": {
    "ExecuteTime": {
     "end_time": "2024-10-23T12:52:08.014088Z",
     "start_time": "2024-10-23T12:52:07.998586Z"
    }
   },
   "source": [
    "(churn_decision == y_test).mean()"
   ],
   "outputs": [
    {
     "data": {
      "text/plain": [
       "0.815471965933286"
      ]
     },
     "execution_count": 71,
     "metadata": {},
     "output_type": "execute_result"
    }
   ],
   "execution_count": 71
  },
  {
   "cell_type": "markdown",
   "id": "3a753827edf8df66",
   "metadata": {},
   "source": [
    "# 4.2 Accuracy and dummy model"
   ]
  },
  {
   "cell_type": "code",
   "id": "3085b177bbd38a21",
   "metadata": {
    "ExecuteTime": {
     "end_time": "2024-10-23T12:54:01.879714Z",
     "start_time": "2024-10-23T12:54:01.857366Z"
    }
   },
   "source": [
    "len(y_val)"
   ],
   "outputs": [
    {
     "data": {
      "text/plain": [
       "1409"
      ]
     },
     "execution_count": 84,
     "metadata": {},
     "output_type": "execute_result"
    }
   ],
   "execution_count": 84
  },
  {
   "cell_type": "code",
   "id": "c9a15039bcc5d191",
   "metadata": {
    "ExecuteTime": {
     "end_time": "2024-10-23T12:54:04.212929Z",
     "start_time": "2024-10-23T12:54:04.190517Z"
    }
   },
   "source": [
    "(y_val == churn_decision).sum()"
   ],
   "outputs": [
    {
     "data": {
      "text/plain": [
       "1132"
      ]
     },
     "execution_count": 85,
     "metadata": {},
     "output_type": "execute_result"
    }
   ],
   "execution_count": 85
  },
  {
   "cell_type": "code",
   "id": "2fb501a315a43f1",
   "metadata": {
    "ExecuteTime": {
     "end_time": "2024-10-23T12:54:08.673027Z",
     "start_time": "2024-10-23T12:54:08.655976Z"
    }
   },
   "source": [
    "1132/1409"
   ],
   "outputs": [
    {
     "data": {
      "text/plain": [
       "0.8034066713981547"
      ]
     },
     "execution_count": 86,
     "metadata": {},
     "output_type": "execute_result"
    }
   ],
   "execution_count": 86
  },
  {
   "cell_type": "code",
   "id": "742003a41ed7057e",
   "metadata": {
    "ExecuteTime": {
     "end_time": "2024-10-23T12:54:21.625533Z",
     "start_time": "2024-10-23T12:54:21.602037Z"
    }
   },
   "source": [
    "thresholds = np.linspace(0, 1, 21)\n",
    "scores = []\n",
    "print(thresholds)\n",
    "for t in thresholds:\n",
    "    churn_decision = (y_pred >= t)\n",
    "    score = (y_val == churn_decision).mean()\n",
    "    print('%.2f %.3f' % (t, score))\n",
    "    scores.append(score)"
   ],
   "outputs": [
    {
     "name": "stdout",
     "output_type": "stream",
     "text": [
      "[0.   0.05 0.1  0.15 0.2  0.25 0.3  0.35 0.4  0.45 0.5  0.55 0.6  0.65\n",
      " 0.7  0.75 0.8  0.85 0.9  0.95 1.  ]\n",
      "0.00 0.274\n",
      "0.05 0.509\n",
      "0.10 0.591\n",
      "0.15 0.666\n",
      "0.20 0.710\n",
      "0.25 0.739\n",
      "0.30 0.760\n",
      "0.35 0.772\n",
      "0.40 0.785\n",
      "0.45 0.793\n",
      "0.50 0.803\n",
      "0.55 0.801\n",
      "0.60 0.795\n",
      "0.65 0.786\n",
      "0.70 0.766\n",
      "0.75 0.744\n",
      "0.80 0.735\n",
      "0.85 0.726\n",
      "0.90 0.726\n",
      "0.95 0.726\n",
      "1.00 0.726\n"
     ]
    }
   ],
   "execution_count": 87
  },
  {
   "cell_type": "code",
   "id": "e2268bb819dd9e7d",
   "metadata": {
    "ExecuteTime": {
     "end_time": "2024-10-23T12:54:26.857657Z",
     "start_time": "2024-10-23T12:54:26.670346Z"
    }
   },
   "source": [
    "plt.plot(thresholds, scores)"
   ],
   "outputs": [
    {
     "data": {
      "text/plain": [
       "[<matplotlib.lines.Line2D at 0x24387490e80>]"
      ]
     },
     "execution_count": 88,
     "metadata": {},
     "output_type": "execute_result"
    },
    {
     "data": {
      "text/plain": [
       "<Figure size 640x480 with 1 Axes>"
      ],
      "image/png": "[encoded data removed]"
     },
     "metadata": {},
     "output_type": "display_data"
    }
   ],
   "execution_count": 88
  },
  {
   "cell_type": "code",
   "id": "d7431d9cbf17486",
   "metadata": {
    "ExecuteTime": {
     "end_time": "2024-10-23T12:54:30.830716Z",
     "start_time": "2024-10-23T12:54:30.817303Z"
    }
   },
   "source": [
    "from sklearn.metrics import accuracy_score"
   ],
   "outputs": [],
   "execution_count": 89
  },
  {
   "cell_type": "code",
   "id": "721eee2fd2623d46",
   "metadata": {
    "ExecuteTime": {
     "end_time": "2024-10-23T12:54:34.827985Z",
     "start_time": "2024-10-23T12:54:34.795361Z"
    }
   },
   "source": [
    "thresholds = np.linspace(0, 1, 21)\n",
    "scores = []\n",
    "for t in thresholds:\n",
    "    churn_decision = (y_pred >= t)\n",
    "    score = accuracy_score(y_val, churn_decision)\n",
    "    print('%.2f %.3f' % (t, score))\n",
    "    scores.append(score)"
   ],
   "outputs": [
    {
     "name": "stdout",
     "output_type": "stream",
     "text": [
      "0.00 0.274\n",
      "0.05 0.509\n",
      "0.10 0.591\n",
      "0.15 0.666\n",
      "0.20 0.710\n",
      "0.25 0.739\n",
      "0.30 0.760\n",
      "0.35 0.772\n",
      "0.40 0.785\n",
      "0.45 0.793\n",
      "0.50 0.803\n",
      "0.55 0.801\n",
      "0.60 0.795\n",
      "0.65 0.786\n",
      "0.70 0.766\n",
      "0.75 0.744\n",
      "0.80 0.735\n",
      "0.85 0.726\n",
      "0.90 0.726\n",
      "0.95 0.726\n",
      "1.00 0.726\n"
     ]
    }
   ],
   "execution_count": 90
  },
  {
   "cell_type": "code",
   "id": "5f607f7f846b44be",
   "metadata": {
    "ExecuteTime": {
     "end_time": "2024-10-23T12:54:38.496273Z",
     "start_time": "2024-10-23T12:54:38.489148Z"
    }
   },
   "source": [
    "y_val.mean()"
   ],
   "outputs": [
    {
     "data": {
      "text/plain": [
       "0.2739531582682754"
      ]
     },
     "execution_count": 91,
     "metadata": {},
     "output_type": "execute_result"
    }
   ],
   "execution_count": 91
  },
  {
   "cell_type": "code",
   "id": "b6fcd5284d68028d",
   "metadata": {
    "ExecuteTime": {
     "end_time": "2024-10-23T12:54:41.595692Z",
     "start_time": "2024-10-23T12:54:41.575395Z"
    }
   },
   "source": [
    "1 - y_val.mean()"
   ],
   "outputs": [
    {
     "data": {
      "text/plain": [
       "0.7260468417317246"
      ]
     },
     "execution_count": 92,
     "metadata": {},
     "output_type": "execute_result"
    }
   ],
   "execution_count": 92
  },
  {
   "cell_type": "markdown",
   "id": "f1a16ac1c1e34e63",
   "metadata": {},
   "source": [
    "# 4.3 Confusion table"
   ]
  },
  {
   "metadata": {},
   "cell_type": "markdown",
   "source": "![conf-oval](images/conf-oval.png)",
   "id": "c743c693601b13de"
  },
  {
   "metadata": {},
   "cell_type": "markdown",
   "source": "![conf-mat](images/conf-mat.png)",
   "id": "6abcbd33c9676343"
  },
  {
   "cell_type": "code",
   "id": "492a1bafda8ddc74",
   "metadata": {
    "ExecuteTime": {
     "end_time": "2024-10-23T12:54:55.044869Z",
     "start_time": "2024-10-23T12:54:55.031726Z"
    }
   },
   "source": [
    "actual_positive = (y_val == 1)\n",
    "actual_negative = (y_val == 0)"
   ],
   "outputs": [],
   "execution_count": 93
  },
  {
   "cell_type": "code",
   "id": "7d7ff81c3e210d46",
   "metadata": {
    "ExecuteTime": {
     "end_time": "2024-10-23T12:54:56.016111Z",
     "start_time": "2024-10-23T12:54:56.002958Z"
    }
   },
   "source": [
    "t = 0.5\n",
    "predict_positive = (y_pred >= t)\n",
    "predict_negative = (y_pred < t)"
   ],
   "outputs": [],
   "execution_count": 94
  },
  {
   "cell_type": "code",
   "id": "539cf7bd19ac9d3",
   "metadata": {
    "ExecuteTime": {
     "end_time": "2024-10-23T12:54:57.917174Z",
     "start_time": "2024-10-23T12:54:57.896949Z"
    }
   },
   "source": [
    "tp = (predict_positive & actual_positive).sum()\n",
    "tn = (predict_negative & actual_negative).sum()"
   ],
   "outputs": [],
   "execution_count": 95
  },
  {
   "cell_type": "code",
   "id": "49bb7727ec67bac4",
   "metadata": {
    "ExecuteTime": {
     "end_time": "2024-10-23T12:54:58.373370Z",
     "start_time": "2024-10-23T12:54:58.360001Z"
    }
   },
   "source": [
    "fp = (predict_positive & actual_negative).sum()\n",
    "fn = (predict_negative & actual_positive).sum()"
   ],
   "outputs": [],
   "execution_count": 96
  },
  {
   "cell_type": "code",
   "id": "bb3e6f5ed8f65348",
   "metadata": {
    "ExecuteTime": {
     "end_time": "2024-10-23T12:54:59.359441Z",
     "start_time": "2024-10-23T12:54:59.340243Z"
    }
   },
   "source": [
    "tp, tn, fp, fn"
   ],
   "outputs": [
    {
     "data": {
      "text/plain": [
       "(210, 922, 101, 176)"
      ]
     },
     "execution_count": 97,
     "metadata": {},
     "output_type": "execute_result"
    }
   ],
   "execution_count": 97
  },
  {
   "cell_type": "code",
   "id": "6d5885e17dafbdf4",
   "metadata": {
    "ExecuteTime": {
     "end_time": "2024-10-23T12:55:56.996445Z",
     "start_time": "2024-10-23T12:55:56.973471Z"
    }
   },
   "source": [
    "confusion_matrix = np.array([[tn,fp],[fn,tp]])\n",
    "confusion_matrix"
   ],
   "outputs": [
    {
     "data": {
      "text/plain": [
       "array([[922, 101],\n",
       "       [176, 210]])"
      ]
     },
     "execution_count": 98,
     "metadata": {},
     "output_type": "execute_result"
    }
   ],
   "execution_count": 98
  },
  {
   "cell_type": "code",
   "id": "253ea230820f5a9f",
   "metadata": {
    "ExecuteTime": {
     "end_time": "2024-10-23T12:56:00.257971Z",
     "start_time": "2024-10-23T12:56:00.244326Z"
    }
   },
   "source": [
    "(confusion_matrix/confusion_matrix.sum()).round(2)"
   ],
   "outputs": [
    {
     "data": {
      "text/plain": [
       "array([[0.65, 0.07],\n",
       "       [0.12, 0.15]])"
      ]
     },
     "execution_count": 99,
     "metadata": {},
     "output_type": "execute_result"
    }
   ],
   "execution_count": 99
  },
  {
   "cell_type": "markdown",
   "id": "6c114b2962c3d90a",
   "metadata": {},
   "source": [
    "# 4.4 precision and recall\n"
   ]
  },
  {
   "cell_type": "code",
   "id": "12a944171b261938",
   "metadata": {
    "ExecuteTime": {
     "end_time": "2024-10-23T12:56:08.217341Z",
     "start_time": "2024-10-23T12:56:08.209198Z"
    }
   },
   "source": [
    "accuracy = (tp + tn) / (tp + tn + fp + fn)\n",
    "accuracy"
   ],
   "outputs": [
    {
     "data": {
      "text/plain": [
       "0.8034066713981547"
      ]
     },
     "execution_count": 100,
     "metadata": {},
     "output_type": "execute_result"
    }
   ],
   "execution_count": 100
  },
  {
   "cell_type": "code",
   "id": "dfd246f210e7b733",
   "metadata": {
    "ExecuteTime": {
     "end_time": "2024-10-23T12:56:10.525857Z",
     "start_time": "2024-10-23T12:56:10.517545Z"
    }
   },
   "source": [
    "precision = tp / (tp + fp)\n",
    "precision"
   ],
   "outputs": [
    {
     "data": {
      "text/plain": [
       "0.6752411575562701"
      ]
     },
     "execution_count": 101,
     "metadata": {},
     "output_type": "execute_result"
    }
   ],
   "execution_count": 101
  },
  {
   "cell_type": "code",
   "id": "81e7231229db4ea7",
   "metadata": {
    "ExecuteTime": {
     "end_time": "2024-10-23T12:56:14.020858Z",
     "start_time": "2024-10-23T12:56:13.997765Z"
    }
   },
   "source": [
    "recall = tp / (tp + fn)\n",
    "recall"
   ],
   "outputs": [
    {
     "data": {
      "text/plain": [
       "0.5440414507772021"
      ]
     },
     "execution_count": 102,
     "metadata": {},
     "output_type": "execute_result"
    }
   ],
   "execution_count": 102
  },
  {
   "metadata": {},
   "cell_type": "markdown",
   "source": "![prec-recall](images/precision-recall.png)",
   "id": "83c9532ee2185789"
  },
  {
   "metadata": {},
   "cell_type": "markdown",
   "source": "# 4.5 ROC (Receiver operating characteristics)",
   "id": "80bbba559720ab0d"
  },
  {
   "metadata": {},
   "cell_type": "markdown",
   "source": "![fpr-tpr](images/FPR-TPR.png)",
   "id": "3bd8b721505602fd"
  },
  {
   "metadata": {
    "ExecuteTime": {
     "end_time": "2024-10-23T12:56:25.123541Z",
     "start_time": "2024-10-23T12:56:25.109205Z"
    }
   },
   "cell_type": "code",
   "source": [
    "tpr = tp / (tp + fn)\n",
    "tpr"
   ],
   "id": "194119af5b6c053c",
   "outputs": [
    {
     "data": {
      "text/plain": [
       "0.5440414507772021"
      ]
     },
     "execution_count": 103,
     "metadata": {},
     "output_type": "execute_result"
    }
   ],
   "execution_count": 103
  },
  {
   "metadata": {
    "ExecuteTime": {
     "end_time": "2024-10-23T12:56:30.033902Z",
     "start_time": "2024-10-23T12:56:30.009460Z"
    }
   },
   "cell_type": "code",
   "source": "recall",
   "id": "8d845aa528bed14d",
   "outputs": [
    {
     "data": {
      "text/plain": [
       "0.5440414507772021"
      ]
     },
     "execution_count": 104,
     "metadata": {},
     "output_type": "execute_result"
    }
   ],
   "execution_count": 104
  },
  {
   "metadata": {
    "ExecuteTime": {
     "end_time": "2024-10-23T12:56:33.525808Z",
     "start_time": "2024-10-23T12:56:33.516937Z"
    }
   },
   "cell_type": "code",
   "source": [
    "fpr = fp / (fp + tn)\n",
    "fpr"
   ],
   "id": "c4716925cc2ad316",
   "outputs": [
    {
     "data": {
      "text/plain": [
       "0.09872922776148582"
      ]
     },
     "execution_count": 105,
     "metadata": {},
     "output_type": "execute_result"
    }
   ],
   "execution_count": 105
  },
  {
   "metadata": {
    "ExecuteTime": {
     "end_time": "2024-10-23T12:56:41.312467Z",
     "start_time": "2024-10-23T12:56:41.292720Z"
    }
   },
   "cell_type": "code",
   "source": [
    "thresholds = np.linspace(0, 1, 101)\n",
    "scores = []\n",
    "for t in thresholds:    \n",
    "    predict_positive = (y_pred >= t)\n",
    "    predict_negative = (y_pred < t)\n",
    "    tp = (predict_positive & actual_positive).sum()\n",
    "    tn = (predict_negative & actual_negative).sum()\n",
    "    fp = (predict_positive & actual_negative).sum()\n",
    "    fn = (predict_negative & actual_positive).sum()\n",
    "    \n",
    "    # print('%.2f %.3f' % (t, score))\n",
    "    scores.append((t,tp,fp,fn,tn))"
   ],
   "id": "95d7caf79ebf5500",
   "outputs": [],
   "execution_count": 106
  },
  {
   "metadata": {
    "ExecuteTime": {
     "end_time": "2024-10-23T12:56:43.161727Z",
     "start_time": "2024-10-23T12:56:43.149606Z"
    }
   },
   "cell_type": "code",
   "source": [
    "cols = ['threshold', 'tp', 'fp', 'fn', 'tn']\n",
    "df_scores = pd.DataFrame(scores, columns = cols)"
   ],
   "id": "995c57330cfea05c",
   "outputs": [],
   "execution_count": 107
  },
  {
   "metadata": {
    "ExecuteTime": {
     "end_time": "2024-10-23T12:56:44.437018Z",
     "start_time": "2024-10-23T12:56:44.426768Z"
    }
   },
   "cell_type": "code",
   "source": [
    "df_scores['tpr'] = df_scores.tp/(df_scores.tp+df_scores.fn)\n",
    "df_scores['fpr'] = df_scores.fp/(df_scores.tn+df_scores.fp)"
   ],
   "id": "9f90e5ccf04fa638",
   "outputs": [],
   "execution_count": 108
  },
  {
   "metadata": {
    "ExecuteTime": {
     "end_time": "2024-10-23T12:56:47.043294Z",
     "start_time": "2024-10-23T12:56:47.021760Z"
    }
   },
   "cell_type": "code",
   "source": "df_scores",
   "id": "f9dc31a4339b750d",
   "outputs": [
    {
     "data": {
      "text/plain": [
       "     threshold   tp    fp   fn    tn       tpr       fpr\n",
       "0         0.00  386  1023    0     0  1.000000  1.000000\n",
       "1         0.01  385   913    1   110  0.997409  0.892473\n",
       "2         0.02  384   830    2   193  0.994819  0.811339\n",
       "3         0.03  383   766    3   257  0.992228  0.748778\n",
       "4         0.04  381   715    5   308  0.987047  0.698925\n",
       "..         ...  ...   ...  ...   ...       ...       ...\n",
       "96        0.96    0     0  386  1023  0.000000  0.000000\n",
       "97        0.97    0     0  386  1023  0.000000  0.000000\n",
       "98        0.98    0     0  386  1023  0.000000  0.000000\n",
       "99        0.99    0     0  386  1023  0.000000  0.000000\n",
       "100       1.00    0     0  386  1023  0.000000  0.000000\n",
       "\n",
       "[101 rows x 7 columns]"
      ],
      "text/html": [
       "<div>\n",
       "<style scoped>\n",
       "    .dataframe tbody tr th:only-of-type {\n",
       "        vertical-align: middle;\n",
       "    }\n",
       "\n",
       "    .dataframe tbody tr th {\n",
       "        vertical-align: top;\n",
       "    }\n",
       "\n",
       "    .dataframe thead th {\n",
       "        text-align: right;\n",
       "    }\n",
       "</style>\n",
       "<table border=\"1\" class=\"dataframe\">\n",
       "  <thead>\n",
       "    <tr style=\"text-align: right;\">\n",
       "      <th></th>\n",
       "      <th>threshold</th>\n",
       "      <th>tp</th>\n",
       "      <th>fp</th>\n",
       "      <th>fn</th>\n",
       "      <th>tn</th>\n",
       "      <th>tpr</th>\n",
       "      <th>fpr</th>\n",
       "    </tr>\n",
       "  </thead>\n",
       "  <tbody>\n",
       "    <tr>\n",
       "      <th>0</th>\n",
       "      <td>0.00</td>\n",
       "      <td>386</td>\n",
       "      <td>1023</td>\n",
       "      <td>0</td>\n",
       "      <td>0</td>\n",
       "      <td>1.000000</td>\n",
       "      <td>1.000000</td>\n",
       "    </tr>\n",
       "    <tr>\n",
       "      <th>1</th>\n",
       "      <td>0.01</td>\n",
       "      <td>385</td>\n",
       "      <td>913</td>\n",
       "      <td>1</td>\n",
       "      <td>110</td>\n",
       "      <td>0.997409</td>\n",
       "      <td>0.892473</td>\n",
       "    </tr>\n",
       "    <tr>\n",
       "      <th>2</th>\n",
       "      <td>0.02</td>\n",
       "      <td>384</td>\n",
       "      <td>830</td>\n",
       "      <td>2</td>\n",
       "      <td>193</td>\n",
       "      <td>0.994819</td>\n",
       "      <td>0.811339</td>\n",
       "    </tr>\n",
       "    <tr>\n",
       "      <th>3</th>\n",
       "      <td>0.03</td>\n",
       "      <td>383</td>\n",
       "      <td>766</td>\n",
       "      <td>3</td>\n",
       "      <td>257</td>\n",
       "      <td>0.992228</td>\n",
       "      <td>0.748778</td>\n",
       "    </tr>\n",
       "    <tr>\n",
       "      <th>4</th>\n",
       "      <td>0.04</td>\n",
       "      <td>381</td>\n",
       "      <td>715</td>\n",
       "      <td>5</td>\n",
       "      <td>308</td>\n",
       "      <td>0.987047</td>\n",
       "      <td>0.698925</td>\n",
       "    </tr>\n",
       "    <tr>\n",
       "      <th>...</th>\n",
       "      <td>...</td>\n",
       "      <td>...</td>\n",
       "      <td>...</td>\n",
       "      <td>...</td>\n",
       "      <td>...</td>\n",
       "      <td>...</td>\n",
       "      <td>...</td>\n",
       "    </tr>\n",
       "    <tr>\n",
       "      <th>96</th>\n",
       "      <td>0.96</td>\n",
       "      <td>0</td>\n",
       "      <td>0</td>\n",
       "      <td>386</td>\n",
       "      <td>1023</td>\n",
       "      <td>0.000000</td>\n",
       "      <td>0.000000</td>\n",
       "    </tr>\n",
       "    <tr>\n",
       "      <th>97</th>\n",
       "      <td>0.97</td>\n",
       "      <td>0</td>\n",
       "      <td>0</td>\n",
       "      <td>386</td>\n",
       "      <td>1023</td>\n",
       "      <td>0.000000</td>\n",
       "      <td>0.000000</td>\n",
       "    </tr>\n",
       "    <tr>\n",
       "      <th>98</th>\n",
       "      <td>0.98</td>\n",
       "      <td>0</td>\n",
       "      <td>0</td>\n",
       "      <td>386</td>\n",
       "      <td>1023</td>\n",
       "      <td>0.000000</td>\n",
       "      <td>0.000000</td>\n",
       "    </tr>\n",
       "    <tr>\n",
       "      <th>99</th>\n",
       "      <td>0.99</td>\n",
       "      <td>0</td>\n",
       "      <td>0</td>\n",
       "      <td>386</td>\n",
       "      <td>1023</td>\n",
       "      <td>0.000000</td>\n",
       "      <td>0.000000</td>\n",
       "    </tr>\n",
       "    <tr>\n",
       "      <th>100</th>\n",
       "      <td>1.00</td>\n",
       "      <td>0</td>\n",
       "      <td>0</td>\n",
       "      <td>386</td>\n",
       "      <td>1023</td>\n",
       "      <td>0.000000</td>\n",
       "      <td>0.000000</td>\n",
       "    </tr>\n",
       "  </tbody>\n",
       "</table>\n",
       "<p>101 rows × 7 columns</p>\n",
       "</div>"
      ]
     },
     "execution_count": 109,
     "metadata": {},
     "output_type": "execute_result"
    }
   ],
   "execution_count": 109
  },
  {
   "metadata": {
    "ExecuteTime": {
     "end_time": "2024-10-23T12:56:56.579861Z",
     "start_time": "2024-10-23T12:56:56.372710Z"
    }
   },
   "cell_type": "code",
   "source": [
    "plt.plot(df_scores.threshold, df_scores.tpr, label='TPR')\n",
    "plt.plot(df_scores.threshold, df_scores.fpr, label='FPR')\n",
    "plt.legend()\n",
    "plt.xlabel('Threshold')\n",
    "plt.ylabel('Rate')\n",
    "plt.show()"
   ],
   "id": "2c35b7738eb1cbdc",
   "outputs": [
    {
     "data": {
      "text/plain": [
       "<Figure size 640x480 with 1 Axes>"
      ],
      "image/png": "[encoded data removed]"
     },
     "metadata": {},
     "output_type": "display_data"
    }
   ],
   "execution_count": 110
  },
  {
   "metadata": {
    "ExecuteTime": {
     "end_time": "2024-10-23T12:57:01.611150Z",
     "start_time": "2024-10-23T12:57:01.598657Z"
    }
   },
   "cell_type": "code",
   "source": [
    "def tpr_fpr_df(y_val, y_pred):\n",
    "    thresholds = np.linspace(0, 1, 101)\n",
    "\n",
    "    actual_negative = (y_val == 0)\n",
    "    actual_positive = (y_val == 1)\n",
    "    scores = []\n",
    "    for t in thresholds:\n",
    "        predict_positive = (y_pred >= t)\n",
    "        predict_negative = (y_pred < t)\n",
    "        \n",
    "        tp = (predict_positive & actual_positive).sum()\n",
    "        tn = (predict_negative & actual_negative).sum()\n",
    "        fp = (predict_positive & actual_negative).sum()\n",
    "        fn = (predict_negative & actual_positive).sum()\n",
    "        \n",
    "        scores.append((t, tp, fp, fn, tn))\n",
    "        \n",
    "    cols = ['threshold', 'tp', 'fp', 'fn', 'tn']\n",
    "    df_scores = pd.DataFrame(scores, columns=cols)\n",
    "    df_scores['tpr'] = df_scores.tp / (df_scores.tp + df_scores.fn)\n",
    "    df_scores['fpr'] = df_scores.fp / (df_scores.tn + df_scores.fp)\n",
    "    \n",
    "    return df_scores"
   ],
   "id": "b17700bc27da1ef",
   "outputs": [],
   "execution_count": 111
  },
  {
   "metadata": {},
   "cell_type": "markdown",
   "source": "## Random model",
   "id": "f43faeb762c7ce5"
  },
  {
   "metadata": {
    "ExecuteTime": {
     "end_time": "2024-10-23T12:57:07.840548Z",
     "start_time": "2024-10-23T12:57:07.819369Z"
    }
   },
   "cell_type": "code",
   "source": [
    "np.random.seed(1)\n",
    "y_rand = np.random.uniform(0,1,size=len(y_val))\n",
    "((y_rand > 0.5) == y_val).mean()"
   ],
   "id": "b6fe8d95a8a46b92",
   "outputs": [
    {
     "data": {
      "text/plain": [
       "0.5017743080198722"
      ]
     },
     "execution_count": 112,
     "metadata": {},
     "output_type": "execute_result"
    }
   ],
   "execution_count": 112
  },
  {
   "metadata": {
    "ExecuteTime": {
     "end_time": "2024-10-23T12:57:11.229137Z",
     "start_time": "2024-10-23T12:57:11.200614Z"
    }
   },
   "cell_type": "code",
   "source": [
    "df_rand = tpr_fpr_df(y_val, y_rand)\n",
    "df_rand[::10]"
   ],
   "id": "8761c6e3af5b6bd",
   "outputs": [
    {
     "data": {
      "text/plain": [
       "     threshold   tp    fp   fn    tn       tpr       fpr\n",
       "0          0.0  386  1023    0     0  1.000000  1.000000\n",
       "10         0.1  347   923   39   100  0.898964  0.902248\n",
       "20         0.2  307   822   79   201  0.795337  0.803519\n",
       "30         0.3  276   724  110   299  0.715026  0.707722\n",
       "40         0.4  237   624  149   399  0.613990  0.609971\n",
       "50         0.5  202   518  184   505  0.523316  0.506354\n",
       "60         0.6  161   409  225   614  0.417098  0.399804\n",
       "70         0.7  121   302  265   721  0.313472  0.295210\n",
       "80         0.8   78   206  308   817  0.202073  0.201369\n",
       "90         0.9   40   101  346   922  0.103627  0.098729\n",
       "100        1.0    0     0  386  1023  0.000000  0.000000"
      ],
      "text/html": [
       "<div>\n",
       "<style scoped>\n",
       "    .dataframe tbody tr th:only-of-type {\n",
       "        vertical-align: middle;\n",
       "    }\n",
       "\n",
       "    .dataframe tbody tr th {\n",
       "        vertical-align: top;\n",
       "    }\n",
       "\n",
       "    .dataframe thead th {\n",
       "        text-align: right;\n",
       "    }\n",
       "</style>\n",
       "<table border=\"1\" class=\"dataframe\">\n",
       "  <thead>\n",
       "    <tr style=\"text-align: right;\">\n",
       "      <th></th>\n",
       "      <th>threshold</th>\n",
       "      <th>tp</th>\n",
       "      <th>fp</th>\n",
       "      <th>fn</th>\n",
       "      <th>tn</th>\n",
       "      <th>tpr</th>\n",
       "      <th>fpr</th>\n",
       "    </tr>\n",
       "  </thead>\n",
       "  <tbody>\n",
       "    <tr>\n",
       "      <th>0</th>\n",
       "      <td>0.0</td>\n",
       "      <td>386</td>\n",
       "      <td>1023</td>\n",
       "      <td>0</td>\n",
       "      <td>0</td>\n",
       "      <td>1.000000</td>\n",
       "      <td>1.000000</td>\n",
       "    </tr>\n",
       "    <tr>\n",
       "      <th>10</th>\n",
       "      <td>0.1</td>\n",
       "      <td>347</td>\n",
       "      <td>923</td>\n",
       "      <td>39</td>\n",
       "      <td>100</td>\n",
       "      <td>0.898964</td>\n",
       "      <td>0.902248</td>\n",
       "    </tr>\n",
       "    <tr>\n",
       "      <th>20</th>\n",
       "      <td>0.2</td>\n",
       "      <td>307</td>\n",
       "      <td>822</td>\n",
       "      <td>79</td>\n",
       "      <td>201</td>\n",
       "      <td>0.795337</td>\n",
       "      <td>0.803519</td>\n",
       "    </tr>\n",
       "    <tr>\n",
       "      <th>30</th>\n",
       "      <td>0.3</td>\n",
       "      <td>276</td>\n",
       "      <td>724</td>\n",
       "      <td>110</td>\n",
       "      <td>299</td>\n",
       "      <td>0.715026</td>\n",
       "      <td>0.707722</td>\n",
       "    </tr>\n",
       "    <tr>\n",
       "      <th>40</th>\n",
       "      <td>0.4</td>\n",
       "      <td>237</td>\n",
       "      <td>624</td>\n",
       "      <td>149</td>\n",
       "      <td>399</td>\n",
       "      <td>0.613990</td>\n",
       "      <td>0.609971</td>\n",
       "    </tr>\n",
       "    <tr>\n",
       "      <th>50</th>\n",
       "      <td>0.5</td>\n",
       "      <td>202</td>\n",
       "      <td>518</td>\n",
       "      <td>184</td>\n",
       "      <td>505</td>\n",
       "      <td>0.523316</td>\n",
       "      <td>0.506354</td>\n",
       "    </tr>\n",
       "    <tr>\n",
       "      <th>60</th>\n",
       "      <td>0.6</td>\n",
       "      <td>161</td>\n",
       "      <td>409</td>\n",
       "      <td>225</td>\n",
       "      <td>614</td>\n",
       "      <td>0.417098</td>\n",
       "      <td>0.399804</td>\n",
       "    </tr>\n",
       "    <tr>\n",
       "      <th>70</th>\n",
       "      <td>0.7</td>\n",
       "      <td>121</td>\n",
       "      <td>302</td>\n",
       "      <td>265</td>\n",
       "      <td>721</td>\n",
       "      <td>0.313472</td>\n",
       "      <td>0.295210</td>\n",
       "    </tr>\n",
       "    <tr>\n",
       "      <th>80</th>\n",
       "      <td>0.8</td>\n",
       "      <td>78</td>\n",
       "      <td>206</td>\n",
       "      <td>308</td>\n",
       "      <td>817</td>\n",
       "      <td>0.202073</td>\n",
       "      <td>0.201369</td>\n",
       "    </tr>\n",
       "    <tr>\n",
       "      <th>90</th>\n",
       "      <td>0.9</td>\n",
       "      <td>40</td>\n",
       "      <td>101</td>\n",
       "      <td>346</td>\n",
       "      <td>922</td>\n",
       "      <td>0.103627</td>\n",
       "      <td>0.098729</td>\n",
       "    </tr>\n",
       "    <tr>\n",
       "      <th>100</th>\n",
       "      <td>1.0</td>\n",
       "      <td>0</td>\n",
       "      <td>0</td>\n",
       "      <td>386</td>\n",
       "      <td>1023</td>\n",
       "      <td>0.000000</td>\n",
       "      <td>0.000000</td>\n",
       "    </tr>\n",
       "  </tbody>\n",
       "</table>\n",
       "</div>"
      ]
     },
     "execution_count": 113,
     "metadata": {},
     "output_type": "execute_result"
    }
   ],
   "execution_count": 113
  },
  {
   "metadata": {
    "ExecuteTime": {
     "end_time": "2024-10-23T12:57:18.657616Z",
     "start_time": "2024-10-23T12:57:18.441567Z"
    }
   },
   "cell_type": "code",
   "source": [
    "plt.plot(df_rand.threshold, df_rand.tpr, label='TPR')\n",
    "plt.plot(df_rand.threshold, df_rand.fpr, label='FPR')\n",
    "plt.legend()\n",
    "plt.xlabel('Threshold')\n",
    "plt.ylabel('Rate')\n",
    "plt.show()"
   ],
   "id": "609718cc30fdbc0a",
   "outputs": [
    {
     "data": {
      "text/plain": [
       "<Figure size 640x480 with 1 Axes>"
      ],
      "image/png": "[encoded data removed]"
     },
     "metadata": {},
     "output_type": "display_data"
    }
   ],
   "execution_count": 114
  },
  {
   "metadata": {},
   "cell_type": "markdown",
   "source": "## Ideal model",
   "id": "18bbcdbcde783123"
  },
  {
   "metadata": {
    "ExecuteTime": {
     "end_time": "2024-10-23T12:57:23.558117Z",
     "start_time": "2024-10-23T12:57:23.546625Z"
    }
   },
   "cell_type": "code",
   "source": [
    "num_neg = (y_val == 0).sum()\n",
    "num_pos = (y_val == 1).sum()\n",
    "num_neg, num_pos"
   ],
   "id": "f04b0756c4d6a986",
   "outputs": [
    {
     "data": {
      "text/plain": [
       "(1023, 386)"
      ]
     },
     "execution_count": 115,
     "metadata": {},
     "output_type": "execute_result"
    }
   ],
   "execution_count": 115
  },
  {
   "metadata": {
    "ExecuteTime": {
     "end_time": "2024-10-23T12:57:26.010090Z",
     "start_time": "2024-10-23T12:57:25.990652Z"
    }
   },
   "cell_type": "code",
   "source": [
    "y_ideal = np.repeat([0,1],[num_neg,num_pos])\n",
    "y_ideal"
   ],
   "id": "336f00dee8693aab",
   "outputs": [
    {
     "data": {
      "text/plain": [
       "array([0, 0, 0, ..., 1, 1, 1])"
      ]
     },
     "execution_count": 116,
     "metadata": {},
     "output_type": "execute_result"
    }
   ],
   "execution_count": 116
  },
  {
   "metadata": {
    "ExecuteTime": {
     "end_time": "2024-10-23T13:25:26.307252Z",
     "start_time": "2024-10-23T13:25:26.294101Z"
    }
   },
   "cell_type": "code",
   "source": "y_ideal_pred = np.linspace(0,1,len(y_val))",
   "id": "2aa0d0975fecdc8f",
   "outputs": [],
   "execution_count": 118
  },
  {
   "metadata": {
    "ExecuteTime": {
     "end_time": "2024-10-23T13:26:49.618065Z",
     "start_time": "2024-10-23T13:26:49.594043Z"
    }
   },
   "cell_type": "code",
   "source": "((y_ideal_pred >= 0.726) == y_ideal).mean()",
   "id": "bcacc7a34404b41c",
   "outputs": [
    {
     "data": {
      "text/plain": [
       "1.0"
      ]
     },
     "execution_count": 120,
     "metadata": {},
     "output_type": "execute_result"
    }
   ],
   "execution_count": 120
  },
  {
   "metadata": {
    "ExecuteTime": {
     "end_time": "2024-10-23T13:27:20.921046Z",
     "start_time": "2024-10-23T13:27:20.897802Z"
    }
   },
   "cell_type": "code",
   "source": "y_ideal_pred.round(3)",
   "id": "889f68ac8eb80290",
   "outputs": [
    {
     "data": {
      "text/plain": [
       "array([0.   , 0.001, 0.001, ..., 0.999, 0.999, 1.   ])"
      ]
     },
     "execution_count": 123,
     "metadata": {},
     "output_type": "execute_result"
    }
   ],
   "execution_count": 123
  },
  {
   "metadata": {
    "ExecuteTime": {
     "end_time": "2024-10-23T13:28:18.820792Z",
     "start_time": "2024-10-23T13:28:18.792105Z"
    }
   },
   "cell_type": "code",
   "source": "df_ideal = tpr_fpr_df(y_ideal, y_ideal_pred)",
   "id": "9ea980836d19741d",
   "outputs": [],
   "execution_count": 124
  },
  {
   "metadata": {
    "ExecuteTime": {
     "end_time": "2024-10-23T13:28:22.949319Z",
     "start_time": "2024-10-23T13:28:22.928100Z"
    }
   },
   "cell_type": "code",
   "source": "df_ideal[::10]",
   "id": "387f0ffae72ad86b",
   "outputs": [
    {
     "data": {
      "text/plain": [
       "     threshold   tp    fp   fn    tn       tpr       fpr\n",
       "0          0.0  386  1023    0     0  1.000000  1.000000\n",
       "10         0.1  386   882    0   141  1.000000  0.862170\n",
       "20         0.2  386   741    0   282  1.000000  0.724340\n",
       "30         0.3  386   600    0   423  1.000000  0.586510\n",
       "40         0.4  386   459    0   564  1.000000  0.448680\n",
       "50         0.5  386   319    0   704  1.000000  0.311828\n",
       "60         0.6  386   178    0   845  1.000000  0.173998\n",
       "70         0.7  386    37    0   986  1.000000  0.036168\n",
       "80         0.8  282     0  104  1023  0.730570  0.000000\n",
       "90         0.9  141     0  245  1023  0.365285  0.000000\n",
       "100        1.0    1     0  385  1023  0.002591  0.000000"
      ],
      "text/html": [
       "<div>\n",
       "<style scoped>\n",
       "    .dataframe tbody tr th:only-of-type {\n",
       "        vertical-align: middle;\n",
       "    }\n",
       "\n",
       "    .dataframe tbody tr th {\n",
       "        vertical-align: top;\n",
       "    }\n",
       "\n",
       "    .dataframe thead th {\n",
       "        text-align: right;\n",
       "    }\n",
       "</style>\n",
       "<table border=\"1\" class=\"dataframe\">\n",
       "  <thead>\n",
       "    <tr style=\"text-align: right;\">\n",
       "      <th></th>\n",
       "      <th>threshold</th>\n",
       "      <th>tp</th>\n",
       "      <th>fp</th>\n",
       "      <th>fn</th>\n",
       "      <th>tn</th>\n",
       "      <th>tpr</th>\n",
       "      <th>fpr</th>\n",
       "    </tr>\n",
       "  </thead>\n",
       "  <tbody>\n",
       "    <tr>\n",
       "      <th>0</th>\n",
       "      <td>0.0</td>\n",
       "      <td>386</td>\n",
       "      <td>1023</td>\n",
       "      <td>0</td>\n",
       "      <td>0</td>\n",
       "      <td>1.000000</td>\n",
       "      <td>1.000000</td>\n",
       "    </tr>\n",
       "    <tr>\n",
       "      <th>10</th>\n",
       "      <td>0.1</td>\n",
       "      <td>386</td>\n",
       "      <td>882</td>\n",
       "      <td>0</td>\n",
       "      <td>141</td>\n",
       "      <td>1.000000</td>\n",
       "      <td>0.862170</td>\n",
       "    </tr>\n",
       "    <tr>\n",
       "      <th>20</th>\n",
       "      <td>0.2</td>\n",
       "      <td>386</td>\n",
       "      <td>741</td>\n",
       "      <td>0</td>\n",
       "      <td>282</td>\n",
       "      <td>1.000000</td>\n",
       "      <td>0.724340</td>\n",
       "    </tr>\n",
       "    <tr>\n",
       "      <th>30</th>\n",
       "      <td>0.3</td>\n",
       "      <td>386</td>\n",
       "      <td>600</td>\n",
       "      <td>0</td>\n",
       "      <td>423</td>\n",
       "      <td>1.000000</td>\n",
       "      <td>0.586510</td>\n",
       "    </tr>\n",
       "    <tr>\n",
       "      <th>40</th>\n",
       "      <td>0.4</td>\n",
       "      <td>386</td>\n",
       "      <td>459</td>\n",
       "      <td>0</td>\n",
       "      <td>564</td>\n",
       "      <td>1.000000</td>\n",
       "      <td>0.448680</td>\n",
       "    </tr>\n",
       "    <tr>\n",
       "      <th>50</th>\n",
       "      <td>0.5</td>\n",
       "      <td>386</td>\n",
       "      <td>319</td>\n",
       "      <td>0</td>\n",
       "      <td>704</td>\n",
       "      <td>1.000000</td>\n",
       "      <td>0.311828</td>\n",
       "    </tr>\n",
       "    <tr>\n",
       "      <th>60</th>\n",
       "      <td>0.6</td>\n",
       "      <td>386</td>\n",
       "      <td>178</td>\n",
       "      <td>0</td>\n",
       "      <td>845</td>\n",
       "      <td>1.000000</td>\n",
       "      <td>0.173998</td>\n",
       "    </tr>\n",
       "    <tr>\n",
       "      <th>70</th>\n",
       "      <td>0.7</td>\n",
       "      <td>386</td>\n",
       "      <td>37</td>\n",
       "      <td>0</td>\n",
       "      <td>986</td>\n",
       "      <td>1.000000</td>\n",
       "      <td>0.036168</td>\n",
       "    </tr>\n",
       "    <tr>\n",
       "      <th>80</th>\n",
       "      <td>0.8</td>\n",
       "      <td>282</td>\n",
       "      <td>0</td>\n",
       "      <td>104</td>\n",
       "      <td>1023</td>\n",
       "      <td>0.730570</td>\n",
       "      <td>0.000000</td>\n",
       "    </tr>\n",
       "    <tr>\n",
       "      <th>90</th>\n",
       "      <td>0.9</td>\n",
       "      <td>141</td>\n",
       "      <td>0</td>\n",
       "      <td>245</td>\n",
       "      <td>1023</td>\n",
       "      <td>0.365285</td>\n",
       "      <td>0.000000</td>\n",
       "    </tr>\n",
       "    <tr>\n",
       "      <th>100</th>\n",
       "      <td>1.0</td>\n",
       "      <td>1</td>\n",
       "      <td>0</td>\n",
       "      <td>385</td>\n",
       "      <td>1023</td>\n",
       "      <td>0.002591</td>\n",
       "      <td>0.000000</td>\n",
       "    </tr>\n",
       "  </tbody>\n",
       "</table>\n",
       "</div>"
      ]
     },
     "execution_count": 125,
     "metadata": {},
     "output_type": "execute_result"
    }
   ],
   "execution_count": 125
  },
  {
   "metadata": {
    "ExecuteTime": {
     "end_time": "2024-10-23T13:28:54.547687Z",
     "start_time": "2024-10-23T13:28:54.315772Z"
    }
   },
   "cell_type": "code",
   "source": [
    "plt.plot(df_ideal.threshold, df_ideal.tpr, label='TPR')\n",
    "plt.plot(df_ideal.threshold, df_ideal.fpr, label='FPR')\n",
    "plt.legend()\n",
    "plt.xlabel('Threshold')\n",
    "plt.ylabel('Rate')\n",
    "plt.show()"
   ],
   "id": "9d862793a9ec3f37",
   "outputs": [
    {
     "data": {
      "text/plain": [
       "<Figure size 640x480 with 1 Axes>"
      ],
      "image/png": "[encoded data removed]"
     },
     "metadata": {},
     "output_type": "display_data"
    }
   ],
   "execution_count": 126
  },
  {
   "metadata": {
    "ExecuteTime": {
     "end_time": "2024-10-23T15:04:25.808055Z",
     "start_time": "2024-10-23T15:04:25.569057Z"
    }
   },
   "cell_type": "code",
   "source": [
    "plt.plot(df_scores.threshold, df_scores.tpr, label='TPR')\n",
    "plt.plot(df_scores.threshold, df_scores.fpr, label='FPR')\n",
    "\n",
    "# plt.plot(df_rand.threshold, df_rand.tpr, label='TPR')\n",
    "# plt.plot(df_rand.threshold, df_rand.fpr, label='FPR')\n",
    "\n",
    "plt.plot(df_ideal.threshold, df_ideal.tpr, label='TPR', color='black')\n",
    "plt.plot(df_ideal.threshold, df_ideal.fpr, label='FPR', color='black')\n",
    "plt.legend()\n",
    "plt.xlabel('Threshold')\n",
    "plt.ylabel('Rate')\n",
    "plt.show()"
   ],
   "id": "4a4a10746e116db3",
   "outputs": [
    {
     "data": {
      "text/plain": [
       "<Figure size 640x480 with 1 Axes>"
      ],
      "image/png": "[encoded data removed]"
     },
     "metadata": {},
     "output_type": "display_data"
    }
   ],
   "execution_count": 131
  },
  {
   "metadata": {
    "ExecuteTime": {
     "end_time": "2024-10-23T15:15:01.673756Z",
     "start_time": "2024-10-23T15:15:01.404518Z"
    }
   },
   "cell_type": "code",
   "source": [
    "plt.figure(figsize=(5,5))\n",
    "plt.plot(df_scores.fpr, df_scores.tpr, label='model')\n",
    "plt.plot(df_rand.fpr, df_rand.tpr, label='random')\n",
    "plt.plot(df_ideal.fpr, df_ideal.tpr, label='ideal')\n",
    "\n",
    "plt.xlabel('fpr')\n",
    "plt.ylabel('tpr')\n",
    "plt.legend()"
   ],
   "id": "6d35e41ecea216bb",
   "outputs": [
    {
     "data": {
      "text/plain": [
       "<matplotlib.legend.Legend at 0x24390d6dc30>"
      ]
     },
     "execution_count": 136,
     "metadata": {},
     "output_type": "execute_result"
    },
    {
     "data": {
      "text/plain": [
       "<Figure size 500x500 with 1 Axes>"
      ],
      "image/png": "[encoded data removed]"
     },
     "metadata": {},
     "output_type": "display_data"
    }
   ],
   "execution_count": 136
  },
  {
   "metadata": {
    "ExecuteTime": {
     "end_time": "2024-10-23T15:14:49.761686Z",
     "start_time": "2024-10-23T15:14:49.502844Z"
    }
   },
   "cell_type": "code",
   "source": [
    "plt.figure(figsize=(5,5))\n",
    "plt.plot(df_scores.fpr, df_scores.tpr, label='model')\n",
    "plt.plot([0,1], [0,1], label='random')\n",
    "\n",
    "plt.xlabel('fpr')\n",
    "plt.ylabel('tpr')\n",
    "plt.legend()"
   ],
   "id": "b3881330fba4d70c",
   "outputs": [
    {
     "data": {
      "text/plain": [
       "<matplotlib.legend.Legend at 0x24390b5ee90>"
      ]
     },
     "execution_count": 135,
     "metadata": {},
     "output_type": "execute_result"
    },
    {
     "data": {
      "text/plain": [
       "<Figure size 500x500 with 1 Axes>"
      ],
      "image/png": "[encoded data removed]"
     },
     "metadata": {},
     "output_type": "display_data"
    }
   ],
   "execution_count": 135
  },
  {
   "metadata": {
    "ExecuteTime": {
     "end_time": "2024-10-23T15:23:27.103862Z",
     "start_time": "2024-10-23T15:23:27.092886Z"
    }
   },
   "cell_type": "code",
   "source": "from sklearn.metrics import roc_curve",
   "id": "84ef1e7b2130da92",
   "outputs": [],
   "execution_count": 137
  },
  {
   "metadata": {
    "ExecuteTime": {
     "end_time": "2024-10-23T15:23:47.504529Z",
     "start_time": "2024-10-23T15:23:47.492668Z"
    }
   },
   "cell_type": "code",
   "source": "fpr, tpr, thresholds = roc_curve(y_val, y_pred)",
   "id": "eef2d590f0c59e8d",
   "outputs": [],
   "execution_count": 138
  },
  {
   "metadata": {
    "ExecuteTime": {
     "end_time": "2024-10-23T15:25:26.163280Z",
     "start_time": "2024-10-23T15:25:25.919762Z"
    }
   },
   "cell_type": "code",
   "source": [
    "plt.figure(figsize=(5,5))\n",
    "plt.plot(fpr, tpr, label='model')\n",
    "plt.plot([0,1], [0,1], label='random')\n",
    "\n",
    "plt.xlabel('fpr')\n",
    "plt.ylabel('tpr')\n",
    "plt.legend()"
   ],
   "id": "5a394a30b3c2c143",
   "outputs": [
    {
     "data": {
      "text/plain": [
       "<matplotlib.legend.Legend at 0x24390df2950>"
      ]
     },
     "execution_count": 139,
     "metadata": {},
     "output_type": "execute_result"
    },
    {
     "data": {
      "text/plain": [
       "<Figure size 500x500 with 1 Axes>"
      ],
      "image/png": "[encoded data removed]"
     },
     "metadata": {},
     "output_type": "display_data"
    }
   ],
   "execution_count": 139
  },
  {
   "metadata": {},
   "cell_type": "markdown",
   "source": "# 4.6 ROC AUC",
   "id": "c86bd3ea3eabad9e"
  },
  {
   "metadata": {
    "ExecuteTime": {
     "end_time": "2024-10-23T15:30:42.626885Z",
     "start_time": "2024-10-23T15:30:42.617169Z"
    }
   },
   "cell_type": "code",
   "source": "from sklearn.metrics import auc",
   "id": "97ce48744c972f2a",
   "outputs": [],
   "execution_count": 140
  },
  {
   "metadata": {
    "ExecuteTime": {
     "end_time": "2024-10-23T15:31:12.200256Z",
     "start_time": "2024-10-23T15:31:12.187103Z"
    }
   },
   "cell_type": "code",
   "source": "auc(fpr, tpr)",
   "id": "199224af2899eaf",
   "outputs": [
    {
     "data": {
      "text/plain": [
       "0.8438581030090306"
      ]
     },
     "execution_count": 141,
     "metadata": {},
     "output_type": "execute_result"
    }
   ],
   "execution_count": 141
  },
  {
   "metadata": {
    "ExecuteTime": {
     "end_time": "2024-10-23T15:31:45.402695Z",
     "start_time": "2024-10-23T15:31:45.390478Z"
    }
   },
   "cell_type": "code",
   "source": "auc(df_scores.fpr, df_scores.tpr)",
   "id": "7c03d0da4612225a",
   "outputs": [
    {
     "data": {
      "text/plain": [
       "0.8438606354367678"
      ]
     },
     "execution_count": 142,
     "metadata": {},
     "output_type": "execute_result"
    }
   ],
   "execution_count": 142
  },
  {
   "metadata": {
    "ExecuteTime": {
     "end_time": "2024-10-23T15:32:09.320311Z",
     "start_time": "2024-10-23T15:32:09.303712Z"
    }
   },
   "cell_type": "code",
   "source": "auc(df_ideal.fpr, df_ideal.tpr)",
   "id": "cdc0b556de09288d",
   "outputs": [
    {
     "data": {
      "text/plain": [
       "0.9999430203759136"
      ]
     },
     "execution_count": 143,
     "metadata": {},
     "output_type": "execute_result"
    }
   ],
   "execution_count": 143
  },
  {
   "metadata": {
    "ExecuteTime": {
     "end_time": "2024-10-23T15:32:18.375868Z",
     "start_time": "2024-10-23T15:32:18.362425Z"
    }
   },
   "cell_type": "code",
   "source": "auc(df_rand.fpr, df_rand.tpr)",
   "id": "e698c04b02e994ea",
   "outputs": [
    {
     "data": {
      "text/plain": [
       "0.5060233793728696"
      ]
     },
     "execution_count": 144,
     "metadata": {},
     "output_type": "execute_result"
    }
   ],
   "execution_count": 144
  },
  {
   "metadata": {
    "ExecuteTime": {
     "end_time": "2024-10-23T15:33:15.404758Z",
     "start_time": "2024-10-23T15:33:15.388570Z"
    }
   },
   "cell_type": "code",
   "source": [
    "fpr,tpr,thresholds = roc_curve(y_val, y_pred)\n",
    "auc(fpr, tpr)"
   ],
   "id": "bd6c9d903d12cbe5",
   "outputs": [
    {
     "data": {
      "text/plain": [
       "0.8438581030090306"
      ]
     },
     "execution_count": 145,
     "metadata": {},
     "output_type": "execute_result"
    }
   ],
   "execution_count": 145
  },
  {
   "metadata": {
    "ExecuteTime": {
     "end_time": "2024-10-23T15:33:30.004260Z",
     "start_time": "2024-10-23T15:33:29.992809Z"
    }
   },
   "cell_type": "code",
   "source": "from sklearn.metrics import roc_auc_score",
   "id": "7bc9d3e7297e3bf1",
   "outputs": [],
   "execution_count": 146
  },
  {
   "metadata": {
    "ExecuteTime": {
     "end_time": "2024-10-23T15:33:42.751729Z",
     "start_time": "2024-10-23T15:33:42.735442Z"
    }
   },
   "cell_type": "code",
   "source": "roc_auc_score(y_val, y_pred)",
   "id": "43187a2c58905970",
   "outputs": [
    {
     "data": {
      "text/plain": [
       "0.8438581030090306"
      ]
     },
     "execution_count": 147,
     "metadata": {},
     "output_type": "execute_result"
    }
   ],
   "execution_count": 147
  },
  {
   "metadata": {
    "ExecuteTime": {
     "end_time": "2024-10-23T15:36:02.938051Z",
     "start_time": "2024-10-23T15:36:02.924457Z"
    }
   },
   "cell_type": "code",
   "source": "#AUC represents prob of randomly selected +ve example has higher score than randomly selected -ve example",
   "id": "ccaef592c8bbefbc",
   "outputs": [],
   "execution_count": 149
  },
  {
   "metadata": {
    "ExecuteTime": {
     "end_time": "2024-10-23T15:38:53.751489Z",
     "start_time": "2024-10-23T15:38:53.735136Z"
    }
   },
   "cell_type": "code",
   "source": [
    "neg = y_pred[y_val == 0]\n",
    "pos = y_pred[y_val == 1]"
   ],
   "id": "63a4c2ccdfa35ba4",
   "outputs": [],
   "execution_count": 150
  },
  {
   "metadata": {
    "ExecuteTime": {
     "end_time": "2024-10-23T15:39:01.030974Z",
     "start_time": "2024-10-23T15:39:01.021725Z"
    }
   },
   "cell_type": "code",
   "source": "import random",
   "id": "8690906e6c97b7e2",
   "outputs": [],
   "execution_count": 151
  },
  {
   "metadata": {
    "ExecuteTime": {
     "end_time": "2024-10-23T15:44:55.085054Z",
     "start_time": "2024-10-23T15:44:54.687017Z"
    }
   },
   "cell_type": "code",
   "source": [
    "n = 100000\n",
    "success = 0\n",
    "for i in range(n):\n",
    "    pos_ind = random.randint(0, len(pos) - 1)\n",
    "    neg_ind = random.randint(0, len(neg) - 1)\n",
    "    \n",
    "    success += pos[pos_ind] > neg[neg_ind]\n",
    "success/n"
   ],
   "id": "a36e716b5289cf2",
   "outputs": [
    {
     "data": {
      "text/plain": [
       "0.84395"
      ]
     },
     "execution_count": 158,
     "metadata": {},
     "output_type": "execute_result"
    }
   ],
   "execution_count": 158
  },
  {
   "metadata": {
    "ExecuteTime": {
     "end_time": "2024-10-23T15:57:40.084176Z",
     "start_time": "2024-10-23T15:57:40.069053Z"
    }
   },
   "cell_type": "code",
   "source": [
    "n= 50000\n",
    "np.random.seed(1)\n",
    "pos_ind = np.random.randint(0, len(pos), size=n)\n",
    "neg_ind = np.random.randint(0, len(neg), size=n)\n",
    "(pos[pos_ind] > neg[neg_ind]).mean()"
   ],
   "id": "597b7a9064d3edc9",
   "outputs": [
    {
     "data": {
      "text/plain": [
       "0.84648"
      ]
     },
     "execution_count": 163,
     "metadata": {},
     "output_type": "execute_result"
    }
   ],
   "execution_count": 163
  },
  {
   "metadata": {},
   "cell_type": "markdown",
   "source": "# 4.7 Cross validation",
   "id": "5c32abbff715de0d"
  },
  {
   "metadata": {
    "ExecuteTime": {
     "end_time": "2024-10-23T16:07:56.521357Z",
     "start_time": "2024-10-23T16:07:56.512079Z"
    }
   },
   "cell_type": "code",
   "source": [
    "def train(df_train,y_train):\n",
    "    dicts = df_train[categorical + numerical].to_dict(orient='records')\n",
    "    dv = DictVectorizer(sparse=False)\n",
    "    X_train = dv.fit_transform(dicts)\n",
    "    \n",
    "    model = LogisticRegression()\n",
    "    model.fit(X_train, y_train)\n",
    "    return dv, model"
   ],
   "id": "152fe8d93b61f15d",
   "outputs": [],
   "execution_count": 164
  },
  {
   "metadata": {
    "ExecuteTime": {
     "end_time": "2024-10-23T16:35:17.856559Z",
     "start_time": "2024-10-23T16:35:17.844487Z"
    }
   },
   "cell_type": "code",
   "source": [
    "def train_reg(df_train,y_train, c = 1.0):\n",
    "    dicts = df_train[categorical + numerical].to_dict(orient='records')\n",
    "    dv = DictVectorizer(sparse=False)\n",
    "    X_train = dv.fit_transform(dicts)\n",
    "    \n",
    "    model = LogisticRegression(C = c, max_iter=3000)\n",
    "    model.fit(X_train, y_train)\n",
    "    return dv, model"
   ],
   "id": "940578e6be8e2374",
   "outputs": [],
   "execution_count": 181
  },
  {
   "metadata": {
    "ExecuteTime": {
     "end_time": "2024-10-23T16:08:14.821885Z",
     "start_time": "2024-10-23T16:08:14.497947Z"
    }
   },
   "cell_type": "code",
   "source": "dv, model = train(df_train,y_train)",
   "id": "c1324b47f20a98b7",
   "outputs": [],
   "execution_count": 165
  },
  {
   "metadata": {
    "ExecuteTime": {
     "end_time": "2024-10-23T16:10:32.306411Z",
     "start_time": "2024-10-23T16:10:32.293237Z"
    }
   },
   "cell_type": "code",
   "source": [
    "def predict(df,dv,model):\n",
    "    dicts = df[categorical + numerical].to_dict(orient='records')\n",
    "    X = dv.transform(dicts)\n",
    "    y_pred = model.predict_proba(X)[:,1]\n",
    "    return y_pred"
   ],
   "id": "b30c66e1d6cae195",
   "outputs": [],
   "execution_count": 166
  },
  {
   "metadata": {
    "ExecuteTime": {
     "end_time": "2024-10-23T16:11:02.305138Z",
     "start_time": "2024-10-23T16:11:02.212040Z"
    }
   },
   "cell_type": "code",
   "source": "y_pred = predict(df_val, dv, model)",
   "id": "3feae8cbb5c07eee",
   "outputs": [],
   "execution_count": 168
  },
  {
   "metadata": {
    "ExecuteTime": {
     "end_time": "2024-10-23T16:11:33.566011Z",
     "start_time": "2024-10-23T16:11:33.554219Z"
    }
   },
   "cell_type": "code",
   "source": "from sklearn.model_selection import KFold",
   "id": "a8f731d632524f22",
   "outputs": [],
   "execution_count": 169
  },
  {
   "metadata": {
    "ExecuteTime": {
     "end_time": "2024-10-23T16:20:42.660763Z",
     "start_time": "2024-10-23T16:20:42.639535Z"
    }
   },
   "cell_type": "code",
   "source": [
    "kfold = KFold(n_splits=10, random_state=1, shuffle=True)\n",
    "train_idx, val_idx = next(kfold.split(df_full_train))"
   ],
   "id": "889d5ce68f299b66",
   "outputs": [],
   "execution_count": 172
  },
  {
   "metadata": {
    "ExecuteTime": {
     "end_time": "2024-10-23T16:20:43.375093Z",
     "start_time": "2024-10-23T16:20:43.364856Z"
    }
   },
   "cell_type": "code",
   "source": "len(train_idx), len(val_idx)",
   "id": "cf8e6cad55c88303",
   "outputs": [
    {
     "data": {
      "text/plain": [
       "(5070, 564)"
      ]
     },
     "execution_count": 173,
     "metadata": {},
     "output_type": "execute_result"
    }
   ],
   "execution_count": 173
  },
  {
   "metadata": {
    "ExecuteTime": {
     "end_time": "2024-10-23T16:20:45.553430Z",
     "start_time": "2024-10-23T16:20:45.535516Z"
    }
   },
   "cell_type": "code",
   "source": "len(df_full_train)",
   "id": "ec464e0504d204e0",
   "outputs": [
    {
     "data": {
      "text/plain": [
       "5634"
      ]
     },
     "execution_count": 174,
     "metadata": {},
     "output_type": "execute_result"
    }
   ],
   "execution_count": 174
  },
  {
   "metadata": {
    "ExecuteTime": {
     "end_time": "2024-10-23T16:22:35.232279Z",
     "start_time": "2024-10-23T16:22:35.216849Z"
    }
   },
   "cell_type": "code",
   "source": [
    "df_train = df_full_train.iloc[train_idx]\n",
    "df_val = df_full_train.iloc[val_idx]"
   ],
   "id": "c44f98673593b825",
   "outputs": [],
   "execution_count": 175
  },
  {
   "metadata": {
    "ExecuteTime": {
     "end_time": "2024-10-23T16:27:49.271571Z",
     "start_time": "2024-10-23T16:27:44.688202Z"
    }
   },
   "cell_type": "code",
   "source": [
    "scores = []\n",
    "kfold = KFold(n_splits=10, random_state=1, shuffle=True)\n",
    "for train_idx, val_idx in kfold.split(df_full_train):\n",
    "    df_train = df_full_train.iloc[train_idx]\n",
    "    df_val = df_full_train.iloc[val_idx]\n",
    "    \n",
    "    y_train = df_train.churn.values\n",
    "    y_val = df_val.churn.values\n",
    "    \n",
    "    dv, model = train(df_train,y_train)\n",
    "    y_pred = predict(df_val, dv, model)\n",
    "    \n",
    "    auc = roc_auc_score(y_val, y_pred)\n",
    "    scores.append(auc)"
   ],
   "id": "6bec613e210d390c",
   "outputs": [
    {
     "name": "stderr",
     "output_type": "stream",
     "text": [
      "C:\\Users\\Vikram\\anaconda3\\envs\\homl3\\lib\\site-packages\\sklearn\\linear_model\\_logistic.py:460: ConvergenceWarning: lbfgs failed to converge (status=1):\n",
      "STOP: TOTAL NO. of ITERATIONS REACHED LIMIT.\n",
      "\n",
      "Increase the number of iterations (max_iter) or scale the data as shown in:\n",
      "    https://scikit-learn.org/stable/modules/preprocessing.html\n",
      "Please also refer to the documentation for alternative solver options:\n",
      "    https://scikit-learn.org/stable/modules/linear_model.html#logistic-regression\n",
      "  n_iter_i = _check_optimize_result(\n",
      "C:\\Users\\Vikram\\anaconda3\\envs\\homl3\\lib\\site-packages\\sklearn\\linear_model\\_logistic.py:460: ConvergenceWarning: lbfgs failed to converge (status=1):\n",
      "STOP: TOTAL NO. of ITERATIONS REACHED LIMIT.\n",
      "\n",
      "Increase the number of iterations (max_iter) or scale the data as shown in:\n",
      "    https://scikit-learn.org/stable/modules/preprocessing.html\n",
      "Please also refer to the documentation for alternative solver options:\n",
      "    https://scikit-learn.org/stable/modules/linear_model.html#logistic-regression\n",
      "  n_iter_i = _check_optimize_result(\n",
      "C:\\Users\\Vikram\\anaconda3\\envs\\homl3\\lib\\site-packages\\sklearn\\linear_model\\_logistic.py:460: ConvergenceWarning: lbfgs failed to converge (status=1):\n",
      "STOP: TOTAL NO. of ITERATIONS REACHED LIMIT.\n",
      "\n",
      "Increase the number of iterations (max_iter) or scale the data as shown in:\n",
      "    https://scikit-learn.org/stable/modules/preprocessing.html\n",
      "Please also refer to the documentation for alternative solver options:\n",
      "    https://scikit-learn.org/stable/modules/linear_model.html#logistic-regression\n",
      "  n_iter_i = _check_optimize_result(\n",
      "C:\\Users\\Vikram\\anaconda3\\envs\\homl3\\lib\\site-packages\\sklearn\\linear_model\\_logistic.py:460: ConvergenceWarning: lbfgs failed to converge (status=1):\n",
      "STOP: TOTAL NO. of ITERATIONS REACHED LIMIT.\n",
      "\n",
      "Increase the number of iterations (max_iter) or scale the data as shown in:\n",
      "    https://scikit-learn.org/stable/modules/preprocessing.html\n",
      "Please also refer to the documentation for alternative solver options:\n",
      "    https://scikit-learn.org/stable/modules/linear_model.html#logistic-regression\n",
      "  n_iter_i = _check_optimize_result(\n",
      "C:\\Users\\Vikram\\anaconda3\\envs\\homl3\\lib\\site-packages\\sklearn\\linear_model\\_logistic.py:460: ConvergenceWarning: lbfgs failed to converge (status=1):\n",
      "STOP: TOTAL NO. of ITERATIONS REACHED LIMIT.\n",
      "\n",
      "Increase the number of iterations (max_iter) or scale the data as shown in:\n",
      "    https://scikit-learn.org/stable/modules/preprocessing.html\n",
      "Please also refer to the documentation for alternative solver options:\n",
      "    https://scikit-learn.org/stable/modules/linear_model.html#logistic-regression\n",
      "  n_iter_i = _check_optimize_result(\n"
     ]
    }
   ],
   "execution_count": 176
  },
  {
   "metadata": {
    "ExecuteTime": {
     "end_time": "2024-10-23T16:31:17.383477Z",
     "start_time": "2024-10-23T16:31:17.362350Z"
    }
   },
   "cell_type": "code",
   "source": "print('%.3f  %.3f' % (np.mean(scores), np.std(scores)))",
   "id": "56829fa149ba84d9",
   "outputs": [
    {
     "name": "stdout",
     "output_type": "stream",
     "text": [
      "0.841  0.013\n"
     ]
    }
   ],
   "execution_count": 180
  },
  {
   "metadata": {
    "ExecuteTime": {
     "end_time": "2024-10-23T16:45:43.972233Z",
     "start_time": "2024-10-23T16:45:43.707075Z"
    }
   },
   "cell_type": "code",
   "source": "from tqdm.auto import tqdm",
   "id": "c2bc7fc998bc71d7",
   "outputs": [],
   "execution_count": 182
  },
  {
   "metadata": {
    "ExecuteTime": {
     "end_time": "2024-10-23T16:50:42.799159Z",
     "start_time": "2024-10-23T16:50:28.434401Z"
    }
   },
   "cell_type": "code",
   "source": [
    "n_splits = 5\n",
    "for c in tqdm([0.001, 0.01, 0.1, 0.5, 1, 5, 10]):\n",
    "    scores = []\n",
    "    kfold = KFold(n_splits=n_splits, random_state=1, shuffle=True)\n",
    "    for train_idx, val_idx in kfold.split(df_full_train):\n",
    "        df_train = df_full_train.iloc[train_idx]\n",
    "        df_val = df_full_train.iloc[val_idx]\n",
    "        \n",
    "        y_train = df_train.churn.values\n",
    "        y_val = df_val.churn.values\n",
    "        \n",
    "        dv, model = train_reg(df_train,y_train, c=c)\n",
    "        y_pred = predict(df_val, dv, model)\n",
    "        \n",
    "        auc = roc_auc_score(y_val, y_pred)\n",
    "        scores.append(auc)\n",
    "    print('%s %.3f  %.3f' % (c, np.mean(scores), np.std(scores)))"
   ],
   "id": "d223aa47e95e96f9",
   "outputs": [
    {
     "data": {
      "text/plain": [
       "  0%|          | 0/7 [00:00<?, ?it/s]"
      ],
      "application/vnd.jupyter.widget-view+json": {
       "version_major": 2,
       "version_minor": 0,
       "model_id": "a9e9994315244a4890103684922ef351"
      }
     },
     "metadata": {},
     "output_type": "display_data"
    },
    {
     "name": "stdout",
     "output_type": "stream",
     "text": [
      "0.001 0.825  0.009\n",
      "0.01 0.840  0.009\n",
      "0.1 0.840  0.008\n",
      "0.5 0.841  0.007\n",
      "1 0.840  0.009\n",
      "5 0.841  0.008\n",
      "10 0.841  0.008\n"
     ]
    }
   ],
   "execution_count": 187
  },
  {
   "metadata": {
    "ExecuteTime": {
     "end_time": "2024-10-23T16:57:25.905254Z",
     "start_time": "2024-10-23T16:57:25.393362Z"
    }
   },
   "cell_type": "code",
   "source": [
    "dv, model = train_reg(df_full_train,df_full_train.churn.values, c=1)\n",
    "y_pred = predict(df_test, dv, model)\n",
    "\n",
    "auc = roc_auc_score(y_test, y_pred)\n",
    "auc"
   ],
   "id": "1f7f27496f8b4d9f",
   "outputs": [
    {
     "data": {
      "text/plain": [
       "0.8572386167896259"
      ]
     },
     "execution_count": 188,
     "metadata": {},
     "output_type": "execute_result"
    }
   ],
   "execution_count": 188
  },
  {
   "metadata": {},
   "cell_type": "code",
   "outputs": [],
   "execution_count": null,
   "source": "",
   "id": "402defe33c292ccb"
  }
 ],
 "metadata": {
  "kernelspec": {
   "display_name": "Python 3 (ipykernel)",
   "language": "python",
   "name": "python3"
  },
  "language_info": {
   "codemirror_mode": {
    "name": "ipython",
    "version": 3
   },
   "file_extension": ".py",
   "mimetype": "text/x-python",
   "name": "python",
   "nbconvert_exporter": "python",
   "pygments_lexer": "ipython3",
   "version": "3.10.15"
  }
 },
 "nbformat": 4,
 "nbformat_minor": 5
}
