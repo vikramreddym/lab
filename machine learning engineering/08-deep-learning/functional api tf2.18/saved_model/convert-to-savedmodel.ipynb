{
 "cells": [
  {
   "cell_type": "code",
   "id": "97d20bd0-57a4-4327-bab8-1d2da55f20c1",
   "metadata": {
    "tags": [],
    "ExecuteTime": {
     "end_time": "2024-12-27T23:24:21.646009Z",
     "start_time": "2024-12-27T23:24:18.787451Z"
    }
   },
   "source": [
    "import tensorflow as tf\n",
    "from tensorflow import keras"
   ],
   "outputs": [
    {
     "name": "stderr",
     "output_type": "stream",
     "text": [
      "2024-12-27 18:24:19.070207: E external/local_xla/xla/stream_executor/cuda/cuda_fft.cc:477] Unable to register cuFFT factory: Attempting to register factory for plugin cuFFT when one has already been registered\n",
      "WARNING: All log messages before absl::InitializeLog() is called are written to STDERR\n",
      "E0000 00:00:1735341859.093134  127433 cuda_dnn.cc:8310] Unable to register cuDNN factory: Attempting to register factory for plugin cuDNN when one has already been registered\n",
      "E0000 00:00:1735341859.099389  127433 cuda_blas.cc:1418] Unable to register cuBLAS factory: Attempting to register factory for plugin cuBLAS when one has already been registered\n",
      "2024-12-27 18:24:19.121762: I tensorflow/core/platform/cpu_feature_guard.cc:210] This TensorFlow binary is optimized to use available CPU instructions in performance-critical operations.\n",
      "To enable the following instructions: AVX2 FMA, in other operations, rebuild TensorFlow with the appropriate compiler flags.\n"
     ]
    }
   ],
   "execution_count": 1
  },
  {
   "cell_type": "code",
   "id": "d28f7406-764c-4501-a3df-88151fda680e",
   "metadata": {
    "tags": [],
    "ExecuteTime": {
     "end_time": "2024-12-27T23:24:21.653658Z",
     "start_time": "2024-12-27T23:24:21.650694Z"
    }
   },
   "source": [
    "\n",
    "model_path = \"xception_final_11_0.871.keras\""
   ],
   "outputs": [],
   "execution_count": 2
  },
  {
   "cell_type": "code",
   "id": "9bda92ab-ab5c-42d4-82bf-c19ec9db35b7",
   "metadata": {
    "tags": [],
    "ExecuteTime": {
     "end_time": "2024-12-27T23:24:27.504078Z",
     "start_time": "2024-12-27T23:24:21.839355Z"
    }
   },
   "source": [
    "model = keras.models.load_model(model_path)\n",
    "tf.saved_model.save(model, \"clothing-model\")"
   ],
   "outputs": [
    {
     "name": "stderr",
     "output_type": "stream",
     "text": [
      "I0000 00:00:1735341862.033425  127433 gpu_device.cc:2022] Created device /job:localhost/replica:0/task:0/device:GPU:0 with 10520 MB memory:  -> device: 0, name: NVIDIA GeForce GTX 1080 Ti, pci bus id: 0000:02:00.0, compute capability: 6.1\n"
     ]
    },
    {
     "ename": "TypeError",
     "evalue": "this __dict__ descriptor does not support '_DictWrapper' objects",
     "output_type": "error",
     "traceback": [
      "\u001B[0;31m---------------------------------------------------------------------------\u001B[0m",
      "\u001B[0;31mTypeError\u001B[0m                                 Traceback (most recent call last)",
      "Cell \u001B[0;32mIn[3], line 2\u001B[0m\n\u001B[1;32m      1\u001B[0m model \u001B[38;5;241m=\u001B[39m keras\u001B[38;5;241m.\u001B[39mmodels\u001B[38;5;241m.\u001B[39mload_model(model_path)\n\u001B[0;32m----> 2\u001B[0m tf\u001B[38;5;241m.\u001B[39msaved_model\u001B[38;5;241m.\u001B[39msave(model, \u001B[38;5;124m\"\u001B[39m\u001B[38;5;124mclothing-model\u001B[39m\u001B[38;5;124m\"\u001B[39m)\n",
      "File \u001B[0;32m~/miniconda3/envs/ml-zoomcamp/lib/python3.12/site-packages/tensorflow/python/saved_model/save.py:1432\u001B[0m, in \u001B[0;36msave\u001B[0;34m(obj, export_dir, signatures, options)\u001B[0m\n\u001B[1;32m   1430\u001B[0m \u001B[38;5;66;03m# pylint: enable=line-too-long\u001B[39;00m\n\u001B[1;32m   1431\u001B[0m metrics\u001B[38;5;241m.\u001B[39mIncrementWriteApi(_SAVE_V2_LABEL)\n\u001B[0;32m-> 1432\u001B[0m save_and_return_nodes(obj, export_dir, signatures, options)\n\u001B[1;32m   1434\u001B[0m metrics\u001B[38;5;241m.\u001B[39mIncrementWrite(write_version\u001B[38;5;241m=\u001B[39m\u001B[38;5;124m\"\u001B[39m\u001B[38;5;124m2\u001B[39m\u001B[38;5;124m\"\u001B[39m)\n",
      "File \u001B[0;32m~/miniconda3/envs/ml-zoomcamp/lib/python3.12/site-packages/tensorflow/python/saved_model/save.py:1467\u001B[0m, in \u001B[0;36msave_and_return_nodes\u001B[0;34m(obj, export_dir, signatures, options, experimental_skip_checkpoint)\u001B[0m\n\u001B[1;32m   1463\u001B[0m saved_model \u001B[38;5;241m=\u001B[39m saved_model_pb2\u001B[38;5;241m.\u001B[39mSavedModel()\n\u001B[1;32m   1464\u001B[0m meta_graph_def \u001B[38;5;241m=\u001B[39m saved_model\u001B[38;5;241m.\u001B[39mmeta_graphs\u001B[38;5;241m.\u001B[39madd()\n\u001B[1;32m   1466\u001B[0m _, exported_graph, object_saver, asset_info, saved_nodes, node_paths \u001B[38;5;241m=\u001B[39m (\n\u001B[0;32m-> 1467\u001B[0m     _build_meta_graph(obj, signatures, options, meta_graph_def))\n\u001B[1;32m   1468\u001B[0m saved_model\u001B[38;5;241m.\u001B[39msaved_model_schema_version \u001B[38;5;241m=\u001B[39m (\n\u001B[1;32m   1469\u001B[0m     constants\u001B[38;5;241m.\u001B[39mSAVED_MODEL_SCHEMA_VERSION)\n\u001B[1;32m   1471\u001B[0m \u001B[38;5;66;03m# Write the checkpoint, copy assets into the assets directory, and write out\u001B[39;00m\n\u001B[1;32m   1472\u001B[0m \u001B[38;5;66;03m# the SavedModel proto itself.\u001B[39;00m\n",
      "File \u001B[0;32m~/miniconda3/envs/ml-zoomcamp/lib/python3.12/site-packages/tensorflow/python/saved_model/save.py:1682\u001B[0m, in \u001B[0;36m_build_meta_graph\u001B[0;34m(obj, signatures, options, meta_graph_def)\u001B[0m\n\u001B[1;32m   1655\u001B[0m \u001B[38;5;250m\u001B[39m\u001B[38;5;124;03m\"\"\"Creates a MetaGraph under a save context.\u001B[39;00m\n\u001B[1;32m   1656\u001B[0m \n\u001B[1;32m   1657\u001B[0m \u001B[38;5;124;03mArgs:\u001B[39;00m\n\u001B[0;32m   (...)\u001B[0m\n\u001B[1;32m   1678\u001B[0m \u001B[38;5;124;03m  saveable_view.node_paths: _SaveableView paths.\u001B[39;00m\n\u001B[1;32m   1679\u001B[0m \u001B[38;5;124;03m\"\"\"\u001B[39;00m\n\u001B[1;32m   1681\u001B[0m \u001B[38;5;28;01mwith\u001B[39;00m save_context\u001B[38;5;241m.\u001B[39msave_context(options):\n\u001B[0;32m-> 1682\u001B[0m   \u001B[38;5;28;01mreturn\u001B[39;00m _build_meta_graph_impl(obj, signatures, options, meta_graph_def)\n",
      "File \u001B[0;32m~/miniconda3/envs/ml-zoomcamp/lib/python3.12/site-packages/tensorflow/python/saved_model/save.py:1604\u001B[0m, in \u001B[0;36m_build_meta_graph_impl\u001B[0;34m(obj, signatures, options, meta_graph_def)\u001B[0m\n\u001B[1;32m   1601\u001B[0m augmented_graph_view\u001B[38;5;241m.\u001B[39mset_signature(signature_map, wrapped_functions)\n\u001B[1;32m   1603\u001B[0m \u001B[38;5;66;03m# Use _SaveableView to provide a frozen listing of properties and functions.\u001B[39;00m\n\u001B[0;32m-> 1604\u001B[0m saveable_view \u001B[38;5;241m=\u001B[39m _SaveableView(augmented_graph_view, options)\n\u001B[1;32m   1605\u001B[0m object_saver \u001B[38;5;241m=\u001B[39m checkpoint\u001B[38;5;241m.\u001B[39mTrackableSaver(augmented_graph_view)\n\u001B[1;32m   1606\u001B[0m asset_info, exported_graph \u001B[38;5;241m=\u001B[39m _fill_meta_graph_def(\n\u001B[1;32m   1607\u001B[0m     meta_graph_def\u001B[38;5;241m=\u001B[39mmeta_graph_def,\n\u001B[1;32m   1608\u001B[0m     saveable_view\u001B[38;5;241m=\u001B[39msaveable_view,\n\u001B[0;32m   (...)\u001B[0m\n\u001B[1;32m   1614\u001B[0m     defaults\u001B[38;5;241m=\u001B[39mdefaults,\n\u001B[1;32m   1615\u001B[0m )\n",
      "File \u001B[0;32m~/miniconda3/envs/ml-zoomcamp/lib/python3.12/site-packages/tensorflow/python/saved_model/save.py:285\u001B[0m, in \u001B[0;36m_SaveableView.__init__\u001B[0;34m(self, augmented_graph_view, options)\u001B[0m\n\u001B[1;32m    280\u001B[0m \u001B[38;5;28mself\u001B[39m\u001B[38;5;241m.\u001B[39maugmented_graph_view \u001B[38;5;241m=\u001B[39m augmented_graph_view\n\u001B[1;32m    281\u001B[0m \u001B[38;5;28mself\u001B[39m\u001B[38;5;241m.\u001B[39moptions \u001B[38;5;241m=\u001B[39m options\n\u001B[1;32m    283\u001B[0m (\u001B[38;5;28mself\u001B[39m\u001B[38;5;241m.\u001B[39m_trackable_objects, \u001B[38;5;28mself\u001B[39m\u001B[38;5;241m.\u001B[39mnode_paths, \u001B[38;5;28mself\u001B[39m\u001B[38;5;241m.\u001B[39mnode_ids,\n\u001B[1;32m    284\u001B[0m  \u001B[38;5;28mself\u001B[39m\u001B[38;5;241m.\u001B[39m_slot_variables, \u001B[38;5;28mself\u001B[39m\u001B[38;5;241m.\u001B[39mobject_names) \u001B[38;5;241m=\u001B[39m (\n\u001B[0;32m--> 285\u001B[0m      checkpoint_util\u001B[38;5;241m.\u001B[39mobjects_ids_and_slot_variables_and_paths(\n\u001B[1;32m    286\u001B[0m          \u001B[38;5;28mself\u001B[39m\u001B[38;5;241m.\u001B[39maugmented_graph_view))\n\u001B[1;32m    288\u001B[0m untraced_functions \u001B[38;5;241m=\u001B[39m \u001B[38;5;28mself\u001B[39m\u001B[38;5;241m.\u001B[39maugmented_graph_view\u001B[38;5;241m.\u001B[39muntraced_functions\n\u001B[1;32m    289\u001B[0m \u001B[38;5;28;01mif\u001B[39;00m untraced_functions:\n",
      "File \u001B[0;32m~/miniconda3/envs/ml-zoomcamp/lib/python3.12/site-packages/tensorflow/python/checkpoint/util.py:160\u001B[0m, in \u001B[0;36mobjects_ids_and_slot_variables_and_paths\u001B[0;34m(graph_view, skip_slot_variables)\u001B[0m\n\u001B[1;32m    142\u001B[0m \u001B[38;5;28;01mdef\u001B[39;00m \u001B[38;5;21mobjects_ids_and_slot_variables_and_paths\u001B[39m(graph_view,\n\u001B[1;32m    143\u001B[0m                                              skip_slot_variables\u001B[38;5;241m=\u001B[39m\u001B[38;5;28;01mFalse\u001B[39;00m):\n\u001B[1;32m    144\u001B[0m \u001B[38;5;250m  \u001B[39m\u001B[38;5;124;03m\"\"\"Traverse the object graph and list all accessible objects.\u001B[39;00m\n\u001B[1;32m    145\u001B[0m \n\u001B[1;32m    146\u001B[0m \u001B[38;5;124;03m  Looks for `Trackable` objects which are dependencies of\u001B[39;00m\n\u001B[0;32m   (...)\u001B[0m\n\u001B[1;32m    158\u001B[0m \u001B[38;5;124;03m                object -> node id, slot variables, object_names)\u001B[39;00m\n\u001B[1;32m    159\u001B[0m \u001B[38;5;124;03m  \"\"\"\u001B[39;00m\n\u001B[0;32m--> 160\u001B[0m   trackable_objects, node_paths \u001B[38;5;241m=\u001B[39m graph_view\u001B[38;5;241m.\u001B[39mbreadth_first_traversal()\n\u001B[1;32m    161\u001B[0m   object_names \u001B[38;5;241m=\u001B[39m object_identity\u001B[38;5;241m.\u001B[39mObjectIdentityDictionary()\n\u001B[1;32m    162\u001B[0m   \u001B[38;5;28;01mfor\u001B[39;00m obj, path \u001B[38;5;129;01min\u001B[39;00m node_paths\u001B[38;5;241m.\u001B[39mitems():\n",
      "File \u001B[0;32m~/miniconda3/envs/ml-zoomcamp/lib/python3.12/site-packages/tensorflow/python/checkpoint/graph_view.py:124\u001B[0m, in \u001B[0;36mObjectGraphView.breadth_first_traversal\u001B[0;34m(self)\u001B[0m\n\u001B[1;32m    123\u001B[0m \u001B[38;5;28;01mdef\u001B[39;00m \u001B[38;5;21mbreadth_first_traversal\u001B[39m(\u001B[38;5;28mself\u001B[39m):\n\u001B[0;32m--> 124\u001B[0m   \u001B[38;5;28;01mreturn\u001B[39;00m \u001B[38;5;28mself\u001B[39m\u001B[38;5;241m.\u001B[39m_breadth_first_traversal()\n",
      "File \u001B[0;32m~/miniconda3/envs/ml-zoomcamp/lib/python3.12/site-packages/tensorflow/python/saved_model/save.py:156\u001B[0m, in \u001B[0;36m_AugmentedGraphView._breadth_first_traversal\u001B[0;34m(self)\u001B[0m\n\u001B[1;32m    151\u001B[0m \u001B[38;5;250m\u001B[39m\u001B[38;5;124;03m\"\"\"Returns all trackable objects in the SavedObjectGraph.\"\"\"\u001B[39;00m\n\u001B[1;32m    152\u001B[0m \u001B[38;5;66;03m# This method is overriden to merge all equivalent constant tensors and\u001B[39;00m\n\u001B[1;32m    153\u001B[0m \u001B[38;5;66;03m# Assets in the object graph.\u001B[39;00m\n\u001B[1;32m    155\u001B[0m trackable_objects, _ \u001B[38;5;241m=\u001B[39m (\n\u001B[0;32m--> 156\u001B[0m     \u001B[38;5;28msuper\u001B[39m(_AugmentedGraphView, \u001B[38;5;28mself\u001B[39m)\u001B[38;5;241m.\u001B[39m_breadth_first_traversal())\n\u001B[1;32m    158\u001B[0m asset_paths \u001B[38;5;241m=\u001B[39m object_identity\u001B[38;5;241m.\u001B[39mObjectIdentityDictionary()\n\u001B[1;32m    159\u001B[0m constant_captures \u001B[38;5;241m=\u001B[39m object_identity\u001B[38;5;241m.\u001B[39mObjectIdentityDictionary()\n",
      "File \u001B[0;32m~/miniconda3/envs/ml-zoomcamp/lib/python3.12/site-packages/tensorflow/python/checkpoint/graph_view.py:128\u001B[0m, in \u001B[0;36mObjectGraphView._breadth_first_traversal\u001B[0;34m(self)\u001B[0m\n\u001B[1;32m    126\u001B[0m \u001B[38;5;28;01mdef\u001B[39;00m \u001B[38;5;21m_breadth_first_traversal\u001B[39m(\u001B[38;5;28mself\u001B[39m):\n\u001B[1;32m    127\u001B[0m \u001B[38;5;250m  \u001B[39m\u001B[38;5;124;03m\"\"\"Find shortest paths to all dependencies of self.root.\"\"\"\u001B[39;00m\n\u001B[0;32m--> 128\u001B[0m   \u001B[38;5;28;01mreturn\u001B[39;00m \u001B[38;5;28msuper\u001B[39m(ObjectGraphView, \u001B[38;5;28mself\u001B[39m)\u001B[38;5;241m.\u001B[39m_descendants_with_paths()\n",
      "File \u001B[0;32m~/miniconda3/envs/ml-zoomcamp/lib/python3.12/site-packages/tensorflow/python/checkpoint/trackable_view.py:111\u001B[0m, in \u001B[0;36mTrackableView._descendants_with_paths\u001B[0;34m(self)\u001B[0m\n\u001B[1;32m    109\u001B[0m current_trackable \u001B[38;5;241m=\u001B[39m to_visit\u001B[38;5;241m.\u001B[39mpopleft()\n\u001B[1;32m    110\u001B[0m bfs_sorted\u001B[38;5;241m.\u001B[39mappend(current_trackable)\n\u001B[0;32m--> 111\u001B[0m \u001B[38;5;28;01mfor\u001B[39;00m name, dependency \u001B[38;5;129;01min\u001B[39;00m \u001B[38;5;28mself\u001B[39m\u001B[38;5;241m.\u001B[39mchildren(current_trackable)\u001B[38;5;241m.\u001B[39mitems():\n\u001B[1;32m    112\u001B[0m   \u001B[38;5;28;01mif\u001B[39;00m dependency \u001B[38;5;129;01mnot\u001B[39;00m \u001B[38;5;129;01min\u001B[39;00m node_paths:\n\u001B[1;32m    113\u001B[0m     node_paths[dependency] \u001B[38;5;241m=\u001B[39m (\n\u001B[1;32m    114\u001B[0m         node_paths[current_trackable] \u001B[38;5;241m+\u001B[39m\n\u001B[1;32m    115\u001B[0m         (base\u001B[38;5;241m.\u001B[39mTrackableReference(name, dependency),))\n",
      "File \u001B[0;32m~/miniconda3/envs/ml-zoomcamp/lib/python3.12/site-packages/tensorflow/python/checkpoint/graph_view.py:97\u001B[0m, in \u001B[0;36mObjectGraphView.children\u001B[0;34m(self, obj, save_type, **kwargs)\u001B[0m\n\u001B[1;32m     86\u001B[0m \u001B[38;5;250m\u001B[39m\u001B[38;5;124;03m\"\"\"Returns all child trackables attached to obj.\u001B[39;00m\n\u001B[1;32m     87\u001B[0m \n\u001B[1;32m     88\u001B[0m \u001B[38;5;124;03mArgs:\u001B[39;00m\n\u001B[0;32m   (...)\u001B[0m\n\u001B[1;32m     94\u001B[0m \u001B[38;5;124;03m  Dictionary of all children attached to the object with name to trackable.\u001B[39;00m\n\u001B[1;32m     95\u001B[0m \u001B[38;5;124;03m\"\"\"\u001B[39;00m\n\u001B[1;32m     96\u001B[0m children \u001B[38;5;241m=\u001B[39m {}\n\u001B[0;32m---> 97\u001B[0m \u001B[38;5;28;01mfor\u001B[39;00m name, ref \u001B[38;5;129;01min\u001B[39;00m \u001B[38;5;28mself\u001B[39m\u001B[38;5;241m.\u001B[39mlist_children(obj, \u001B[38;5;241m*\u001B[39m\u001B[38;5;241m*\u001B[39mkwargs):\n\u001B[1;32m     98\u001B[0m   children[name] \u001B[38;5;241m=\u001B[39m ref\n\u001B[1;32m     99\u001B[0m \u001B[38;5;28;01mreturn\u001B[39;00m children\n",
      "File \u001B[0;32m~/miniconda3/envs/ml-zoomcamp/lib/python3.12/site-packages/tensorflow/python/saved_model/save.py:190\u001B[0m, in \u001B[0;36m_AugmentedGraphView.list_children\u001B[0;34m(self, obj)\u001B[0m\n\u001B[1;32m    187\u001B[0m \u001B[38;5;28;01mif\u001B[39;00m obj \u001B[38;5;129;01mnot\u001B[39;00m \u001B[38;5;129;01min\u001B[39;00m \u001B[38;5;28mself\u001B[39m\u001B[38;5;241m.\u001B[39m_children_cache:\n\u001B[1;32m    188\u001B[0m   children \u001B[38;5;241m=\u001B[39m \u001B[38;5;28mself\u001B[39m\u001B[38;5;241m.\u001B[39m_children_cache[obj] \u001B[38;5;241m=\u001B[39m {}\n\u001B[0;32m--> 190\u001B[0m   \u001B[38;5;28;01mfor\u001B[39;00m name, child \u001B[38;5;129;01min\u001B[39;00m \u001B[38;5;28msuper\u001B[39m(_AugmentedGraphView, \u001B[38;5;28mself\u001B[39m)\u001B[38;5;241m.\u001B[39mlist_children(\n\u001B[1;32m    191\u001B[0m       obj,\n\u001B[1;32m    192\u001B[0m       save_type\u001B[38;5;241m=\u001B[39mbase\u001B[38;5;241m.\u001B[39mSaveType\u001B[38;5;241m.\u001B[39mSAVEDMODEL,\n\u001B[1;32m    193\u001B[0m       cache\u001B[38;5;241m=\u001B[39m\u001B[38;5;28mself\u001B[39m\u001B[38;5;241m.\u001B[39m_serialization_cache):\n\u001B[1;32m    194\u001B[0m     \u001B[38;5;28;01mif\u001B[39;00m \u001B[38;5;28misinstance\u001B[39m(child, defun\u001B[38;5;241m.\u001B[39mConcreteFunction):\n\u001B[1;32m    195\u001B[0m       child \u001B[38;5;241m=\u001B[39m \u001B[38;5;28mself\u001B[39m\u001B[38;5;241m.\u001B[39m_maybe_uncache_variable_captures(child)\n",
      "File \u001B[0;32m~/miniconda3/envs/ml-zoomcamp/lib/python3.12/site-packages/tensorflow/python/checkpoint/graph_view.py:75\u001B[0m, in \u001B[0;36mObjectGraphView.list_children\u001B[0;34m(self, obj, save_type, **kwargs)\u001B[0m\n\u001B[1;32m     64\u001B[0m \u001B[38;5;250m\u001B[39m\u001B[38;5;124;03m\"\"\"Returns list of all child trackables attached to obj.\u001B[39;00m\n\u001B[1;32m     65\u001B[0m \n\u001B[1;32m     66\u001B[0m \u001B[38;5;124;03mArgs:\u001B[39;00m\n\u001B[0;32m   (...)\u001B[0m\n\u001B[1;32m     72\u001B[0m \u001B[38;5;124;03m  List of all children attached to the object.\u001B[39;00m\n\u001B[1;32m     73\u001B[0m \u001B[38;5;124;03m\"\"\"\u001B[39;00m\n\u001B[1;32m     74\u001B[0m children \u001B[38;5;241m=\u001B[39m []\n\u001B[0;32m---> 75\u001B[0m \u001B[38;5;28;01mfor\u001B[39;00m name, ref \u001B[38;5;129;01min\u001B[39;00m \u001B[38;5;28msuper\u001B[39m(ObjectGraphView,\n\u001B[1;32m     76\u001B[0m                        \u001B[38;5;28mself\u001B[39m)\u001B[38;5;241m.\u001B[39mchildren(obj, save_type, \u001B[38;5;241m*\u001B[39m\u001B[38;5;241m*\u001B[39mkwargs)\u001B[38;5;241m.\u001B[39mitems():\n\u001B[1;32m     77\u001B[0m   children\u001B[38;5;241m.\u001B[39mappend(base\u001B[38;5;241m.\u001B[39mTrackableReference(name, ref))\n\u001B[1;32m     79\u001B[0m \u001B[38;5;66;03m# GraphView objects may define children of the root object that are not\u001B[39;00m\n\u001B[1;32m     80\u001B[0m \u001B[38;5;66;03m# actually attached, e.g. a Checkpoint object's save_counter.\u001B[39;00m\n",
      "File \u001B[0;32m~/miniconda3/envs/ml-zoomcamp/lib/python3.12/site-packages/tensorflow/python/checkpoint/trackable_view.py:85\u001B[0m, in \u001B[0;36mTrackableView.children\u001B[0;34m(cls, obj, save_type, **kwargs)\u001B[0m\n\u001B[1;32m     83\u001B[0m children \u001B[38;5;241m=\u001B[39m {}\n\u001B[1;32m     84\u001B[0m \u001B[38;5;28;01mfor\u001B[39;00m name, ref \u001B[38;5;129;01min\u001B[39;00m obj\u001B[38;5;241m.\u001B[39m_trackable_children(save_type, \u001B[38;5;241m*\u001B[39m\u001B[38;5;241m*\u001B[39mkwargs)\u001B[38;5;241m.\u001B[39mitems():\n\u001B[0;32m---> 85\u001B[0m   ref \u001B[38;5;241m=\u001B[39m converter\u001B[38;5;241m.\u001B[39mconvert_to_trackable(ref, parent\u001B[38;5;241m=\u001B[39mobj)\n\u001B[1;32m     86\u001B[0m   children[name] \u001B[38;5;241m=\u001B[39m ref\n\u001B[1;32m     87\u001B[0m \u001B[38;5;28;01mreturn\u001B[39;00m children\n",
      "File \u001B[0;32m~/miniconda3/envs/ml-zoomcamp/lib/python3.12/site-packages/tensorflow/python/trackable/converter.py:31\u001B[0m, in \u001B[0;36mconvert_to_trackable\u001B[0;34m(obj, parent)\u001B[0m\n\u001B[1;32m     29\u001B[0m   \u001B[38;5;28;01mreturn\u001B[39;00m obj\n\u001B[1;32m     30\u001B[0m obj \u001B[38;5;241m=\u001B[39m data_structures\u001B[38;5;241m.\u001B[39mwrap_or_unwrap(obj)\n\u001B[0;32m---> 31\u001B[0m \u001B[38;5;28;01mif\u001B[39;00m (tensor_util\u001B[38;5;241m.\u001B[39mis_tf_type(obj) \u001B[38;5;129;01mand\u001B[39;00m\n\u001B[1;32m     32\u001B[0m     obj\u001B[38;5;241m.\u001B[39mdtype \u001B[38;5;129;01mnot\u001B[39;00m \u001B[38;5;129;01min\u001B[39;00m (dtypes\u001B[38;5;241m.\u001B[39mvariant, dtypes\u001B[38;5;241m.\u001B[39mresource) \u001B[38;5;129;01mand\u001B[39;00m\n\u001B[1;32m     33\u001B[0m     \u001B[38;5;129;01mnot\u001B[39;00m resource_variable_ops\u001B[38;5;241m.\u001B[39mis_resource_variable(obj)):\n\u001B[1;32m     34\u001B[0m   \u001B[38;5;28;01mreturn\u001B[39;00m saved_model_utils\u001B[38;5;241m.\u001B[39mTrackableConstant(obj, parent)\n\u001B[1;32m     35\u001B[0m \u001B[38;5;28;01mif\u001B[39;00m \u001B[38;5;129;01mnot\u001B[39;00m \u001B[38;5;28misinstance\u001B[39m(obj, base\u001B[38;5;241m.\u001B[39mTrackable):\n",
      "File \u001B[0;32m~/miniconda3/envs/ml-zoomcamp/lib/python3.12/site-packages/tensorflow/python/framework/tensor_util.py:1163\u001B[0m, in \u001B[0;36mis_tf_type\u001B[0;34m(x)\u001B[0m\n\u001B[1;32m   1135\u001B[0m \u001B[38;5;129m@tf_export\u001B[39m(\u001B[38;5;124m\"\u001B[39m\u001B[38;5;124mis_tensor\u001B[39m\u001B[38;5;124m\"\u001B[39m)\n\u001B[1;32m   1136\u001B[0m \u001B[38;5;28;01mdef\u001B[39;00m \u001B[38;5;21mis_tf_type\u001B[39m(x):  \u001B[38;5;66;03m# pylint: disable=invalid-name\u001B[39;00m\n\u001B[1;32m   1137\u001B[0m \u001B[38;5;250m  \u001B[39m\u001B[38;5;124;03m\"\"\"Checks whether `x` is a TF-native type that can be passed to many TF ops.\u001B[39;00m\n\u001B[1;32m   1138\u001B[0m \n\u001B[1;32m   1139\u001B[0m \u001B[38;5;124;03m  Use `is_tensor` to differentiate types that can ingested by TensorFlow ops\u001B[39;00m\n\u001B[0;32m   (...)\u001B[0m\n\u001B[1;32m   1161\u001B[0m \u001B[38;5;124;03m    `True` if `x` is a TensorFlow-native type.\u001B[39;00m\n\u001B[1;32m   1162\u001B[0m \u001B[38;5;124;03m  \"\"\"\u001B[39;00m\n\u001B[0;32m-> 1163\u001B[0m   \u001B[38;5;28;01mreturn\u001B[39;00m \u001B[38;5;28misinstance\u001B[39m(x, tf_type_classes)\n",
      "File \u001B[0;32m~/miniconda3/envs/ml-zoomcamp/lib/python3.12/typing.py:1921\u001B[0m, in \u001B[0;36m_ProtocolMeta.__instancecheck__\u001B[0;34m(cls, instance)\u001B[0m\n\u001B[1;32m   1919\u001B[0m \u001B[38;5;28;01mfor\u001B[39;00m attr \u001B[38;5;129;01min\u001B[39;00m \u001B[38;5;28mcls\u001B[39m\u001B[38;5;241m.\u001B[39m__protocol_attrs__:\n\u001B[1;32m   1920\u001B[0m     \u001B[38;5;28;01mtry\u001B[39;00m:\n\u001B[0;32m-> 1921\u001B[0m         val \u001B[38;5;241m=\u001B[39m getattr_static(instance, attr)\n\u001B[1;32m   1922\u001B[0m     \u001B[38;5;28;01mexcept\u001B[39;00m \u001B[38;5;167;01mAttributeError\u001B[39;00m:\n\u001B[1;32m   1923\u001B[0m         \u001B[38;5;28;01mbreak\u001B[39;00m\n",
      "File \u001B[0;32m~/miniconda3/envs/ml-zoomcamp/lib/python3.12/inspect.py:1860\u001B[0m, in \u001B[0;36mgetattr_static\u001B[0;34m(obj, attr, default)\u001B[0m\n\u001B[1;32m   1857\u001B[0m     dict_attr \u001B[38;5;241m=\u001B[39m _shadowed_dict(klass)\n\u001B[1;32m   1858\u001B[0m     \u001B[38;5;28;01mif\u001B[39;00m (dict_attr \u001B[38;5;129;01mis\u001B[39;00m _sentinel \u001B[38;5;129;01mor\u001B[39;00m\n\u001B[1;32m   1859\u001B[0m         \u001B[38;5;28mtype\u001B[39m(dict_attr) \u001B[38;5;129;01mis\u001B[39;00m types\u001B[38;5;241m.\u001B[39mMemberDescriptorType):\n\u001B[0;32m-> 1860\u001B[0m         instance_result \u001B[38;5;241m=\u001B[39m _check_instance(obj, attr)\n\u001B[1;32m   1861\u001B[0m \u001B[38;5;28;01melse\u001B[39;00m:\n\u001B[1;32m   1862\u001B[0m     klass \u001B[38;5;241m=\u001B[39m obj\n",
      "File \u001B[0;32m~/miniconda3/envs/ml-zoomcamp/lib/python3.12/inspect.py:1796\u001B[0m, in \u001B[0;36m_check_instance\u001B[0;34m(obj, attr)\u001B[0m\n\u001B[1;32m   1794\u001B[0m instance_dict \u001B[38;5;241m=\u001B[39m {}\n\u001B[1;32m   1795\u001B[0m \u001B[38;5;28;01mtry\u001B[39;00m:\n\u001B[0;32m-> 1796\u001B[0m     instance_dict \u001B[38;5;241m=\u001B[39m \u001B[38;5;28mobject\u001B[39m\u001B[38;5;241m.\u001B[39m\u001B[38;5;21m__getattribute__\u001B[39m(obj, \u001B[38;5;124m\"\u001B[39m\u001B[38;5;124m__dict__\u001B[39m\u001B[38;5;124m\"\u001B[39m)\n\u001B[1;32m   1797\u001B[0m \u001B[38;5;28;01mexcept\u001B[39;00m \u001B[38;5;167;01mAttributeError\u001B[39;00m:\n\u001B[1;32m   1798\u001B[0m     \u001B[38;5;28;01mpass\u001B[39;00m\n",
      "\u001B[0;31mTypeError\u001B[0m: this __dict__ descriptor does not support '_DictWrapper' objects"
     ]
    }
   ],
   "execution_count": 3
  },
  {
   "cell_type": "code",
   "execution_count": null,
   "id": "495e8638-1a0f-4244-a0e8-50a25eb55d96",
   "metadata": {},
   "outputs": [],
   "source": []
  }
 ],
 "metadata": {
  "kernelspec": {
   "display_name": "Python 3 (ipykernel)",
   "language": "python",
   "name": "python3"
  },
  "language_info": {
   "codemirror_mode": {
    "name": "ipython",
    "version": 3
   },
   "file_extension": ".py",
   "mimetype": "text/x-python",
   "name": "python",
   "nbconvert_exporter": "python",
   "pygments_lexer": "ipython3",
   "version": "3.10.15"
  }
 },
 "nbformat": 4,
 "nbformat_minor": 5
}
