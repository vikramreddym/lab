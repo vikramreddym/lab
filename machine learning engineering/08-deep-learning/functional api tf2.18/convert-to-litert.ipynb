{
 "cells": [
  {
   "cell_type": "code",
   "id": "initial_id",
   "metadata": {
    "collapsed": true
   },
   "source": [
    "import numpy as np\n",
    "import tensorflow as tf\n",
    "import tensorflow.lite as tflite\n",
    "from tensorflow import keras\n",
    "from tensorflow.keras.applications.xception import preprocess_input\n",
    "from tensorflow.keras.utils import img_to_array, load_img"
   ],
   "outputs": [],
   "execution_count": null
  },
  {
   "metadata": {},
   "cell_type": "markdown",
   "source": "Conversion",
   "id": "601f032c8fedb0df"
  },
  {
   "metadata": {},
   "cell_type": "code",
   "source": [
    "model_path = \"xception_final_11_0.871.keras\"\n",
    "# model = keras.models.load_model(model_path, custom_objects={\"CustomModel\": CustomModel})\n",
    "model = keras.models.load_model(\n",
    "    model_path,\n",
    ")"
   ],
   "id": "8612b9282b6b39c8",
   "outputs": [],
   "execution_count": null
  },
  {
   "metadata": {},
   "cell_type": "code",
   "source": [
    "converter = tflite.TFLiteConverter.from_keras_model(model)\n",
    "tflite_model = converter.convert()\n",
    "with open(\"clothing-model.tflite\", \"wb\") as f_out:\n",
    "    f_out.write(tflite_model)"
   ],
   "id": "92c1c93e28462310",
   "outputs": [],
   "execution_count": null
  },
  {
   "metadata": {},
   "cell_type": "markdown",
   "source": "Using the litert model",
   "id": "8be8a26062c66671"
  },
  {
   "metadata": {},
   "cell_type": "code",
   "source": [
    "# Preprocess a single image\n",
    "def preprocess_image(image_path, input_size=299):\n",
    "    \"\"\"Preprocess an image for prediction.\"\"\"\n",
    "    img = load_img(image_path, target_size=(input_size, input_size))\n",
    "    img_array = img_to_array(img)\n",
    "    img_array = np.expand_dims(img_array, axis=0)  # Add batch dimension\n",
    "    img_array = preprocess_input(img_array)  # Preprocessing specific to Xception\n",
    "    return img_array"
   ],
   "id": "c054525d8006d8ba",
   "outputs": [],
   "execution_count": null
  },
  {
   "metadata": {},
   "cell_type": "code",
   "source": [
    "test_image_path = (\n",
    "    \"../data/clothing-dataset-small/test/shoes/0dd87e47-ca85-4d5c-9fd1-59f5a01eb656.jpg\"\n",
    ")\n",
    "input_size = 299\n",
    "class_names = [\n",
    "    \"dress\",\n",
    "    \"hat\",\n",
    "    \"longsleeve\",\n",
    "    \"outwear\",\n",
    "    \"pants\",\n",
    "    \"shirt\",\n",
    "    \"shoes\",\n",
    "    \"shorts\",\n",
    "    \"skirt\",\n",
    "    \"t-shirt\",\n",
    "]"
   ],
   "id": "2c0fb1eda2e4c74e",
   "outputs": [],
   "execution_count": null
  },
  {
   "metadata": {},
   "cell_type": "code",
   "source": [
    "interpreter = tflite.Interpreter(model_path=\"clothing-model.tflite\")\n",
    "interpreter.allocate_tensors()\n",
    "input_index = interpreter.get_input_details()[0][\"index\"]\n",
    "output_index = interpreter.get_output_details()[0][\"index\"]"
   ],
   "id": "5d7307f54bbbc472",
   "outputs": [],
   "execution_count": null
  },
  {
   "metadata": {},
   "cell_type": "code",
   "source": [
    "preprocessed_image = preprocess_image(test_image_path, input_size)\n",
    "interpreter.set_tensor(input_index, preprocessed_image)\n",
    "interpreter.invoke()"
   ],
   "id": "624b094b85ec3778",
   "outputs": [],
   "execution_count": null
  },
  {
   "metadata": {},
   "cell_type": "code",
   "source": [
    "preds = interpreter.get_tensor(output_index)\n",
    "predicted_class = class_names[np.argmax(preds[0])]\n",
    "scores = dict(zip(class_names, preds[0]))\n",
    "print(f\"Predicted class: {predicted_class}\\nscores: {scores}\")"
   ],
   "id": "b8c640cb985a3d3c",
   "outputs": [],
   "execution_count": null
  }
 ],
 "metadata": {
  "kernelspec": {
   "display_name": "Python 3",
   "language": "python",
   "name": "python3"
  },
  "language_info": {
   "codemirror_mode": {
    "name": "ipython",
    "version": 2
   },
   "file_extension": ".py",
   "mimetype": "text/x-python",
   "name": "python",
   "nbconvert_exporter": "python",
   "pygments_lexer": "ipython2",
   "version": "2.7.6"
  }
 },
 "nbformat": 4,
 "nbformat_minor": 5
}
