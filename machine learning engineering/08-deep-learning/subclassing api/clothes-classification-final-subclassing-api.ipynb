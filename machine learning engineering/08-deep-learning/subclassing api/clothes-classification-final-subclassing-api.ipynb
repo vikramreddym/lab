{
 "cells": [
  {
   "metadata": {},
   "cell_type": "markdown",
   "source": [
    "# Training using Subclassing API\n",
    "Class implementation to store metadata"
   ],
   "id": "74e983604d7b61b6"
  },
  {
   "metadata": {},
   "cell_type": "markdown",
   "source": "a) Training",
   "id": "6192cc7c2c2ed097"
  },
  {
   "metadata": {
    "ExecuteTime": {
     "end_time": "2024-12-24T20:33:28.645739Z",
     "start_time": "2024-12-24T20:33:25.675728Z"
    }
   },
   "cell_type": "code",
   "source": [
    "import numpy as np\n",
    "import tensorflow as tf\n",
    "from tensorflow import keras\n",
    "from tensorflow.keras import layers\n",
    "from tensorflow.keras.applications.xception import Xception, preprocess_input\n",
    "from tensorflow.keras.utils import (\n",
    "    image_dataset_from_directory,\n",
    "    img_to_array,\n",
    "    load_img,\n",
    "    register_keras_serializable,\n",
    ")"
   ],
   "id": "b71f48e7ac1dfa44",
   "outputs": [
    {
     "name": "stderr",
     "output_type": "stream",
     "text": [
      "2024-12-24 15:33:26.063240: E external/local_xla/xla/stream_executor/cuda/cuda_fft.cc:477] Unable to register cuFFT factory: Attempting to register factory for plugin cuFFT when one has already been registered\n",
      "WARNING: All log messages before absl::InitializeLog() is called are written to STDERR\n",
      "E0000 00:00:1735072406.092373   32711 cuda_dnn.cc:8310] Unable to register cuDNN factory: Attempting to register factory for plugin cuDNN when one has already been registered\n",
      "E0000 00:00:1735072406.103218   32711 cuda_blas.cc:1418] Unable to register cuBLAS factory: Attempting to register factory for plugin cuBLAS when one has already been registered\n",
      "2024-12-24 15:33:26.130993: I tensorflow/core/platform/cpu_feature_guard.cc:210] This TensorFlow binary is optimized to use available CPU instructions in performance-critical operations.\n",
      "To enable the following instructions: AVX2 FMA, in other operations, rebuild TensorFlow with the appropriate compiler flags.\n"
     ]
    }
   ],
   "execution_count": 1
  },
  {
   "metadata": {
    "ExecuteTime": {
     "end_time": "2024-12-24T20:33:28.660935Z",
     "start_time": "2024-12-24T20:33:28.653760Z"
    }
   },
   "cell_type": "code",
   "source": [
    "tf.__version__"
   ],
   "id": "cc2fe430da7f22c2",
   "outputs": [
    {
     "data": {
      "text/plain": [
       "'2.18.0'"
      ]
     },
     "execution_count": 2,
     "metadata": {},
     "output_type": "execute_result"
    }
   ],
   "execution_count": 2
  },
  {
   "metadata": {
    "ExecuteTime": {
     "end_time": "2024-12-24T20:33:28.942896Z",
     "start_time": "2024-12-24T20:33:28.859379Z"
    }
   },
   "cell_type": "code",
   "source": [
    "# incrementally use GPU memory as needed instead of allocating all at once\n",
    "gpus = tf.config.experimental.list_physical_devices(\"GPU\")\n",
    "tf.config.experimental.set_memory_growth(gpus[0], True)"
   ],
   "id": "3de0510908da2aed",
   "outputs": [],
   "execution_count": 3
  },
  {
   "metadata": {
    "ExecuteTime": {
     "end_time": "2024-12-24T20:33:29.818403Z",
     "start_time": "2024-12-24T20:33:29.809287Z"
    }
   },
   "cell_type": "code",
   "source": [
    "@register_keras_serializable(package=\"Custom\")\n",
    "class CustomModel(keras.Model):\n",
    "    def __init__(\n",
    "        self,\n",
    "        input_size,\n",
    "        num_classes,\n",
    "        size_inner=100,\n",
    "        droprate=0.5,\n",
    "        metadata=None,\n",
    "        **kwargs,\n",
    "    ):\n",
    "        super().__init__(**kwargs)\n",
    "        self.input_size = input_size\n",
    "        self.num_classes = num_classes\n",
    "        self.size_inner = size_inner\n",
    "        self.droprate = droprate\n",
    "        self.metadata = metadata  # Metadata for saving class names and input size\n",
    "\n",
    "        # Base Model (Xception)\n",
    "        self.base_model = Xception(\n",
    "            weights=\"imagenet\",\n",
    "            include_top=False,\n",
    "            input_shape=(input_size, input_size, 3),\n",
    "        )\n",
    "        self.base_model.trainable = False\n",
    "\n",
    "        # Layers for the custom model\n",
    "        self.global_pool = layers.GlobalAveragePooling2D()\n",
    "        self.inner_dense = layers.Dense(size_inner, activation=\"relu\")\n",
    "        self.dropout = layers.Dropout(droprate)\n",
    "        self.output_layer = layers.Dense(num_classes)\n",
    "\n",
    "    def call(self, inputs, training=False):\n",
    "        x = self.base_model(inputs, training=False)\n",
    "        x = self.global_pool(x)\n",
    "        x = self.inner_dense(x)\n",
    "        x = self.dropout(x, training=training)\n",
    "        return self.output_layer(x)\n",
    "\n",
    "    def get_config(self):\n",
    "        # Include metadata in the configuration\n",
    "        config = super().get_config()\n",
    "        config.update(\n",
    "            {\n",
    "                \"input_size\": self.input_size,\n",
    "                \"num_classes\": self.num_classes,\n",
    "                \"size_inner\": self.size_inner,\n",
    "                \"droprate\": self.droprate,\n",
    "                \"metadata\": self.metadata,\n",
    "            }\n",
    "        )\n",
    "        return config\n",
    "\n",
    "    @classmethod\n",
    "    def from_config(cls, config):\n",
    "        metadata = config.pop(\"metadata\", None)\n",
    "        return cls(metadata=metadata, **config)"
   ],
   "id": "7cc577cad6d33ac8",
   "outputs": [],
   "execution_count": 4
  },
  {
   "metadata": {
    "ExecuteTime": {
     "end_time": "2024-12-24T20:33:31.194345Z",
     "start_time": "2024-12-24T20:33:31.189897Z"
    }
   },
   "cell_type": "code",
   "source": [
    "def make_model(\n",
    "    input_size, learning_rate, class_names, metadata, size_inner=100, droprate=0.5\n",
    "):\n",
    "    model = CustomModel(\n",
    "        input_size=input_size,\n",
    "        num_classes=len(class_names),\n",
    "        size_inner=size_inner,\n",
    "        droprate=droprate,\n",
    "        metadata=metadata,\n",
    "    )\n",
    "    optimizer = keras.optimizers.Adam(learning_rate=learning_rate)\n",
    "    loss_fn = keras.losses.CategoricalCrossentropy(from_logits=True)\n",
    "    model.compile(optimizer=optimizer, loss=loss_fn, metrics=[\"accuracy\"])\n",
    "    return model"
   ],
   "id": "7d8b4dda5619be15",
   "outputs": [],
   "execution_count": 5
  },
  {
   "metadata": {
    "ExecuteTime": {
     "end_time": "2024-12-24T20:33:32.962740Z",
     "start_time": "2024-12-24T20:33:32.959288Z"
    }
   },
   "cell_type": "code",
   "source": [
    "# Best parameters\n",
    "best_size = 100\n",
    "best_droprate = 0.2\n",
    "best_lr = 0.001\n",
    "input_size = 299"
   ],
   "id": "3012619175d4e653",
   "outputs": [],
   "execution_count": 6
  },
  {
   "metadata": {
    "ExecuteTime": {
     "end_time": "2024-12-24T20:33:34.490645Z",
     "start_time": "2024-12-24T20:33:34.342780Z"
    }
   },
   "cell_type": "code",
   "source": [
    "# Define data augmentation layers\n",
    "data_augmentation = keras.Sequential(\n",
    "    [\n",
    "        layers.RandomFlip(\"vertical\"),  # Equivalent to vertical_flip=True\n",
    "        layers.RandomRotation(0.01),  # Approximation of shear_range\n",
    "        layers.RandomZoom(height_factor=0.1),  # Equivalent to zoom_range=0.1\n",
    "    ]\n",
    ")"
   ],
   "id": "7ae9066e4a05cdeb",
   "outputs": [
    {
     "name": "stderr",
     "output_type": "stream",
     "text": [
      "I0000 00:00:1735072414.445530   32711 gpu_device.cc:2022] Created device /job:localhost/replica:0/task:0/device:GPU:0 with 119 MB memory:  -> device: 0, name: NVIDIA GeForce GTX 1080 Ti, pci bus id: 0000:02:00.0, compute capability: 6.1\n"
     ]
    }
   ],
   "execution_count": 7
  },
  {
   "metadata": {
    "ExecuteTime": {
     "end_time": "2024-12-24T20:34:09.754390Z",
     "start_time": "2024-12-24T20:34:08.302697Z"
    }
   },
   "cell_type": "code",
   "source": [
    "# Load the dataset\n",
    "train_ds = image_dataset_from_directory(\n",
    "    \"../data/clothing-dataset-small/train\",\n",
    "    image_size=(input_size, input_size),\n",
    "    batch_size=32,\n",
    "    label_mode=\"categorical\",\n",
    ")\n",
    "\n",
    "class_names = train_ds.class_names\n",
    "metadata = {\"class_names\": class_names}\n",
    "\n",
    "train_ds = train_ds.map(\n",
    "    lambda x, y: (\n",
    "        data_augmentation(preprocess_input(x)),\n",
    "        y,\n",
    "    ),\n",
    "    num_parallel_calls=tf.data.AUTOTUNE,\n",
    ")\n",
    "\n",
    "# Load the dataset\n",
    "val_ds = image_dataset_from_directory(\n",
    "    \"../data/clothing-dataset-small/validation\",\n",
    "    image_size=(input_size, input_size),\n",
    "    batch_size=32,\n",
    "    label_mode=\"categorical\",\n",
    "    shuffle=False,\n",
    ")\n",
    "\n",
    "val_ds = val_ds.map(\n",
    "    lambda x, y: (preprocess_input(x), y),\n",
    "    num_parallel_calls=tf.data.AUTOTUNE,\n",
    ")"
   ],
   "id": "c05249f491b8a15a",
   "outputs": [
    {
     "name": "stdout",
     "output_type": "stream",
     "text": [
      "Found 3068 files belonging to 10 classes.\n",
      "Found 341 files belonging to 10 classes.\n"
     ]
    }
   ],
   "execution_count": 9
  },
  {
   "metadata": {
    "ExecuteTime": {
     "end_time": "2024-12-24T16:34:37.199044Z",
     "start_time": "2024-12-24T16:34:37.191994Z"
    }
   },
   "cell_type": "code",
   "source": [
    "# Prefetch for performance\n",
    "train_ds = train_ds.prefetch(buffer_size=tf.data.AUTOTUNE)\n",
    "val_ds = val_ds.prefetch(buffer_size=tf.data.AUTOTUNE)"
   ],
   "id": "8c2cedeef0106b9",
   "outputs": [],
   "execution_count": 9
  },
  {
   "metadata": {
    "ExecuteTime": {
     "end_time": "2024-12-24T16:34:37.644666Z",
     "start_time": "2024-12-24T16:34:37.639857Z"
    }
   },
   "cell_type": "code",
   "source": [
    "checkpoint = keras.callbacks.ModelCheckpoint(\n",
    "    \"xception_final_{epoch:02d}_{val_accuracy:.3f}.keras\",\n",
    "    save_best_only=True,\n",
    "    monitor=\"val_accuracy\",\n",
    "    mode=\"max\",\n",
    ")"
   ],
   "id": "d0f778da934d863e",
   "outputs": [],
   "execution_count": 10
  },
  {
   "metadata": {
    "jupyter": {
     "is_executing": true
    },
    "ExecuteTime": {
     "end_time": "2024-12-24T16:43:27.042025066Z",
     "start_time": "2024-12-24T16:34:44.818379Z"
    }
   },
   "cell_type": "code",
   "source": [
    "model = make_model(input_size, best_lr, class_names, metadata, best_size, best_droprate)\n",
    "history = model.fit(\n",
    "    train_ds, epochs=50, validation_data=val_ds, callbacks=[checkpoint], verbose=1\n",
    ")"
   ],
   "id": "82b683269e23c0c2",
   "outputs": [
    {
     "name": "stdout",
     "output_type": "stream",
     "text": [
      "Epoch 1/50\n"
     ]
    },
    {
     "name": "stderr",
     "output_type": "stream",
     "text": [
      "WARNING: All log messages before absl::InitializeLog() is called are written to STDERR\n",
      "I0000 00:00:1735058092.550747   19213 service.cc:148] XLA service 0x77e45443b440 initialized for platform CUDA (this does not guarantee that XLA will be used). Devices:\n",
      "I0000 00:00:1735058092.550778   19213 service.cc:156]   StreamExecutor device (0): NVIDIA GeForce GTX 1080 Ti, Compute Capability 6.1\n",
      "2024-12-24 11:34:52.863898: I tensorflow/compiler/mlir/tensorflow/utils/dump_mlir_util.cc:268] disabling MLIR crash reproducer, set env var `MLIR_CRASH_REPRODUCER_DIRECTORY` to enable.\n",
      "I0000 00:00:1735058093.708177   19213 cuda_dnn.cc:529] Loaded cuDNN version 90300\n",
      "2024-12-24 11:34:56.069448: W external/local_xla/xla/tsl/framework/bfc_allocator.cc:306] Allocator (GPU_0_bfc) ran out of memory trying to allocate 10.09GiB with freed_by_count=0. The caller indicates that this is not a failure, but this may mean that there could be performance gains if more memory were available.\n",
      "2024-12-24 11:34:56.887660: W external/local_xla/xla/tsl/framework/bfc_allocator.cc:378] Garbage collection: deallocate free memory regions (i.e., allocations) so that we can re-allocate a larger region to avoid OOM due to memory fragmentation. If you see this message frequently, you are running near the threshold of the available device memory and re-allocation may incur great performance overhead. You may try smaller batch sizes to observe the performance impact. Set TF_ENABLE_GPU_GARBAGE_COLLECTION=false if you'd like to disable this feature.\n",
      "2024-12-24 11:34:58.830437: W external/local_xla/xla/tsl/framework/bfc_allocator.cc:306] Allocator (GPU_0_bfc) ran out of memory trying to allocate 17.43GiB with freed_by_count=0. The caller indicates that this is not a failure, but this may mean that there could be performance gains if more memory were available.\n",
      "2024-12-24 11:35:00.579020: W external/local_xla/xla/service/gpu/nvptx_compiler.cc:930] The NVIDIA driver's CUDA version is 12.4 which is older than the PTX compiler version 12.5.82. Because the driver is older than the PTX compiler version, XLA is disabling parallel compilation, which may slow down compilation. You should update your NVIDIA driver or use the NVIDIA-provided CUDA forward compatibility packages.\n"
     ]
    },
    {
     "name": "stdout",
     "output_type": "stream",
     "text": [
      "\u001B[1m 1/96\u001B[0m \u001B[37m━━━━━━━━━━━━━━━━━━━━\u001B[0m \u001B[1m23:54\u001B[0m 15s/step - accuracy: 0.1562 - loss: 2.2959"
     ]
    },
    {
     "name": "stderr",
     "output_type": "stream",
     "text": [
      "I0000 00:00:1735058101.726702   19213 device_compiler.h:188] Compiled cluster using XLA!  This line is logged at most once for the lifetime of the process.\n"
     ]
    },
    {
     "name": "stdout",
     "output_type": "stream",
     "text": [
      "\u001B[1m95/96\u001B[0m \u001B[32m━━━━━━━━━━━━━━━━━━━\u001B[0m\u001B[37m━\u001B[0m \u001B[1m0s\u001B[0m 136ms/step - accuracy: 0.5614 - loss: 1.3392"
     ]
    },
    {
     "name": "stderr",
     "output_type": "stream",
     "text": [
      "2024-12-24 11:35:18.880615: W external/local_xla/xla/tsl/framework/bfc_allocator.cc:306] Allocator (GPU_0_bfc) ran out of memory trying to allocate 9.84GiB with freed_by_count=0. The caller indicates that this is not a failure, but this may mean that there could be performance gains if more memory were available.\n",
      "E0000 00:00:1735058119.725974   19209 gpu_timer.cc:82] Delay kernel timed out: measured time has sub-optimal accuracy. There may be a missing warmup execution, please investigate in Nsight Systems.\n",
      "E0000 00:00:1735058119.954156   19209 gpu_timer.cc:82] Delay kernel timed out: measured time has sub-optimal accuracy. There may be a missing warmup execution, please investigate in Nsight Systems.\n",
      "E0000 00:00:1735058121.288767   19209 gpu_timer.cc:82] Delay kernel timed out: measured time has sub-optimal accuracy. There may be a missing warmup execution, please investigate in Nsight Systems.\n",
      "E0000 00:00:1735058121.553803   19209 gpu_timer.cc:82] Delay kernel timed out: measured time has sub-optimal accuracy. There may be a missing warmup execution, please investigate in Nsight Systems.\n",
      "2024-12-24 11:35:23.215175: W external/local_xla/xla/tsl/framework/bfc_allocator.cc:306] Allocator (GPU_0_bfc) ran out of memory trying to allocate 17.34GiB with freed_by_count=0. The caller indicates that this is not a failure, but this may mean that there could be performance gains if more memory were available.\n"
     ]
    },
    {
     "name": "stdout",
     "output_type": "stream",
     "text": [
      "\u001B[1m96/96\u001B[0m \u001B[32m━━━━━━━━━━━━━━━━━━━━\u001B[0m\u001B[37m\u001B[0m \u001B[1m0s\u001B[0m 262ms/step - accuracy: 0.5625 - loss: 1.3359"
     ]
    },
    {
     "name": "stderr",
     "output_type": "stream",
     "text": [
      "2024-12-24 11:35:32.346825: W external/local_xla/xla/tsl/framework/bfc_allocator.cc:306] Allocator (GPU_0_bfc) ran out of memory trying to allocate 9.40GiB with freed_by_count=0. The caller indicates that this is not a failure, but this may mean that there could be performance gains if more memory were available.\n",
      "E0000 00:00:1735058132.825025   19212 gpu_timer.cc:82] Delay kernel timed out: measured time has sub-optimal accuracy. There may be a missing warmup execution, please investigate in Nsight Systems.\n",
      "E0000 00:00:1735058133.050873   19212 gpu_timer.cc:82] Delay kernel timed out: measured time has sub-optimal accuracy. There may be a missing warmup execution, please investigate in Nsight Systems.\n",
      "E0000 00:00:1735058133.704786   19212 gpu_timer.cc:82] Delay kernel timed out: measured time has sub-optimal accuracy. There may be a missing warmup execution, please investigate in Nsight Systems.\n",
      "E0000 00:00:1735058133.966677   19212 gpu_timer.cc:82] Delay kernel timed out: measured time has sub-optimal accuracy. There may be a missing warmup execution, please investigate in Nsight Systems.\n",
      "2024-12-24 11:35:34.883110: W external/local_xla/xla/tsl/framework/bfc_allocator.cc:306] Allocator (GPU_0_bfc) ran out of memory trying to allocate 17.18GiB with freed_by_count=0. The caller indicates that this is not a failure, but this may mean that there could be performance gains if more memory were available.\n"
     ]
    },
    {
     "name": "stdout",
     "output_type": "stream",
     "text": [
      "\u001B[1m96/96\u001B[0m \u001B[32m━━━━━━━━━━━━━━━━━━━━\u001B[0m\u001B[37m\u001B[0m \u001B[1m51s\u001B[0m 377ms/step - accuracy: 0.5636 - loss: 1.3328 - val_accuracy: 0.8270 - val_loss: 0.5355\n",
      "Epoch 2/50\n",
      "\u001B[1m96/96\u001B[0m \u001B[32m━━━━━━━━━━━━━━━━━━━━\u001B[0m\u001B[37m\u001B[0m \u001B[1m15s\u001B[0m 145ms/step - accuracy: 0.7812 - loss: 0.6670 - val_accuracy: 0.8446 - val_loss: 0.5066\n",
      "Epoch 3/50\n",
      "\u001B[1m96/96\u001B[0m \u001B[32m━━━━━━━━━━━━━━━━━━━━\u001B[0m\u001B[37m\u001B[0m \u001B[1m15s\u001B[0m 144ms/step - accuracy: 0.8110 - loss: 0.5693 - val_accuracy: 0.8534 - val_loss: 0.4379\n",
      "Epoch 4/50\n",
      "\u001B[1m96/96\u001B[0m \u001B[32m━━━━━━━━━━━━━━━━━━━━\u001B[0m\u001B[37m\u001B[0m \u001B[1m15s\u001B[0m 142ms/step - accuracy: 0.8251 - loss: 0.5136 - val_accuracy: 0.8446 - val_loss: 0.4294\n",
      "Epoch 5/50\n",
      "\u001B[1m96/96\u001B[0m \u001B[32m━━━━━━━━━━━━━━━━━━━━\u001B[0m\u001B[37m\u001B[0m \u001B[1m15s\u001B[0m 143ms/step - accuracy: 0.8238 - loss: 0.5128 - val_accuracy: 0.8504 - val_loss: 0.4419\n",
      "Epoch 6/50\n",
      "\u001B[1m96/96\u001B[0m \u001B[32m━━━━━━━━━━━━━━━━━━━━\u001B[0m\u001B[37m\u001B[0m \u001B[1m15s\u001B[0m 142ms/step - accuracy: 0.8705 - loss: 0.4282 - val_accuracy: 0.8416 - val_loss: 0.4255\n",
      "Epoch 7/50\n",
      "\u001B[1m96/96\u001B[0m \u001B[32m━━━━━━━━━━━━━━━━━━━━\u001B[0m\u001B[37m\u001B[0m \u001B[1m15s\u001B[0m 146ms/step - accuracy: 0.8487 - loss: 0.4285 - val_accuracy: 0.8358 - val_loss: 0.4714\n",
      "Epoch 8/50\n",
      "\u001B[1m96/96\u001B[0m \u001B[32m━━━━━━━━━━━━━━━━━━━━\u001B[0m\u001B[37m\u001B[0m \u001B[1m15s\u001B[0m 148ms/step - accuracy: 0.8774 - loss: 0.3751 - val_accuracy: 0.8592 - val_loss: 0.4325\n",
      "Epoch 9/50\n",
      "\u001B[1m96/96\u001B[0m \u001B[32m━━━━━━━━━━━━━━━━━━━━\u001B[0m\u001B[37m\u001B[0m \u001B[1m14s\u001B[0m 140ms/step - accuracy: 0.8804 - loss: 0.3608 - val_accuracy: 0.8387 - val_loss: 0.4662\n",
      "Epoch 10/50\n",
      "\u001B[1m96/96\u001B[0m \u001B[32m━━━━━━━━━━━━━━━━━━━━\u001B[0m\u001B[37m\u001B[0m \u001B[1m15s\u001B[0m 137ms/step - accuracy: 0.8766 - loss: 0.3533 - val_accuracy: 0.8358 - val_loss: 0.4613\n",
      "Epoch 11/50\n",
      "\u001B[1m96/96\u001B[0m \u001B[32m━━━━━━━━━━━━━━━━━━━━\u001B[0m\u001B[37m\u001B[0m \u001B[1m15s\u001B[0m 141ms/step - accuracy: 0.8896 - loss: 0.3280 - val_accuracy: 0.8504 - val_loss: 0.4204\n",
      "Epoch 12/50\n",
      "\u001B[1m96/96\u001B[0m \u001B[32m━━━━━━━━━━━━━━━━━━━━\u001B[0m\u001B[37m\u001B[0m \u001B[1m14s\u001B[0m 138ms/step - accuracy: 0.8886 - loss: 0.3298 - val_accuracy: 0.8240 - val_loss: 0.4801\n",
      "Epoch 13/50\n",
      "\u001B[1m96/96\u001B[0m \u001B[32m━━━━━━━━━━━━━━━━━━━━\u001B[0m\u001B[37m\u001B[0m \u001B[1m15s\u001B[0m 143ms/step - accuracy: 0.9010 - loss: 0.2926 - val_accuracy: 0.8416 - val_loss: 0.4411\n",
      "Epoch 14/50\n",
      "\u001B[1m96/96\u001B[0m \u001B[32m━━━━━━━━━━━━━━━━━━━━\u001B[0m\u001B[37m\u001B[0m \u001B[1m14s\u001B[0m 138ms/step - accuracy: 0.9026 - loss: 0.2702 - val_accuracy: 0.8592 - val_loss: 0.4189\n",
      "Epoch 15/50\n",
      "\u001B[1m96/96\u001B[0m \u001B[32m━━━━━━━━━━━━━━━━━━━━\u001B[0m\u001B[37m\u001B[0m \u001B[1m14s\u001B[0m 136ms/step - accuracy: 0.9207 - loss: 0.2287 - val_accuracy: 0.8328 - val_loss: 0.4772\n",
      "Epoch 16/50\n",
      "\u001B[1m96/96\u001B[0m \u001B[32m━━━━━━━━━━━━━━━━━━━━\u001B[0m\u001B[37m\u001B[0m \u001B[1m14s\u001B[0m 139ms/step - accuracy: 0.9213 - loss: 0.2466 - val_accuracy: 0.8592 - val_loss: 0.4306\n",
      "Epoch 17/50\n",
      "\u001B[1m96/96\u001B[0m \u001B[32m━━━━━━━━━━━━━━━━━━━━\u001B[0m\u001B[37m\u001B[0m \u001B[1m14s\u001B[0m 138ms/step - accuracy: 0.9232 - loss: 0.2288 - val_accuracy: 0.8299 - val_loss: 0.5459\n",
      "Epoch 18/50\n",
      "\u001B[1m96/96\u001B[0m \u001B[32m━━━━━━━━━━━━━━━━━━━━\u001B[0m\u001B[37m\u001B[0m \u001B[1m15s\u001B[0m 144ms/step - accuracy: 0.9179 - loss: 0.2578 - val_accuracy: 0.8622 - val_loss: 0.4402\n",
      "Epoch 19/50\n",
      "\u001B[1m96/96\u001B[0m \u001B[32m━━━━━━━━━━━━━━━━━━━━\u001B[0m\u001B[37m\u001B[0m \u001B[1m17s\u001B[0m 168ms/step - accuracy: 0.9282 - loss: 0.2142 - val_accuracy: 0.8651 - val_loss: 0.4403\n",
      "Epoch 20/50\n",
      "\u001B[1m96/96\u001B[0m \u001B[32m━━━━━━━━━━━━━━━━━━━━\u001B[0m\u001B[37m\u001B[0m \u001B[1m15s\u001B[0m 143ms/step - accuracy: 0.9241 - loss: 0.2117 - val_accuracy: 0.8416 - val_loss: 0.4629\n",
      "Epoch 21/50\n",
      "\u001B[1m96/96\u001B[0m \u001B[32m━━━━━━━━━━━━━━━━━━━━\u001B[0m\u001B[37m\u001B[0m \u001B[1m14s\u001B[0m 136ms/step - accuracy: 0.9290 - loss: 0.2026 - val_accuracy: 0.8592 - val_loss: 0.4215\n",
      "Epoch 22/50\n",
      "\u001B[1m96/96\u001B[0m \u001B[32m━━━━━━━━━━━━━━━━━━━━\u001B[0m\u001B[37m\u001B[0m \u001B[1m14s\u001B[0m 138ms/step - accuracy: 0.9373 - loss: 0.1949 - val_accuracy: 0.8622 - val_loss: 0.4456\n",
      "Epoch 23/50\n",
      "\u001B[1m96/96\u001B[0m \u001B[32m━━━━━━━━━━━━━━━━━━━━\u001B[0m\u001B[37m\u001B[0m \u001B[1m14s\u001B[0m 140ms/step - accuracy: 0.9371 - loss: 0.1876 - val_accuracy: 0.8592 - val_loss: 0.4561\n",
      "Epoch 24/50\n",
      "\u001B[1m96/96\u001B[0m \u001B[32m━━━━━━━━━━━━━━━━━━━━\u001B[0m\u001B[37m\u001B[0m \u001B[1m14s\u001B[0m 139ms/step - accuracy: 0.9440 - loss: 0.1829 - val_accuracy: 0.8651 - val_loss: 0.4283\n",
      "Epoch 25/50\n",
      "\u001B[1m96/96\u001B[0m \u001B[32m━━━━━━━━━━━━━━━━━━━━\u001B[0m\u001B[37m\u001B[0m \u001B[1m14s\u001B[0m 136ms/step - accuracy: 0.9442 - loss: 0.1734 - val_accuracy: 0.8446 - val_loss: 0.4970\n",
      "Epoch 26/50\n",
      "\u001B[1m96/96\u001B[0m \u001B[32m━━━━━━━━━━━━━━━━━━━━\u001B[0m\u001B[37m\u001B[0m \u001B[1m14s\u001B[0m 136ms/step - accuracy: 0.9369 - loss: 0.1748 - val_accuracy: 0.8622 - val_loss: 0.4701\n",
      "Epoch 27/50\n",
      "\u001B[1m96/96\u001B[0m \u001B[32m━━━━━━━━━━━━━━━━━━━━\u001B[0m\u001B[37m\u001B[0m \u001B[1m14s\u001B[0m 139ms/step - accuracy: 0.9309 - loss: 0.1810 - val_accuracy: 0.8446 - val_loss: 0.4786\n",
      "Epoch 28/50\n",
      "\u001B[1m96/96\u001B[0m \u001B[32m━━━━━━━━━━━━━━━━━━━━\u001B[0m\u001B[37m\u001B[0m \u001B[1m15s\u001B[0m 142ms/step - accuracy: 0.9442 - loss: 0.1689 - val_accuracy: 0.8534 - val_loss: 0.4438\n",
      "Epoch 29/50\n",
      "\u001B[1m96/96\u001B[0m \u001B[32m━━━━━━━━━━━━━━━━━━━━\u001B[0m\u001B[37m\u001B[0m \u001B[1m14s\u001B[0m 137ms/step - accuracy: 0.9528 - loss: 0.1518 - val_accuracy: 0.8504 - val_loss: 0.4903\n",
      "Epoch 30/50\n",
      "\u001B[1m96/96\u001B[0m \u001B[32m━━━━━━━━━━━━━━━━━━━━\u001B[0m\u001B[37m\u001B[0m \u001B[1m14s\u001B[0m 138ms/step - accuracy: 0.9626 - loss: 0.1219 - val_accuracy: 0.8475 - val_loss: 0.4760\n",
      "Epoch 31/50\n",
      "\u001B[1m96/96\u001B[0m \u001B[32m━━━━━━━━━━━━━━━━━━━━\u001B[0m\u001B[37m\u001B[0m \u001B[1m14s\u001B[0m 140ms/step - accuracy: 0.9488 - loss: 0.1552 - val_accuracy: 0.8563 - val_loss: 0.4759\n",
      "Epoch 32/50\n",
      "\u001B[1m96/96\u001B[0m \u001B[32m━━━━━━━━━━━━━━━━━━━━\u001B[0m\u001B[37m\u001B[0m \u001B[1m14s\u001B[0m 138ms/step - accuracy: 0.9501 - loss: 0.1544 - val_accuracy: 0.8563 - val_loss: 0.4723\n",
      "Epoch 33/50\n",
      "\u001B[1m96/96\u001B[0m \u001B[32m━━━━━━━━━━━━━━━━━━━━\u001B[0m\u001B[37m\u001B[0m \u001B[1m15s\u001B[0m 146ms/step - accuracy: 0.9498 - loss: 0.1410 - val_accuracy: 0.8680 - val_loss: 0.4788\n",
      "Epoch 34/50\n",
      "\u001B[1m17/96\u001B[0m \u001B[32m━━━\u001B[0m\u001B[37m━━━━━━━━━━━━━━━━━\u001B[0m \u001B[1m10s\u001B[0m 134ms/step - accuracy: 0.9418 - loss: 0.1401"
     ]
    }
   ],
   "execution_count": null
  },
  {
   "metadata": {},
   "cell_type": "markdown",
   "source": "# Using the model",
   "id": "76e3fd1f8979d94d"
  },
  {
   "metadata": {},
   "cell_type": "code",
   "source": [
    "model = keras.models.load_model(\"xception_final_14_0.871.keras\")"
   ],
   "id": "dcdbbace79114c2c",
   "outputs": [],
   "execution_count": null
  },
  {
   "metadata": {},
   "cell_type": "code",
   "source": [
    "input_size = model.input_size\n",
    "class_names = model.metadata[\"class_names\"]"
   ],
   "id": "6b00426d0109e0aa",
   "outputs": [],
   "execution_count": null
  },
  {
   "metadata": {},
   "cell_type": "markdown",
   "source": "a) test dataset evaluation",
   "id": "c0a76cf9f1b610da"
  },
  {
   "metadata": {},
   "cell_type": "code",
   "source": [
    "# Load the dataset\n",
    "test_ds = image_dataset_from_directory(\n",
    "    \"data/clothing-dataset-small/test\",\n",
    "    image_size=(input_size, input_size),\n",
    "    batch_size=32,\n",
    "    label_mode=\"categorical\",\n",
    "    shuffle=False,\n",
    ")\n",
    "\n",
    "test_ds = test_ds.map(\n",
    "    lambda x, y: (preprocess_input(x), y),\n",
    "    num_parallel_calls=tf.data.AUTOTUNE,\n",
    ")"
   ],
   "id": "e11e4a12209b9382",
   "outputs": [],
   "execution_count": null
  },
  {
   "metadata": {},
   "cell_type": "code",
   "source": [
    "loss, accuracy = model.evaluate(test_ds)\n",
    "\n",
    "print(f\"Test Loss: {loss}\")\n",
    "print(f\"Test Accuracy: {accuracy}\")"
   ],
   "id": "43782eba9401ee3c",
   "outputs": [],
   "execution_count": null
  },
  {
   "metadata": {},
   "cell_type": "markdown",
   "source": "b) single image prediction",
   "id": "e262cc026e68478e"
  },
  {
   "metadata": {},
   "cell_type": "code",
   "source": [
    "path = \"data/clothing-dataset-small/test/shoes/0dd87e47-ca85-4d5c-9fd1-59f5a01eb656.jpg\"\n",
    "img = load_img(path, target_size=(input_size, input_size))\n",
    "x = img_to_array(img)\n",
    "X = tf.expand_dims(x, 0)\n",
    "X.shape"
   ],
   "id": "e6240b75b5d87f30",
   "outputs": [],
   "execution_count": null
  },
  {
   "metadata": {},
   "cell_type": "code",
   "source": "img",
   "id": "9fca64bf7f1e7640",
   "outputs": [],
   "execution_count": null
  },
  {
   "metadata": {},
   "cell_type": "code",
   "source": [
    "X = preprocess_input(X)\n",
    "pred = model.predict(X)"
   ],
   "id": "8a4029c1321001c2",
   "outputs": [],
   "execution_count": null
  },
  {
   "metadata": {},
   "cell_type": "code",
   "source": [
    "predicted_class = class_names[tf.argmax(pred[0])]\n",
    "predicted_class"
   ],
   "id": "1cdf3a95e6889ef",
   "outputs": [],
   "execution_count": null
  },
  {
   "metadata": {},
   "cell_type": "code",
   "source": [
    "dict(zip(class_names, pred[0]))"
   ],
   "id": "39bb33ad883e580d",
   "outputs": [],
   "execution_count": null
  },
  {
   "metadata": {},
   "cell_type": "code",
   "source": "",
   "id": "7bdd403caa9e533",
   "outputs": [],
   "execution_count": null
  }
 ],
 "metadata": {
  "kernelspec": {
   "display_name": "Python 3",
   "language": "python",
   "name": "python3"
  },
  "language_info": {
   "codemirror_mode": {
    "name": "ipython",
    "version": 2
   },
   "file_extension": ".py",
   "mimetype": "text/x-python",
   "name": "python",
   "nbconvert_exporter": "python",
   "pygments_lexer": "ipython2",
   "version": "2.7.6"
  }
 },
 "nbformat": 4,
 "nbformat_minor": 5
}
